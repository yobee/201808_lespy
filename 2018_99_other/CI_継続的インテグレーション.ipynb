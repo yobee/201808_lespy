{
 "cells": [
  {
   "cell_type": "markdown",
   "metadata": {},
   "source": [
    "# 継続的インテグレーション（CI)"
   ]
  },
  {
   "cell_type": "markdown",
   "metadata": {},
   "source": [
    "継続的インテグレーションとは、開発工程全体（コンパイル、テスト、レポーティングなど）を自動的に何度も繰り返す開発手法です。  \n",
    "略してCIです。開発工程全体を頻繁に繰り返すため、問題を早期発見ができます。"
   ]
  },
  {
   "cell_type": "markdown",
   "metadata": {},
   "source": [
    "### 僕の現状の開発環境では。。。\n",
    "#### ①開発環境  \n",
    " プログラム開発を行う環境\n",
    "　本番まで移行されているないソースもある。\n",
    " プロトタイプ（試作）のソースコードもありソースコードが本番と違う。\n",
    " \n",
    "\n",
    "#### ②リリース環境  \n",
    " 本番環境に上げるためのテスト環境\n",
    " 開発環境ではプログラムのゴミも多く、本番とはかけ離れた環境であるため本番に限りなく近い環境でテストする必要があり、リリース環境が存在している。大きいプロジェクトになればこの環境が複数あったりします。\n",
    " \n",
    "\n",
    "#### ③本番環境  \n",
    "　サービスとして使用する環境です。\n"
   ]
  },
  {
   "cell_type": "code",
   "execution_count": null,
   "metadata": {},
   "outputs": [],
   "source": []
  },
  {
   "cell_type": "markdown",
   "metadata": {},
   "source": [
    "### 開発工程に存在するリスク"
   ]
  },
  {
   "cell_type": "markdown",
   "metadata": {},
   "source": [
    "CIを理解するために、プログラムを書いて本番環境にリリスするまでの開発工程が大きく３つあります。  \n",
    " -1.開発環境でソースコードを作成する。\n",
    "- 2.ソースコードをバージョン管理システムにコミットし、リモートリポジトリにプッシュする。\n",
    "- 3.本番環境へリリース作業をする。"
   ]
  },
  {
   "cell_type": "markdown",
   "metadata": {},
   "source": [
    "2と３の工程では以下のようなミスが起きがちです。  \n",
    "#### 1ソースコードのコミットもれ。リリース対象のプログラムをコミットし忘れている。\n",
    "#### 依存ライブラリのインストール漏れ。特定のpythonモジュールがないと動かないプログラムを書いて、そのモジュールのインストールを忘れている。  \n",
    "#### 前に自分で修正したプログラムを修正を合わせて修正したり。    \n",
    "#### 複数にで開発、修正作業をしており、その修正が影響して修正したものがエラーになったり相手の修正が気づけない。"
   ]
  },
  {
   "cell_type": "markdown",
   "metadata": {},
   "source": [
    "これらのミスはあらかじめテストコードを書き、CIサーバーでリリース前にテストを実行すれば、事前に発見できる可能性が高まる。"
   ]
  },
  {
   "cell_type": "markdown",
   "metadata": {},
   "source": [
    "１日に何度もソースコードに対してテストコートを実行する作業を一日何度も定期的に実行していれば、それだけ早期に問題を発見できます。"
   ]
  },
  {
   "cell_type": "markdown",
   "metadata": {},
   "source": [
    "## 運用方法\n",
    "- オンプレかクラウドで自前でサーバーを立て運用する。\n",
    "- CI機能を提供するサービスを使用す。\n",
    "\n",
    "<img src='other01.png'>"
   ]
  },
  {
   "cell_type": "markdown",
   "metadata": {},
   "source": [
    "### 今回はCircleCI で説明します"
   ]
  },
  {
   "cell_type": "markdown",
   "metadata": {},
   "source": [
    "GitHubなどと連携しているネット上のCIサービスです。  \n",
    "GitHubなどのリポジトリホスティングサービスと連携して使うのが前提です。"
   ]
  },
  {
   "cell_type": "markdown",
   "metadata": {},
   "source": [
    "### CircleCIアカウント作成"
   ]
  },
  {
   "cell_type": "markdown",
   "metadata": {},
   "source": [
    "https://circleci.com/vcs-authorize/"
   ]
  },
  {
   "cell_type": "markdown",
   "metadata": {},
   "source": [
    "今回はbitbucketを使ったのを前提にします。  \n",
    "\n"
   ]
  },
  {
   "cell_type": "markdown",
   "metadata": {},
   "source": [
    "heroku関するドキュメントで確認する。  \n",
    "https://circleci.com/docs/2.0/deployment-integrations/#heroku"
   ]
  },
  {
   "cell_type": "markdown",
   "metadata": {},
   "source": [
    "Herokuは、クラウド内のアプリケーションをホスティングするための一般的なプラットフォームです。アプリケーションをHerokuにデプロイするようにCircleCIを設定するには、以下の手順に従います。\n",
    "\n",
    "1.Herokuアカウントを作成し、HerokuのGetting Startedマニュアルに従って、選択した言語でプロジェクトを設定します。\n",
    "\n",
    "2.Herokuアプリケーションの名前とHeroku APIキーを環境変数として追加します。手順については、プロジェクト環境変数の追加を参照してください。この例では、これらの変数はそれぞれ、HEROKU_APP_NAMEと定義されていHEROKU_API_KEYます。\n",
    "\n",
    "3.あなた.circleci/config.ymlのdeploy仕事では、エグゼキュータタイプを追加してください。指示については、「Executor Typeの選択」を参照してください。\n",
    "\n",
    "4.コードをチェックアウトし、gitを使用してHerokuにマスターブランチをデプロイするコマンドを追加します。"
   ]
  },
  {
   "cell_type": "code",
   "execution_count": null,
   "metadata": {},
   "outputs": [],
   "source": []
  }
 ],
 "metadata": {
  "kernelspec": {
   "display_name": "Python 3",
   "language": "python",
   "name": "python3"
  },
  "language_info": {
   "codemirror_mode": {
    "name": "ipython",
    "version": 3
   },
   "file_extension": ".py",
   "mimetype": "text/x-python",
   "name": "python",
   "nbconvert_exporter": "python",
   "pygments_lexer": "ipython3",
   "version": "3.7.0"
  }
 },
 "nbformat": 4,
 "nbformat_minor": 2
}
