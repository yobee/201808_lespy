{
 "cells": [
  {
   "cell_type": "code",
   "execution_count": 2,
   "metadata": {
    "collapsed": true
   },
   "outputs": [
    {
     "name": "stdout",
     "output_type": "stream",
     "text": [
      "Collecting requests\n",
      "\u001b[?25l  Downloading https://files.pythonhosted.org/packages/7d/e3/20f3d364d6c8e5d2353c72a67778eb189176f08e873c9900e10c0287b84b/requests-2.21.0-py2.py3-none-any.whl (57kB)\n",
      "\u001b[K    100% |████████████████████████████████| 61kB 1.2MB/s ta 0:00:01\n",
      "\u001b[?25hCollecting chardet<3.1.0,>=3.0.2 (from requests)\n",
      "  Using cached https://files.pythonhosted.org/packages/bc/a9/01ffebfb562e4274b6487b4bb1ddec7ca55ec7510b22e4c51f14098443b8/chardet-3.0.4-py2.py3-none-any.whl\n",
      "Collecting idna<2.9,>=2.5 (from requests)\n",
      "\u001b[?25l  Downloading https://files.pythonhosted.org/packages/14/2c/cd551d81dbe15200be1cf41cd03869a46fe7226e7450af7a6545bfc474c9/idna-2.8-py2.py3-none-any.whl (58kB)\n",
      "\u001b[K    100% |████████████████████████████████| 61kB 10.7MB/s ta 0:00:01\n",
      "\u001b[?25hCollecting certifi>=2017.4.17 (from requests)\n",
      "\u001b[?25l  Downloading https://files.pythonhosted.org/packages/9f/e0/accfc1b56b57e9750eba272e24c4dddeac86852c2bebd1236674d7887e8a/certifi-2018.11.29-py2.py3-none-any.whl (154kB)\n",
      "\u001b[K    100% |████████████████████████████████| 163kB 3.3MB/s ta 0:00:01\n",
      "\u001b[?25hCollecting urllib3<1.25,>=1.21.1 (from requests)\n",
      "\u001b[?25l  Downloading https://files.pythonhosted.org/packages/62/00/ee1d7de624db8ba7090d1226aebefab96a2c71cd5cfa7629d6ad3f61b79e/urllib3-1.24.1-py2.py3-none-any.whl (118kB)\n",
      "\u001b[K    100% |████████████████████████████████| 122kB 18.6MB/s ta 0:00:01\n",
      "\u001b[?25hInstalling collected packages: chardet, idna, certifi, urllib3, requests\n",
      "Successfully installed certifi-2018.11.29 chardet-3.0.4 idna-2.8 requests-2.21.0 urllib3-1.24.1\n"
     ]
    }
   ],
   "source": [
    "!pip install requests"
   ]
  },
  {
   "cell_type": "code",
   "execution_count": 10,
   "metadata": {},
   "outputs": [
    {
     "name": "stdout",
     "output_type": "stream",
     "text": [
      "+ 都市= Tokyo\n",
      "| 天気= few clouds\n",
      "| 最低気温= 7.800000000000011\n",
      "| 最高気温= 9.0\n",
      "| 湿度= 31\n",
      "| 気圧= 1022\n",
      "| 風向き= 340\n",
      "| 風速度= 6.7\n",
      "\n",
      "+ 都市= London\n",
      "| 天気= light rain\n",
      "| 最低気温= 1.0\n",
      "| 最高気温= 4.0\n",
      "| 湿度= 74\n",
      "| 気圧= 1012\n",
      "| 風向き= 120\n",
      "| 風速度= 3.1\n",
      "\n",
      "+ 都市= New York\n",
      "| 天気= mist\n",
      "| 最低気温= -2.0\n",
      "| 最高気温= 2.2000000000000455\n",
      "| 湿度= 81\n",
      "| 気圧= 1021\n",
      "| 風向き= 288.004\n",
      "| 風速度= 1.61\n",
      "\n"
     ]
    }
   ],
   "source": [
    "import requests\n",
    "import json\n",
    "\n",
    "# APIキーの指定\n",
    "apikey = \"1c446adf94afc7e53e61d7eabd6a9577\"\n",
    "\n",
    "# 天気を調べたい都市の一覧 \n",
    "cities = [\"Tokyo,JP\", \"London,UK\", \"New York,US\"]\n",
    "# APIのひな型\n",
    "api = \"http://api.openweathermap.org/data/2.5/weather?q={city}&APPID={key}\"\n",
    "# 温度変換(ケルビン→摂氏)\n",
    "k2c = lambda k: k - 273.15\n",
    "\n",
    "# 各都市の温度を取得する\n",
    "for name in cities:\n",
    "    # APIのURLを得る\n",
    "    url = api.format(city=name, key=apikey)\n",
    "    # 実際にAPIにリクエストを送信して結果を取得する\n",
    "    r = requests.get(url)\n",
    "    # 結果はJSON形式なのでデコードする\n",
    "    data = json.loads(r.text)    \n",
    "    # 結果を出力\n",
    "    print(\"+ 都市=\", data['name'])\n",
    "    print(\"| 天気=\", data[\"weather\"][0][\"description\"])\n",
    "    print(\"| 最低気温=\", k2c(data[\"main\"][\"temp_min\"]))\n",
    "    print(\"| 最高気温=\", k2c(data[\"main\"][\"temp_max\"]))\n",
    "    print(\"| 湿度=\", data[\"main\"][\"humidity\"])\n",
    "    print(\"| 気圧=\", data[\"main\"][\"pressure\"])\n",
    "    print(\"| 風向き=\", data[\"wind\"][\"deg\"])\n",
    "    print(\"| 風速度=\", data[\"wind\"][\"speed\"])\n",
    "    print(\"\")\n"
   ]
  },
  {
   "cell_type": "code",
   "execution_count": null,
   "metadata": {},
   "outputs": [],
   "source": []
  }
 ],
 "metadata": {
  "kernelspec": {
   "display_name": "Python 3",
   "language": "python",
   "name": "python3"
  },
  "language_info": {
   "codemirror_mode": {
    "name": "ipython",
    "version": 3
   },
   "file_extension": ".py",
   "mimetype": "text/x-python",
   "name": "python",
   "nbconvert_exporter": "python",
   "pygments_lexer": "ipython3",
   "version": "3.7.0"
  }
 },
 "nbformat": 4,
 "nbformat_minor": 2
}
