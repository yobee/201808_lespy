{
 "cells": [
  {
   "cell_type": "markdown",
   "metadata": {},
   "source": [
    "# SendGrid"
   ]
  },
  {
   "cell_type": "markdown",
   "metadata": {},
   "source": [
    "SendGridはトランザクション型電子メールを送信するための人気のあるサービスですので、使用します。   \n",
    "Djangoはどんなサービスを選んでも気にしません。 MailGunや他のサービスを簡単に使えます。\n",
    "\n",
    "SendGridホームページで、 \"Plans and Pricing\"の大きな青いボタンをクリックしてください。\n",
    "\n",
    "次のページで、少し下にスクロールし、左側に「無料」プランを表示します。   \n",
    "それを選択し、右下にある「無料試用版」の青いボタンをクリックします。\n",
    "\n",
    "次のページであなたの無料アカウントにサインアップしてください。\n",
    "\n",
    "SendGridに使用する電子メールアカウントが、Newspaperプロジェクトのスーパーユーザーアカウントと同じ電子メールアカウントではないこと、または奇妙なエラーが存在する可能性があることを確認してください。"
   ]
  },
  {
   "cell_type": "markdown",
   "metadata": {},
   "source": [
    "最後に、「あなた自身について教えてください」ページを完成させてください。唯一の難しい部分は、「会社のウェブサイト」セクションです。  \n",
    "この設定は後で変更することができるので、前の章のHerokuデプロイメントのURLを使用することをお勧めします。  \n",
    "次に、ページの下部にある[開始]ボタンをクリックします。\n",
    "\n",
    "SendGridは最初のメールを送信するための3つの異なる方法を提供する開始画面を表示します。  \n",
    "最初のオプション「Web APIまたはSMTPリレーを使用して統合」を選択し、その横にある「開始」ボタンをクリックします。\n",
    "\n",
    "Web APIまたはSMTP Relayの選択肢がもう1つあります。   \n",
    "SMTPは最もシンプルなので、ここでは基本的なニーズを満たすために使用します。  \n",
    "大規模なWebサイトでは、代わりにWeb APIを使用したいと思うかもしれませんが...一度に1つのこと。  \n",
    "また、ページの上部にある[アカウントの確認]バナーにも注意してください。  \n",
    "それを取り除くには、アカウントで使用した電子メールアカウントにログインし、アカウントを確認します。 「SMTPリレー」の下の「選択」ボタンをクリックして続行します。"
   ]
  },
  {
   "cell_type": "markdown",
   "metadata": {},
   "source": [
    "[OK]をもう1つの画面に移動します。 ステップ1の「APIキーを作成する」で、最初のAPIキーの名前を入力します。   \n",
    "私はここで \"新聞\"という名前を選んだ。 次に、その隣にある青の \"Create Key\"ボタンをクリックします。\n",
    "\n",
    "ページが更新され、パート1でカスタムAPIキーが生成されます.SendGridは実際にAPIキーを使用するようにしていますか？   \n",
    "しかしそれは大丈夫です、それはまたパート2の下で、私たちがSMTPリレーで使用できるユーザー名とパスワードを作成します。   \n",
    "これが私たちが望むものです。\n",
    "\n",
    "ここのユーザー名apikeyは全員で同じですが、パスワードはアカウントごとに異なります。   \n",
    "さて、新しいユーザ名とパスワードをDjangoプロジェクトに追加してください。   \n",
    "これは長くかかりません！   \n",
    "まず、newspaper_project / settings.pyファイルでSMTPを使用するように電子メールバックエンドを更新します。   \n",
    "私たちはすでにこれを一度設定しました"
   ]
  },
  {
   "cell_type": "markdown",
   "metadata": {},
   "source": [
    "メールバックエンドはSMTPを使用します。   \n",
    "私たちは以前これを一度設定しました。 その行はファイルの最下部になければなりません。   \n",
    "コンソールに電子メールを出力する代わりに、SMTPを使用して実際にそれらを送信する必要があります。"
   ]
  },
  {
   "cell_type": "markdown",
   "metadata": {},
   "source": [
    "--- code ---"
   ]
  },
  {
   "cell_type": "markdown",
   "metadata": {},
   "source": [
    "次に、その下に5行の電子メール設定を追加します。   \n",
    "パスワードのような安全な情報は環境変数に格納するのが理想的ですが、ここでは簡単にするつもりはありません。"
   ]
  },
  {
   "cell_type": "markdown",
   "metadata": {},
   "source": [
    "--- code ---"
   ]
  },
  {
   "cell_type": "markdown",
   "metadata": {},
   "source": [
    "ここに独自のSendGrid EMAIL_HOST_PASSWORDを入力してください。 sendgrid_passwordは単なるプレースホルダです！\n",
    "\n",
    "ローカルサーバーはこの時点で既に実行されているはずですが、そうでない場合はpython manage.py runserverと入力してください。\n",
    "\n",
    "SendGrid「Web APIまたはSMTPリレーを使用して統合」ページに戻り、「自分の設定を更新しました。」の横にあるチェックボックスを選択し、「次へ：統合を確認」をクリックします。\n",
    "\n",
    "Webブラウザのパスワードリセットフォームに移動します。http：// 127.0.0.1：8000 / users / password_reset /\n",
    "スーパーユーザーアカウントの電子メールアドレスを入力します。あなたのSendGridアカウントには電子メールを使用しないでください。フォームに記入。提出すると、あなたにリダイレクトされます：\n",
    "http：// 127.0.0.1：8000 / users / password_reset / done /。\n",
    "\n",
    "メールの受信トレイを確認してください。 webmaster @ localhostから新しい電子メールが届きます。テキストは以前にコマンドラインコンソールに出力されたテキストとまったく同じになります。\n",
    "最後のステップは、SendGridページに戻ることを約束します。私たちは"
   ]
  },
  {
   "cell_type": "markdown",
   "metadata": {},
   "source": [
    "アプリケーションを正常にテストしたので、青いボタンをクリックして「統合を検証」をクリックします。\n",
    "\n",
    "ページの中央にある[統合の確認]ボタンをクリックします。 ボタンが灰色に変わり、 \"Checking ...\"と表示されます。\n",
    "\n",
    "Phew。 もう終わった！ それはたくさんのステップでしたが、現実の電子メールの統合が現在機能しています。"
   ]
  },
  {
   "cell_type": "markdown",
   "metadata": {},
   "source": [
    "# Custom emails"
   ]
  },
  {
   "cell_type": "markdown",
   "metadata": {},
   "source": [
    "現在のメール本文はあまり個人的ではありませんか？   \n",
    "物事を変えよう。   \n",
    "この時点で、私はあなたにどのような措置を講じるべきかを示すことができましたが、これをどうやってどうやってどのように考え出すか説明できるなら、役立つと思います。   \n",
    "結局のところ、必要に応じてDjangoのすべての部分をカスタマイズできるようにする必要があります。\n",
    "\n",
    "この場合、Djangoがデフォルトで使用していたテキストは分かっていましたが、Djangoソースコードのどこに書かれているのかは不明でした。   \n",
    "DjangoのソースコードはすべてGithubで利用できるので、検索するだけで済みます。"
   ]
  },
  {
   "cell_type": "markdown",
   "metadata": {},
   "source": [
    "Github検索バーを使用して、電子メールテキストからいくつかの単語を入力します。 「このメールを受け取っています」と入力すると、このGithub検索ページに移動します。\n",
    "\n",
    "最初の結果は私たちが望むものです。 コードはdjango / contrib / \\ admin / templates / registration / password_reset_email.htmlにあります。 つまり、contribアプリケーションでは、必要なファイルはpassword_reset_email.htmlです。 ここにDjangoのソースコードのデフォルトテキストがあります。"
   ]
  },
  {
   "cell_type": "markdown",
   "metadata": {},
   "source": [
    "-- code ---"
   ]
  },
  {
   "cell_type": "markdown",
   "metadata": {},
   "source": [
    "それを変えよう。   \n",
    "登録フォルダにpassword_reset_email.htmlファイルを作成する必要があります。   \n",
    "Control cでサーバーを停止し、新しいファイルにtouchを使用します。"
   ]
  },
  {
   "cell_type": "markdown",
   "metadata": {},
   "source": [
    "-- cmd --"
   ]
  },
  {
   "cell_type": "markdown",
   "metadata": {},
   "source": [
    "次に、デフォルトでDjangoが提供したものを調整する次のコードを使用します。"
   ]
  },
  {
   "cell_type": "markdown",
   "metadata": {},
   "source": [
    "--code--"
   ]
  },
  {
   "cell_type": "markdown",
   "metadata": {},
   "source": [
    "このコードはちょっと怖いかもしれないので、行ごとに細かく分けてみましょう。 上に、テンプレート・タグi18nをロードします。これは、このテキストが複数の言語に翻訳できることを意味します。 Djangoは、本書の対象外ですが、堅牢な国際化サポートを提供しています。\n",
    "\n",
    "user.get_usernameのおかげで、名前で挨拶しています。 次に、組み込みのreset_linkブロックを使用して、カスタムURLリンクを組み込みます。 Djangoのパスワード管理アプローチに関する詳細は、公式ドキュメントで読むことができます。\n",
    "\n",
    "電子メールの件名を更新しましょう。 これを行うために、password_reset_subject.txtという別の新しいファイルを作成します。"
   ]
  },
  {
   "cell_type": "markdown",
   "metadata": {},
   "source": [
    "--cmd--"
   ]
  },
  {
   "cell_type": "markdown",
   "metadata": {},
   "source": [
    "次に、次のコード行をpassword_reset_subject.txtファイルに追加します。 パスワードをリセットしてください。すべて設定されています。 新しいパスワードをhttp：// 127.0.0.1：8000 / users / password_reset /に入力して、新しいフローをもう一度試してみてください。 あなたの電子メールをチェックすると、新しいコンテンツと件名が表示されます。"
   ]
  },
  {
   "cell_type": "markdown",
   "metadata": {},
   "source": [
    "# conclusion"
   ]
  },
  {
   "cell_type": "markdown",
   "metadata": {},
   "source": [
    "これで、完全なユーザー認証フローの実装が完了しました。 \n",
    "ユーザーは、新しいアカウントにサインアップしてログインし、ログアウトし、パスワードを変更し、パスワードをリセットすることができます。 実際の新聞アプリを作りましょう。"
   ]
  },
  {
   "cell_type": "code",
   "execution_count": null,
   "metadata": {},
   "outputs": [],
   "source": []
  }
 ],
 "metadata": {
  "kernelspec": {
   "display_name": "Python 3",
   "language": "python",
   "name": "python3"
  },
  "language_info": {
   "codemirror_mode": {
    "name": "ipython",
    "version": 3
   },
   "file_extension": ".py",
   "mimetype": "text/x-python",
   "name": "python",
   "nbconvert_exporter": "python",
   "pygments_lexer": "ipython3",
   "version": "3.7.0"
  }
 },
 "nbformat": 4,
 "nbformat_minor": 2
}
