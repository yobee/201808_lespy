{
 "cells": [
  {
   "cell_type": "markdown",
   "metadata": {},
   "source": [
    "著書ではvscodeをオススメしている。  \n",
    "ので\n",
    "vscodeを入れて見るのも良いかもしれないです。  \n",
    "https://code.visualstudio.com/"
   ]
  },
  {
   "cell_type": "raw",
   "metadata": {},
   "source": [
    "bitbucketを設定する。\n",
    "\n",
    "\n",
    "ステップ1: リポジトリのディレクトリに移動する\n",
    "\n",
    "cd /path/to/your/repo\n",
    "ステップ2: 既存のリポジトリをBitbucketに接続する\n",
    "\n",
    "git remote add origin https://becomepythonista@bitbucket.org/becomepythonista/201808_01_xx.git\n",
    "git push -u origin master"
   ]
  },
  {
   "cell_type": "code",
   "execution_count": null,
   "metadata": {},
   "outputs": [],
   "source": []
  }
 ],
 "metadata": {
  "kernelspec": {
   "display_name": "Python 3",
   "language": "python",
   "name": "python3"
  },
  "language_info": {
   "codemirror_mode": {
    "name": "ipython",
    "version": 3
   },
   "file_extension": ".py",
   "mimetype": "text/x-python",
   "name": "python",
   "nbconvert_exporter": "python",
   "pygments_lexer": "ipython3",
   "version": "3.7.0"
  }
 },
 "nbformat": 4,
 "nbformat_minor": 2
}
