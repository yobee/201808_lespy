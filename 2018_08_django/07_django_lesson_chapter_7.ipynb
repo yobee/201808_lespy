{
 "cells": [
  {
   "cell_type": "markdown",
   "metadata": {},
   "source": [
    "これまではフォームを使用した実用的なブログアプリケーションを構築しましたが、大部分のWebアプリケーション（ユーザー認証）が欠けています。  \n",
    "適切なユーザー認証を実装することは非常に困難です。   \n",
    "道に沿って多くのセキュリティの問題がありますので、実際にこれを実装する必要はありません。  \n",
    "幸いにも、Djangoには強力な組み込みのユーザ認証システムがあります。   \n",
    "新しいプロジェクトを作成するたびに、Djangoはデフォルトでauth appをインストールします。これは、以下を含むUserオブジェクトを提供します：\n",
    "\n",
    "username   \n",
    "password   \n",
    "email   \n",
    "first_name   \n",
    "last_name  \n",
    "\n",
    "このUserオブジェクトを使用して、ブログアプリケーションでログイン、ログアウト、サインアップを実装します 。"
   ]
  },
  {
   "cell_type": "code",
   "execution_count": null,
   "metadata": {},
   "outputs": [],
   "source": []
  }
 ],
 "metadata": {
  "kernelspec": {
   "display_name": "Python 3",
   "language": "python",
   "name": "python3"
  },
  "language_info": {
   "codemirror_mode": {
    "name": "ipython",
    "version": 3
   },
   "file_extension": ".py",
   "mimetype": "text/x-python",
   "name": "python",
   "nbconvert_exporter": "python",
   "pygments_lexer": "ipython3",
   "version": "3.7.0"
  }
 },
 "nbformat": 4,
 "nbformat_minor": 2
}
