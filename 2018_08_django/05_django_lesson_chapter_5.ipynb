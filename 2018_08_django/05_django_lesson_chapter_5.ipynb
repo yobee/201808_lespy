{
 "cells": [
  {
   "cell_type": "markdown",
   "metadata": {},
   "source": [
    "# Initial Set Up"
   ]
  },
  {
   "cell_type": "markdown",
   "metadata": {},
   "source": [
    "前の章で説明したように、新しいDjangoプロジェクトを設定する手順は次のとおりです。\n",
    "- blogというデスクトップ上にコード用の新しいディレクトリを作成します。\n",
    "- Djangoを新しい仮想環境にインストールしてください。\n",
    "- blog_projectという新しいDjangoプロジェクトを作成します。\n",
    "- 新しいアプリのブログを作成します。\n",
    "- マイグレーションを実行してデータベースをセットアップします。\n",
    "- settings.pyを更新します。  \n",
    "新しいコマンドラインコンソールで次のコマンドを実行します。仮想環境の実際の名前は（blog-XXX）となります。XXXはランダムな文字を表します。私はあなたのものと私の名前が異なるので、事をより簡単に保つためにここ（ブログ）を使っています。  \n",
    "== 略　=="
   ]
  },
  {
   "cell_type": "markdown",
   "metadata": {},
   "source": [
    "# Database Models"
   ]
  },
  {
   "cell_type": "markdown",
   "metadata": {},
   "source": [
    "典型的なブログアプリケーションの特徴は何ですか？  \n",
    "私たちの場合は、物事を単純にしておき、各投稿にタイトル、著者、本文があると仮定します。  \n",
    "これをデータベースモデルにするには、blog/models.pyファイルを開き、以下のコードを入力します。"
   ]
  },
  {
   "cell_type": "raw",
   "metadata": {},
   "source": [
    "--- blog/models.py ---"
   ]
  },
  {
   "cell_type": "markdown",
   "metadata": {},
   "source": [
    "一番上に、クラスモデルをインポートしてから、モデルのサブクラスを作成します.ModelはPostと呼ばれます。  \n",
    "このサブクラスの機能を使用して、django.db.models.Models内のすべてのものに自動的にアクセスし、必要に応じて追加のフィールドとメソッドを追加できます。タイトルの長さは200文字に制限されています。  \n",
    "本文には、ユーザーのテキストに合わせて自動的に必要に応じて拡張するTextFieldを使用しています。   \n",
    "Djangoには多くのフィールドタイプがあります。ここで完全なリストを見ることができます。  \n",
    "\n",
    "著者フィールドの場合、多対1の関係を可能にするForeignKeyを使用しています。  \n",
    "これは、特定のユーザーが多くの異なるブログ投稿の作成者になることができますが、それ以外の方法では作成できないことを意味します。  \n",
    "リファレンスは、Djangoが認証のために提供する組み込みのUserモデルです。 ForeignKeyのような多対1の関係については、on_deleteオプションも指定する必要があります。  \n",
    "新しいデータベースモデルが作成されたので、新しいマイグレーションレコードを作成し、その変更をデータベースに移行する必要があります。 Ctrl + cでサーバーを停止します。この2つのステップのプロセスは、以下のコマンドで完了できます。"
   ]
  },
  {
   "cell_type": "raw",
   "metadata": {},
   "source": [
    "(blog) $ python manage.py makemigrations blog   \n",
    "(blog) $ python manage.py migrate blog"
   ]
  },
  {
   "cell_type": "markdown",
   "metadata": {},
   "source": [
    "データベースが設定されています！次は何ですか？"
   ]
  },
  {
   "cell_type": "markdown",
   "metadata": {},
   "source": [
    "# Admin"
   ]
  },
  {
   "cell_type": "markdown",
   "metadata": {},
   "source": [
    "データにアクセスする方法が必要です。 Django管理者になる！まず、以下のコマンドを入力し、プロンプトに続いて電子メールとパスワードを設定してスーパーユーザーアカウントを作成します。パスワードを入力するときは、セキュリティ上の理由からパスワードが画面に表示されないことに注意してください。"
   ]
  },
  {
   "cell_type": "raw",
   "metadata": {},
   "source": [
    "(blog) $ python manage.py createsuperuser  \n",
    "Username (leave blank to use 'wsv'): wsv   \n",
    "Email:   \n",
    "Password:   \n",
    "Password (again):   \n",
    "Superuser created successfully."
   ]
  },
  {
   "cell_type": "markdown",
   "metadata": {},
   "source": [
    "ここで、python manage.py runserverコマンドでDjangoサーバを再起動し、http：//127.0.0.1：8000/admin/でDjango管理者を開きます。  \n",
    "新しいスーパーユーザーアカウントでログインします。  \n",
    "おっとっと！新しい投稿モデルはどこですか？]  \n",
    "\n",
    "blog / admin.pyを更新するのを忘れてしまったので、今すぐやりましょう。  \n",
    "\n",
    "---blog/admin.py ---\n",
    "\n",
    "ページを更新すると、更新が表示されます。"
   ]
  },
  {
   "cell_type": "markdown",
   "metadata": {},
   "source": [
    "2つのブログ記事を追加して、作業するサンプルデータを用意しましょう。  \n",
    "新しいエントリを作成するには、[投稿]の横にある[追加]ボタンをクリックします。  \n",
    "デフォルトでは、すべてのモデルフィールドが必須であるため、必ず各投稿に「著者」を追加してください。  \n",
    "投稿者がいない投稿を入力しようとすると、エラーが表示されます。  \n",
    "これを変更したい場合は、フィールドオプションをモデルに追加して、指定フィールドをオプションにするか、デフォルト値で埋めてください。"
   ]
  },
  {
   "cell_type": "markdown",
   "metadata": {},
   "source": [
    "データベースモデルが完成したので、必要なビュー、URL、およびテンプレートを作成して、Webアプリケーションの情報を表示する必要があります。"
   ]
  },
  {
   "cell_type": "markdown",
   "metadata": {},
   "source": [
    "# URLs"
   ]
  },
  {
   "cell_type": "markdown",
   "metadata": {},
   "source": [
    "ブログの投稿をホームページに表示したいので、これまでの章と同様に、まずプロジェクトレベルのURLConfを設定してから、アプリケーションレベルのURLConfsを設定してください。  \n",
    "「プロジェクトレベル」は、blog_projectフォルダとblogアプリフォルダと同じ親フォルダにあることを意味します。  \n",
    "コマンドラインでControl + cを使用して既存のサーバーを終了し、ブログ内に新しいurls.pyファイルを作成します。"
   ]
  },
  {
   "cell_type": "raw",
   "metadata": {},
   "source": [
    "(blog) $ touch blog/ urls.py"
   ]
  },
  {
   "cell_type": "markdown",
   "metadata": {},
   "source": [
    "これを以下のコードで更新してください。"
   ]
  },
  {
   "cell_type": "markdown",
   "metadata": {},
   "source": [
    "--- blog/urls.py ---"
   ]
  },
  {
   "cell_type": "markdown",
   "metadata": {},
   "source": [
    "すぐに作成されるビューを一番上にインポートしています。  \n",
    "空の文字列 ''はPythonにすべての値を一致させるように指示し、後で参照することができる名前付きURL、homeにします。名前付きURLを追加することはオプションですが、採用するべきベストプラクティスは、あなたのURLの数が増えるにつれて物事を整理するのに役立ちます。  \n",
    "また、プロジェクトレベルのurls.pyファイルを更新して、すべてのリクエストを直接ブログアプリに転送するようにしてください。"
   ]
  },
  {
   "cell_type": "markdown",
   "metadata": {},
   "source": [
    "--- blog_project/urls.py ---"
   ]
  },
  {
   "cell_type": "markdown",
   "metadata": {},
   "source": [
    "二番目の行にインクルードを追加し、空の文字列正規表現 ''を使用してURLpatternを追加して、さらに詳しい手順についてはURLのリクエストをブログのURLにリダイレクトする必要があることを示しました。"
   ]
  },
  {
   "cell_type": "markdown",
   "metadata": {},
   "source": [
    "# Views"
   ]
  },
  {
   "cell_type": "markdown",
   "metadata": {},
   "source": [
    "クラスベースのビューを使用しますが、ブログアプリケーションを構築するための関数ベースの方法を見たい場合は、Django Girlsチュートリアルを強くお勧めします。  \n",
    "それは素晴らしいです。  \n",
    "私たちのビューファイルでは、以下のコードを追加して、ListViewを使用してPostモデルのコンテンツを表示します。"
   ]
  },
  {
   "cell_type": "markdown",
   "metadata": {},
   "source": [
    "--- blog/views.py ---"
   ]
  },
  {
   "cell_type": "markdown",
   "metadata": {},
   "source": [
    "上の2行では、ListViewとデータベースモデルPostをインポートします。  \n",
    "次に、ListViewをサブクラス化し、モデルとテンプレートへのリンクを追加します。  \n",
    "これにより、最初からすべてを実装するのではなく、多くのコードを節約できます。"
   ]
  },
  {
   "cell_type": "markdown",
   "metadata": {},
   "source": [
    "# Templates"
   ]
  },
  {
   "cell_type": "markdown",
   "metadata": {},
   "source": [
    "URLConfsとビューが完成したら、3番目のパズルであるテンプレートだけが欠落しています。第4章ですでに説明したように、コードをきれいにするために他のテンプレートを継承することができます。そこで、まず、base.htmlファイルとそれを継承するhome.htmlファイルから始めましょう。その後、ブログ投稿を作成、編集するためのテンプレートを追加すると、それらもbase.htmlから継承することができます。まず、2つのテンプレートファイルを使用してプロジェクトレベルのテンプレートディレクトリを作成します。"
   ]
  },
  {
   "cell_type": "raw",
   "metadata": {},
   "source": [
    "(blog) $ mkdir templates   \n",
    "(blog) $ touch templates/base.html  \n",
    "(blog) $ touch templates/ home.html"
   ]
  },
  {
   "cell_type": "markdown",
   "metadata": {},
   "source": [
    "その後、Djangoがテンプレートを探すためにsettings.pyを更新します。"
   ]
  },
  {
   "cell_type": "markdown",
   "metadata": {},
   "source": [
    "--- blog_project/settings.py ---"
   ]
  },
  {
   "cell_type": "markdown",
   "metadata": {},
   "source": [
    "次に、base.htmlテンプレートを次のように更新します。"
   ]
  },
  {
   "cell_type": "markdown",
   "metadata": {},
   "source": [
    "--- templates/base.html ----"
   ]
  },
  {
   "cell_type": "markdown",
   "metadata": {},
   "source": [
    "{％block content％}と{％endblock content％}の間のコードは、他のテンプレートで埋められることに注意してください。それについて言えば、ここにhome.htmlのコードがあります。"
   ]
  },
  {
   "cell_type": "markdown",
   "metadata": {},
   "source": [
    "--- templates/home.html ---"
   ]
  },
  {
   "cell_type": "markdown",
   "metadata": {},
   "source": [
    "一番上に、このテンプレートはbase.htmlを拡張し、コンテンツブロックで希望のコードをラップしていることに注意してください。  \n",
    "私たちはDjango Templating Languageを使用して、各ブログ投稿の簡単なforループを設定します。   \n",
    "object_listはListViewから来て、私たちのビュー内のすべてのオブジェクトを含んでいます。  \n",
    "Djangoサーバをもう一度起動すると：python manage.py runserver。  \n",
    "また、http：//127.0.0.1：8000をリフレッシュすると、動作していることがわかります。  \n",
    "2つの投稿とブログのホームページしかし、それはひどいです。それを修正しよう！"
   ]
  },
  {
   "cell_type": "markdown",
   "metadata": {},
   "source": [
    "# static files\n"
   ]
  },
  {
   "cell_type": "markdown",
   "metadata": {},
   "source": [
    "テンプレートフォルダで行ったのと同じように、Djangoに静的ファイルを探す場所を指定するためにsettings.pyを更新する必要があります。  \n",
    "STATICFILES_DIRSの1行の変更でsettings.pyを更新できます。 STATIC_URLのエントリの下にファイルの末尾に追加します。"
   ]
  },
  {
   "cell_type": "raw",
   "metadata": {},
   "source": [
    "(blog) $ mkdir static"
   ]
  },
  {
   "cell_type": "markdown",
   "metadata": {},
   "source": [
    "テンプレートフォルダで行ったのと同じように、Djangoに静的ファイルを探す場所を指定するためにsettings.pyを更新する必要があります。   \n",
    "STATICFILES_DIRSの1行の変更でsettings.pyを更新できます。   \n",
    "STATIC_URLのエントリの下にファイルの末尾に追加します。"
   ]
  },
  {
   "cell_type": "markdown",
   "metadata": {},
   "source": [
    "--- blog_project/setting.py ----"
   ]
  },
  {
   "cell_type": "markdown",
   "metadata": {},
   "source": [
    "静的にcssフォルダを作成し、そこに新しいbase.cssファイルを追加します。"
   ]
  },
  {
   "cell_type": "raw",
   "metadata": {},
   "source": [
    "(blog) $ mkdir static/css  \n",
    "(blog) $ touch static/css/base.css"
   ]
  },
  {
   "cell_type": "markdown",
   "metadata": {},
   "source": [
    "私たちはあなたのファイルに何を入れるべきですか？ タイトルを赤色に変更するのはどうですか？"
   ]
  },
  {
   "cell_type": "markdown",
   "metadata": {},
   "source": [
    "--- static/css/base.css ---"
   ]
  },
  {
   "cell_type": "markdown",
   "metadata": {},
   "source": [
    "今最後のステップ。   \n",
    "テンプレートに静的ファイルを追加するには、{％load static％}をbase.htmlの先頭に追加する必要があります。   \n",
    "他のテンプレートはbase.htmlから継承しているので、これを一度追加するだけです。  \n",
    "新しいbase.cssファイルを明示的に参照する<head> </ head>コードの下に新しい行を追加します。"
   ]
  },
  {
   "cell_type": "markdown",
   "metadata": {},
   "source": [
    "--- templates/base.html ---"
   ]
  },
  {
   "cell_type": "markdown",
   "metadata": {},
   "source": [
    "それは少し痛みでしたが、それは一度の痛みです。   \n",
    "静的ファイルを静的フォルダに追加すると、すべてのテンプレートに自動的に表示されます。   \n",
    "python manage.py runserverでサーバーを再起動し、更新されたホームページ（http：// 127.0.0.1：8000 /）を見てください。   \n",
    "赤いタイトルのブログホームページ私たちは少しでも良いことができます。 カスタムフォントとCSSを追加するのはどうですか？  \n",
    "この本はCSSのチュートリアルではないので、<head> </ head>タグの間に以下を挿入するだけで、GoogleのフリーフォントであるSource Sans Proを追加できます。"
   ]
  },
  {
   "cell_type": "markdown",
   "metadata": {},
   "source": [
    "--- templates/base.html ---"
   ]
  },
  {
   "cell_type": "markdown",
   "metadata": {},
   "source": [
    "次に、次のコードをコピーして貼り付けて、CSSファイルを更新します。"
   ]
  },
  {
   "cell_type": "markdown",
   "metadata": {},
   "source": [
    "--- static/css/base.css ---"
   ]
  },
  {
   "cell_type": "markdown",
   "metadata": {},
   "source": [
    "http：//127.0.0.1：8000 /にホームページを更新してください。次のように表示されます。"
   ]
  },
  {
   "cell_type": "markdown",
   "metadata": {},
   "source": [
    "# Individual blog pages"
   ]
  },
  {
   "cell_type": "markdown",
   "metadata": {},
   "source": [
    "これで個々のブログページの機能を追加できるようになりました。  \n",
    "どうすればいいの？  \n",
    "新しいビュー、URL、およびテンプレートを作成する必要があります。  \n",
    "私はあなたが今Djangoで開発のパターンに気付いていることを願っています！ ビューから開始します。   \n",
    "一般的なクラスベースのDetailViewを使用すると、物事を簡素化できます。  \n",
    "ファイルの上部にDetailViewをインポートのリストに追加し、BlogDetailViewという新しいビューを作成します。"
   ]
  },
  {
   "cell_type": "markdown",
   "metadata": {},
   "source": [
    "--- blog/views.py ---"
   ]
  },
  {
   "cell_type": "markdown",
   "metadata": {},
   "source": [
    "この新しいビューでは、使用しているモデル、Post、および関連付けたいテンプレート（post_detail.html）を定義します。   \n",
    "デフォルトでは、DetailViewはテンプレート内で使用できるコンテクストオブジェクトを提供します。  \n",
    "これは、オブジェクトか、モデルの小文字の名前（ポスト）です。   \n",
    "また、DetailViewは主キーまたはスラッグのいずれかを識別子として渡します。 まもなくこれについてもっと詳しく。   \n",
    "ローカルサーバーのControl cを終了し、次のようにポストディテール用の新しいテンプレートを作成します。"
   ]
  },
  {
   "cell_type": "raw",
   "metadata": {},
   "source": [
    "(blog) $ touch templates/post_detail.html"
   ]
  },
  {
   "cell_type": "markdown",
   "metadata": {},
   "source": [
    "次に、次のコードを入力します。"
   ]
  },
  {
   "cell_type": "markdown",
   "metadata": {},
   "source": [
    "上に、このテンプレートがbase.htmlから継承することを指定します。   \n",
    "コンテキストオブジェクトからタイトルと本文を表示します。  \n",
    "これはDetailViewによってポストとしてアクセス可能になります。   \n",
    "個人的に私はDjangoを最初に学ぶときに非常に混乱するジェネリックビューのコンテキストオブジェクトの命名を発見しました。  \n",
    "DetailViewからの私たちのコンテクストオブジェクトは私たちのモデル名のポストかオブジェクトであるので、我々はテンプレートを以下のように更新することもでき、まったく同じように動作するでしょう。"
   ]
  },
  {
   "cell_type": "markdown",
   "metadata": {},
   "source": [
    "--- templates/post_detail.html ---"
   ]
  },
  {
   "cell_type": "markdown",
   "metadata": {},
   "source": [
    "ポストやオブジェクトを混乱させることがわかった場合は、context_object_nameを使用して、ビュー内のコンテキストオブジェクトに明示的に名前を付けることができます。   \n",
    "コンテキストオブジェクトの「魔法のような」命名は、ジェネリックビューを使用することの容易さと簡潔さのために支払う価格です。   \n",
    "彼らは何をしているのか分かっていれば大丈夫ですが、カスタマイズのための公式文書で少し研究をしています。   \n",
    "さて、次は何ですか？   \n",
    "私たちのビューに新しいURLConfを追加するのはどうでしょうか？  \n",
    "これは次のようにして行うことができます。"
   ]
  },
  {
   "cell_type": "markdown",
   "metadata": {},
   "source": [
    "--- blog/urls.py ---"
   ]
  },
  {
   "cell_type": "markdown",
   "metadata": {},
   "source": [
    "すべてのブログ投稿の投稿は投稿/で始まります。   \n",
    "次は、ポストエントリのプライマリキーで、整数<int：pk>で表されます。   \n",
    "おそらくあなたが求めている主キーは何ですか？   \n",
    "Djangoは自動増分プライマリキーを自動的にデータベースモデルに追加します。   \n",
    "だから私たちはポストモデルでフィールドのタイトル、著者、ボディのみを宣言していましたが、Djangoの下にはidという別のフィールドが追加されていました。  \n",
    "これは主キーです。   \n",
    "idまたはpkのいずれかでアクセスできます。   \n",
    "私たちの最初の \"こんにちは、世界\"ポストのpkは1です。  \n",
    "2番目のポストは2です。   \n",
    "したがって、最初の投稿の個別の入力ページに行くと、urlパターンは/ 1になることが期待できます。"
   ]
  },
  {
   "cell_type": "markdown",
   "metadata": {},
   "source": [
    "<hr>"
   ]
  },
  {
   "cell_type": "markdown",
   "metadata": {},
   "source": [
    "すべてのブログ投稿の投稿は投稿/で始まります。   \n",
    "次は、ポストエントリのプライマリキーで、整数<int：pk>で表されます。   \n",
    "おそらくあなたが求めている主キーは何ですか？   \n",
    "Djangoは自動増分プライマリキーを自動的にデータベースモデルに追加します。   \n",
    "だから私たちはポストモデルでフィールドのタイトル、著者、ボディのみを宣言していましたが、Djangoの下にはidという別のフィールドが追加されていました。これは主キーです。   \n",
    "idまたはpkのいずれかでアクセスできます。 私たちの最初の \"こんにちは、世界\"ポストのpkは1です。  \n",
    "2番目のポストは2です。   \n",
    "したがって、最初の投稿の個別の入力ページに行くと、urlパターンは/ 1になることが期待できます。"
   ]
  },
  {
   "cell_type": "markdown",
   "metadata": {},
   "source": [
    "<hr>"
   ]
  },
  {
   "cell_type": "markdown",
   "metadata": {},
   "source": [
    "今すぐpython manage.py runserverでサーバーを起動し、http：//127.0.0.1：8000/post/1/に直接行くと、最初のブログ投稿用の専用ページが表示されます。"
   ]
  },
  {
   "cell_type": "raw",
   "metadata": {},
   "source": [
    "ウーホー！   \n",
    "また、http：//127.0.0.1：8000/post/2/にアクセスして、2番目のエントリを表示することもできます。   \n",
    "私たちの生活を楽にするために、ホームページのリンクを更新して、そこから個々のブログ投稿に直接アクセスできるようにする必要があります。   \n",
    "現在home.htmlのリンクは空です：<a href = \"\"> それを<a href = \"{％url 'post_detail' post.pk％}\">に更新してください。"
   ]
  },
  {
   "cell_type": "markdown",
   "metadata": {},
   "source": [
    "---- templates/home.html ----"
   ]
  },
  {
   "cell_type": "markdown",
   "metadata": {},
   "source": [
    "まず、コード{％url ...％}を使用して、URLConfを参照するDjangoテンプレートを記述することから始めます。   \n",
    "どのURLですか？ post_detailという名前のもの。  \n",
    "ちょうど一瞬前にURLConfでBlogDetailViewに与えた名前です。   \n",
    "URLConfのpost_detailを見ると、ブログ投稿の主キーを表す引数pkが渡されることが予想されます。   \n",
    "幸いなことに、Djangoは既にこのpkフィールドを作成し、postオブジェクトに含めました。 post.pkとしてテンプレートにURLConfを追加してURLConfに渡します。   \n",
    "すべての機能が動作することを確認するには、http：//127.0.0.1：8000/のメインページを更新し、各ブログ投稿のタイトルをクリックして、新しいリンクの動作を確認します。"
   ]
  },
  {
   "cell_type": "markdown",
   "metadata": {},
   "source": [
    "# Tests"
   ]
  },
  {
   "cell_type": "markdown",
   "metadata": {},
   "source": [
    "モデルとビューをテストする必要があります。 私たちはPostモデルがstr表現を含め、期待どおりに動作するようにしたいと思っています。   \n",
    "また、ListViewとDetailViewの両方をテストする必要があります。   \n",
    "次に、blog / tests.pyファイルのサンプルテストの様子を示します。"
   ]
  },
  {
   "cell_type": "markdown",
   "metadata": {},
   "source": [
    "---- blog/tests.py ----"
   ]
  },
  {
   "cell_type": "markdown",
   "metadata": {},
   "source": [
    "これらのテストでは新しいことがたくさんありますので、ゆっくりと歩きます。 先頭には、以前に見たアクティブユーザとテストケースを参照するためのget_user_modelと、両方をインポートします。 私たちのsetUpメソッドでは、サンプルのブログ投稿を追加して、文字列表現と内容が正しいことを確認します。 次に、test_post_list_viewを使用して、私たちのホームページが200のHTTPステータスコードを返し、私たちの本文を含み、正しいhome.htmlテンプレートを使用していることを確認します。 最後に、test_post_detail_viewは、詳細ページが正常に動作し、不正なページが404を返すかどうかをテストします。何かが存在するかどうか、またテストに間違ったものが存在しないことを常に確認するのは良いことです。 これらのテストを今すぐ実行してください。 彼らはすべて渡るべきです。"
   ]
  },
  {
   "cell_type": "raw",
   "metadata": {},
   "source": [
    "(blog) $ python manage.py test"
   ]
  },
  {
   "cell_type": "markdown",
   "metadata": {},
   "source": []
  },
  {
   "cell_type": "code",
   "execution_count": null,
   "metadata": {},
   "outputs": [],
   "source": []
  }
 ],
 "metadata": {
  "kernelspec": {
   "display_name": "Python 3",
   "language": "python",
   "name": "python3"
  },
  "language_info": {
   "codemirror_mode": {
    "name": "ipython",
    "version": 3
   },
   "file_extension": ".py",
   "mimetype": "text/x-python",
   "name": "python",
   "nbconvert_exporter": "python",
   "pygments_lexer": "ipython3",
   "version": "3.7.0"
  }
 },
 "nbformat": 4,
 "nbformat_minor": 2
}
