{
 "cells": [
  {
   "cell_type": "markdown",
   "metadata": {},
   "source": [
    "### djangoのバージョンについて"
   ]
  },
  {
   "cell_type": "markdown",
   "metadata": {},
   "source": [
    "Djangoのバージョニングと「LTS」の概念について説明します。  \n",
    "まず「LTS（Long-TermSupport）」とは、コミュニティからのセキュリティパッチなどが⽐較的⻑くサポートされる特別バージョンのことです。  \n",
    "\n",
    "2017年末に実に9年ぶりのメジャーバージョンアップとなるDjango2.0がリリースされましたが、2系のLTSバージョンはまだリリースされておらず、2系で初のLTSバージョンとなる「2.2」は2019年4⽉にリリース予定となっています。  \n",
    "そのため、現場ではまだ1系と2系が混在している、いわば過渡期の状況になっていると考えられます。しかしながら（Python2のサポートを打ち切った以外は）1.11と2.1の違いはそれほど無いという理由から、現場ですでにガッツリ1.11を使っている場合は積極的に2系にする必要性はあまりないというのが筆者の考えです。LTSからLTSへの⼤ジャンプは追随コストが⾼くなってしまうため、将来的に2.2LTSへのアップグレードを検討しているのであれば今のうちからバージョンを少しずつ上げていってもよいでしょう。\n",
    "⼀⽅で、趣味や研究で利⽤する場合や、これからDjangoを始める場合は、現時点の最新バージョンである「2.1」を使うのがよいと考えます。"
   ]
  },
  {
   "cell_type": "markdown",
   "metadata": {},
   "source": [
    "現在は最新バージョンは2.1です。"
   ]
  },
  {
   "cell_type": "markdown",
   "metadata": {},
   "source": [
    "https://www.djangoproject.com/download/\n",
    "<img src=\"django01.png\">"
   ]
  },
  {
   "cell_type": "markdown",
   "metadata": {},
   "source": [
    "## 全体像"
   ]
  },
  {
   "cell_type": "markdown",
   "metadata": {},
   "source": [
    "<img src=\"django02.png\">"
   ]
  },
  {
   "cell_type": "markdown",
   "metadata": {},
   "source": [
    "Djangoでは、「URLconf」は「urls.py」、「ビュー」は「views.py」、「モデル」は「models.py」、「フォーム」は「forms.py」、「ミドルウェア」は「middleware.py」といったように、それぞれの役割ごとに対応するモジュールの名前が慣例的に決められています。\n",
    "また、「URLディスパッチャ」は図では分かりやすいように簡易的に書いていますが、その実体はDjango内部のコアモジュールで、開発時に触る必要はありません。"
   ]
  },
  {
   "cell_type": "markdown",
   "metadata": {},
   "source": [
    "<img src=\"django03.png\">"
   ]
  },
  {
   "cell_type": "markdown",
   "metadata": {},
   "source": [
    "(1)リクエストに対して「ミドルウェア」が前処理をおこなう  \n",
    "(2)「URLディスパッチャ」が「URLconf」に登録されたURLパターンにマッチする「ビュー」を探し出して呼び出す  \n",
    "(3)ビューがリクエストから取得した⼊⼒値を「フォーム」オブジェクトに変換し、バリデーションをおこなう  \n",
    "(4)ビューが「モデル」オブジェクトを取得してビジネスロジックを実⾏する(4’)適切なタイミングでデータベースにクエリが実⾏される  \n",
    "(5)取得したモデルオブジェクトやフォームオブジェクト、その他の変数の内容を「テンプレート」にレンダリングしてレスポンスを作成する  \n",
    "(6)URLディスパッチャが例外をハンドリングする  \n",
    "(7)ミドルウェアがレスポンスに後処理をおこない、ブラウザに返す"
   ]
  },
  {
   "cell_type": "markdown",
   "metadata": {},
   "source": [
    "## MTVフレームワーク"
   ]
  },
  {
   "cell_type": "markdown",
   "metadata": {},
   "source": [
    "Djangoを構成する要素の中で、特に重要なものは「モデル」「テンプレート」「ビュー」の3つです。　　\n",
    "これら3つを合わせて、Djangoは「MTV（Model-Template-View）フレームワーク」であると説明されることがあります。　　\n",
    "\n",
    "「MTV」はWebアプリケーションフレームワークの標準的な「MVC（Model-View-Controller）」モデルとは何が違うのでしょうか？　　\n",
    "Djangoは「MVC」の「V」の部分を「テンプレート（データの⾒せ⽅）」と「ビュー（データの選び⽅）」に明⽰的に役割分担して定義しただけで、アーキテクチャの設計上は「MVC」と何ら変わりありません。なお「MVC」の「C」に相当するものは、URLディスパッチャと考えればよいでしょう。"
   ]
  },
  {
   "cell_type": "markdown",
   "metadata": {},
   "source": [
    "<img src='django04.png'>"
   ]
  },
  {
   "cell_type": "code",
   "execution_count": null,
   "metadata": {},
   "outputs": [],
   "source": []
  }
 ],
 "metadata": {
  "kernelspec": {
   "display_name": "Python 3",
   "language": "python",
   "name": "python3"
  }
 },
 "nbformat": 4,
 "nbformat_minor": 2
}
