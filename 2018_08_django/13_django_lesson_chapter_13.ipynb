{
 "cells": [
  {
   "cell_type": "markdown",
   "metadata": {},
   "source": [
    "# Artcles app"
   ]
  },
  {
   "cell_type": "markdown",
   "metadata": {},
   "source": [
    "記事アプリの作成を開始し、データベースモデルを定義する。   \n",
    "ビルトインアプリの名前を使うことができないという点を除いて、あなたのアプリに名前を付けることの周りに固くて速いルールはありません。   \n",
    "settings.pyのINSTALLED_APPSセクションを見ると、admin、auth、contenttypes、sessions、messages、およびstaticfilesのいずれのアプリケーション名でも制限外であることが分かります。   \n",
    "一般的な経験則は、複数のアプリ名、投稿、支払い、ユーザーなどを使用することです。  \n",
    "ただし、ブログの一般的なケースと同じように明らかに間違っている場合を除き、単数形が理にかなっています。   \n",
    "まず、新しい記事アプリを作成します。"
   ]
  },
  {
   "cell_type": "markdown",
   "metadata": {},
   "source": [
    "-- cmd --"
   ]
  },
  {
   "cell_type": "markdown",
   "metadata": {},
   "source": [
    "その後、INSTALLED_APPSに追加してタイムゾーンを更新します。  \n",
    "私たちは記事をタイムスタンプします。   \n",
    "このウィキペディアのリストであなたのタイムゾーンを見つけることができます。   \n",
    "たとえば、私は米国の東部タイムゾーンにあるマサチューセッツ州ボストンに住んでいます。   \n",
    "したがって、私のエントリはAmerica / New_Yorkです。"
   ]
  },
  {
   "cell_type": "markdown",
   "metadata": {},
   "source": [
    "-- code --"
   ]
  },
  {
   "cell_type": "markdown",
   "metadata": {},
   "source": [
    "TIME_ZONE = 'Asia/Tokyo'"
   ]
  },
  {
   "cell_type": "markdown",
   "metadata": {},
   "source": [
    "次に、タイトル、本文、日付、著者の4つのフィールドを含むデータベースモデルを定義します。   \n",
    "DjangoはTIME_ZONE設定に基づいて日時を自動的に設定するようにしています。   \n",
    "authorフィールドでは、settings.pyファイルでAUTH_USER_MODELとして設定したカスタムユーザーモデル 'users.CustomUser'を参照します。   \n",
    "get_user_modelでこれを行うことができます。 また、管理インターフェースでモデルを表示するために、最初からget_absolute_urlを定義するベストプラクティスと、__str__メソッドを実装します。"
   ]
  },
  {
   "cell_type": "markdown",
   "metadata": {},
   "source": [
    "-- code --"
   ]
  },
  {
   "cell_type": "markdown",
   "metadata": {},
   "source": [
    "新しいアプリケーションとモデルが用意されているので、新しい移行ファイルを作成してデータベースに適用します。"
   ]
  },
  {
   "cell_type": "markdown",
   "metadata": {},
   "source": [
    "-- cmd --"
   ]
  },
  {
   "cell_type": "markdown",
   "metadata": {},
   "source": [
    "現時点では、実際にウェブサイトにデータを表示するために必要なURL /ビュー/テンプレートを作成する前に、モデルを使って遊ぶために管理者に飛び乗るのが好きです。   \n",
    "しかし、まずadmin.pyを更新して、新しいアプリが表示されるようにする必要があります。"
   ]
  },
  {
   "cell_type": "markdown",
   "metadata": {},
   "source": [
    "-- code --"
   ]
  },
  {
   "cell_type": "markdown",
   "metadata": {},
   "source": [
    "ここでサーバーを起動します。"
   ]
  },
  {
   "cell_type": "markdown",
   "metadata": {},
   "source": [
    "-- code --"
   ]
  },
  {
   "cell_type": "markdown",
   "metadata": {},
   "source": [
    "http：// 127.0.0.1：8000 / admin /に移動してログインします。  \n",
    "ページ上部の「記事」の横にある「追加」をクリックすると、サンプルデータを入力できます。   \n",
    "この時点では、スーパーユーザー、testuser、およびtestuser2の3人のユーザーがいる可能性があります。   \n",
    "3つの記事すべての作成者としてスーパーユーザーアカウントを使用します。"
   ]
  },
  {
   "cell_type": "markdown",
   "metadata": {},
   "source": [
    "更新された記事のページでわかるように、私は3つの新しい記事を追加しました。   \n",
    "個々の記事をクリックすると、タイトル、本文、著者が表示されますが、日付は表示されません。   \n",
    "これは、Djangoが自動的に日付を追加したため、管理者が日付を変更できないためです。   \n",
    "編集可能な日付を作ることができます - より複雑なアプリケーションでは、created_atとupdated_atの両方のフィールドを持つのが一般的ですが、Djangoの作成時に日付を設定するだけです。   \n",
    "日付はここには表示されませんが、テンプレート内で日付にアクセスできるため、ウェブページに表示することができます。"
   ]
  },
  {
   "cell_type": "markdown",
   "metadata": {},
   "source": [
    "# URLs and Views"
   ]
  },
  {
   "cell_type": "markdown",
   "metadata": {},
   "source": [
    "次のステップは、URLとビューを設定することです。   \n",
    "私たちの記事をarticles /に載せてみましょう。   \n",
    "プロジェクトレベルのurls.pyファイルに記事のURLパターンを追加します。"
   ]
  },
  {
   "cell_type": "markdown",
   "metadata": {},
   "source": [
    "-- code --"
   ]
  },
  {
   "cell_type": "markdown",
   "metadata": {},
   "source": [
    "次に、articles / urls.pyファイルを作成します。"
   ]
  },
  {
   "cell_type": "markdown",
   "metadata": {},
   "source": [
    "-- cmd --"
   ]
  },
  {
   "cell_type": "markdown",
   "metadata": {},
   "source": [
    "その後、私たちのルートを設定します。   \n",
    "ArticleListViewビューを使用するarticle /にすべての記事をリストするページから始めましょう。"
   ]
  },
  {
   "cell_type": "markdown",
   "metadata": {},
   "source": [
    "-- code --"
   ]
  },
  {
   "cell_type": "markdown",
   "metadata": {},
   "source": [
    "Djangoの組み込み汎用ListViewを使用してビューを作成します。"
   ]
  },
  {
   "cell_type": "markdown",
   "metadata": {},
   "source": [
    "-- code --"
   ]
  },
  {
   "cell_type": "markdown",
   "metadata": {},
   "source": [
    "指定する必要があるのは、モデル記事とテンプレート名です（article_list.htmlになります）。   \n",
    "最後のステップはテンプレートを作成することです。 コマンドラインから空のファイルを作ることができます。"
   ]
  },
  {
   "cell_type": "markdown",
   "metadata": {},
   "source": [
    "-- cmd --"
   ]
  },
  {
   "cell_type": "markdown",
   "metadata": {},
   "source": [
    "ブートストラップにはカードと呼ばれる組み込みコンポーネントがあり、個別の記事用にカスタマイズすることができます。  \n",
    "ListViewはobject_listというオブジェクトを返します。  \n",
    "これは、forループを使用して反復処理を行うことができます。   \n",
    "各記事内には、タイトル、本文、著者、日付が表示されます。   \n",
    "私たちはまだ構築していない機能を \"編集\" \"削除\"するためのリンクを提供することもできます。"
   ]
  },
  {
   "cell_type": "markdown",
   "metadata": {},
   "source": [
    "-- code --"
   ]
  },
  {
   "cell_type": "markdown",
   "metadata": {},
   "source": [
    "python manage.py runserverを使用してサーバーを再度スピンアップし、http：// 127.0.0.1：8000 / articles /のページをご覧ください。   \n",
    "悪くないよね？ 私たちが気になるようにしたい場合は、出力された日付が秒、分、または日数で表示されるようにカスタムテンプレートフィルタを作成することができます。   \n",
    "これはいくつかのif / elseロジックとDjangoの日付オプションで行うことができますが、ここでは実装しません。"
   ]
  },
  {
   "cell_type": "markdown",
   "metadata": {},
   "source": [
    "# Edit/Delete"
   ]
  },
  {
   "cell_type": "markdown",
   "metadata": {},
   "source": [
    "編集オプションと削除オプションはどのように追加するのですか？ \n",
    "新しいURL、ビュー、テンプレートが必要です。   \n",
    "URLから始めましょう。   \n",
    "Djangoが各データベースにプライマリキーを自動的に追加するという利点を利用することができます。   \n",
    "したがって、主キーが1の最初の記事は記事/ 1 / edit /にあり、削除ルートは記事/ 1 / delete /にあります。"
   ]
  },
  {
   "cell_type": "markdown",
   "metadata": {},
   "source": [
    "-- code --"
   ]
  },
  {
   "cell_type": "markdown",
   "metadata": {},
   "source": [
    "今度は、DjangoのDetailView、UpdateView、DeleteViewのジェネリッククラスベースのビューを使用するビューを記述してください。   \n",
    "更新可能なフィールドはtitleとbodyです。  \n",
    "記事を削除した後にユーザーをリダイレクトする場所はarticle_listです。"
   ]
  },
  {
   "cell_type": "markdown",
   "metadata": {},
   "source": [
    "-- code --"
   ]
  },
  {
   "cell_type": "markdown",
   "metadata": {},
   "source": [
    "最後に新しいテンプレートを追加する必要があります。   \n",
    "Control cを使用してサーバーを停止し、次のように入力します。"
   ]
  },
  {
   "cell_type": "markdown",
   "metadata": {},
   "source": [
    "-- cmd --"
   ]
  },
  {
   "cell_type": "markdown",
   "metadata": {},
   "source": [
    "タイトル、日付、本文、著者を編集して削除するリンクが表示される詳細ページから始めます。   \n",
    "また、すべての記事にリンクします。   \n",
    "Djangoテンプレート言語のurlタグはURL名とそれに引き渡される引数を必要としていることを思い出してください。  \n",
    "編集ルートの名前はarticle_editで、主キーarticle.pkを渡す必要があります。   \n",
    "削除ルート名はarticle_deleteで、主キーarticle.pkも必要です。 私たちの記事ページはListViewなので、渡された追加の引数は必要ありません。"
   ]
  },
  {
   "cell_type": "markdown",
   "metadata": {},
   "source": [
    "-- code --"
   ]
  },
  {
   "cell_type": "markdown",
   "metadata": {},
   "source": [
    "編集と削除のページでは、ブートストラップのボタンのスタイリングを使って編集ボタンを青色にし、削除ボタンを赤色にすることができます。"
   ]
  },
  {
   "cell_type": "markdown",
   "metadata": {},
   "source": [
    "-- code --  \n",
    "-- code --"
   ]
  },
  {
   "cell_type": "markdown",
   "metadata": {},
   "source": [
    "最後のステップとして、card-footerのdivクラスのリストページに編集リンクと削除リンクを追加することができます。  \n",
    "これらは、詳細ページに追加されたものと同じです。"
   ]
  },
  {
   "cell_type": "markdown",
   "metadata": {},
   "source": [
    "さて、私たちは私たちの仕事を見る準備ができています。 python manage.py runserverでサーバーを起動し、http：// 127.0.0.1：8000 / articles /の記事ページに移動します。 最初の記事の「編集」のリンクをクリックすると、次のようにリダイレクトされます：\n",
    "\n",
    "http：// 127.0.0.1：8000 / articles / 1 / edit /\n",
    "\n",
    "ページの編集\n",
    "\n",
    "「タイトル」フィールドを更新して更新をクリックすると、新しい変更を示す詳細ページにリダイレクトされます。\n",
    "\n",
    "詳細ページ\n",
    "\n",
    "[削除]リンクをクリックすると、削除ページにリダイレクトされます。\n",
    "\n",
    "ページを削除"
   ]
  },
  {
   "cell_type": "markdown",
   "metadata": {},
   "source": [
    "怖い赤いボタンを押して「削除」を押すと記事ページにリダイレクトされ、2つのエントリだけが表示されます。\n",
    "\n",
    "  記事2ページのエントリ"
   ]
  },
  {
   "cell_type": "markdown",
   "metadata": {},
   "source": [
    "# Create page"
   ]
  },
  {
   "cell_type": "markdown",
   "metadata": {},
   "source": [
    "最後のステップは、DjangoのCreateViewでできる新しい記事の作成ページです。   \n",
    "私たちの3つのステップは、ビュー、URL、およびテンプレートを作成することです。   \n",
    "この流れは今ではかなり親しみを感じるはずです。   \n",
    "私たちのビュー・ファイルでは、上部にあるインポートにCreateViewを追加し、使用可能なモデル、テンプレート、およびフィールドを指定する、ArticleCreateViewファイルの最後に新しいクラスを作成します。"
   ]
  },
  {
   "cell_type": "markdown",
   "metadata": {},
   "source": [
    "-- code --"
   ]
  },
  {
   "cell_type": "markdown",
   "metadata": {},
   "source": [
    "私たちのフィールドには、新しい記事を作成者と関連付ける必要があるため、作成者がいますが、記事が作成されると、作成者が変更することはできません。そのため、ArticleUpdateViewには[ 'title','body']。 URLファイルをビューの新しいルートに更新します。"
   ]
  },
  {
   "cell_type": "markdown",
   "metadata": {},
   "source": [
    "-- code --"
   ]
  },
  {
   "cell_type": "markdown",
   "metadata": {},
   "source": [
    "次に、サーバーのコントロールcを終了して、article_new.htmlという名前の新しいテンプレートを作成します。"
   ]
  },
  {
   "cell_type": "markdown",
   "metadata": {},
   "source": [
    "-- code --"
   ]
  },
  {
   "cell_type": "markdown",
   "metadata": {},
   "source": [
    "次のHTMLコードで更新してください。"
   ]
  },
  {
   "cell_type": "markdown",
   "metadata": {},
   "source": [
    "-- code --"
   ]
  },
  {
   "cell_type": "markdown",
   "metadata": {},
   "source": [
    "最後に、ナビゲーションに新しい記事を作成するためのリンクを追加して、ログインしているユーザーのサイトのどこにでもアクセスできるようにする必要があります。"
   ]
  },
  {
   "cell_type": "markdown",
   "metadata": {},
   "source": [
    "-- code --"
   ]
  },
  {
   "cell_type": "markdown",
   "metadata": {},
   "source": [
    "記事ページを更新すると、トップナビゲーションバーに変更が表示されます\n",
    "\n",
    "：Navbar new link\n",
    "\n",
    "今もオリジナルのホームページを改善するためにブートストラップを使用しないのはなぜですか？ テンプレート/ home.htmlを次のように更新することができます。"
   ]
  },
  {
   "cell_type": "markdown",
   "metadata": {},
   "source": [
    "-- code --"
   ]
  },
  {
   "cell_type": "markdown",
   "metadata": {},
   "source": [
    "私たちはすべて終わった。 期待どおりにすべてが機能することを確認しましょう。 サーバーを再起動し、python manage.py runserverを開き、http：// 127.0.0.1：8000 /のホームページに移動します。\n",
    "\n",
    "navの新しいリンクのあるホームページ\n",
    "\n",
    "上のナビゲーションで「新規」のリンクをクリックすると、作成ページにリダイレクトされます。\n",
    "\n",
    "ページを作成\n",
    "\n",
    "新しい記事を作成してください。 次に、[保存]ボタンをクリックします。 詳細ページにリダイレクトされます。 どうして？ 私たちのmodels.pyファイルでは、get_absolute_urlメソッドをarticle_detailに設定しています。 これは良いアプローチです。後で、詳細ページのURLパターンをarticles / details / 4 /などに変更すると、リダイレクトは引き続き機能するためです。 article_detailに関連付けられているルートが使用されます。 ルート自体のハードコーディングはありません。"
   ]
  },
  {
   "cell_type": "markdown",
   "metadata": {},
   "source": [
    "詳細ページ\n",
    "\n",
    "ここでの主キーはURLの4であることにも注意してください。 現在3つの記事しか表示していませんが、Djangoは主キーを削除したため、主キーの順序を変更しません。 実際には、ほとんどの現実世界のサイトは実際に何も削除しません。 代わりに削除されたフィールドを「隠す」ため、データベースの整合性を維持しやすくなり、必要に応じて後で「元に戻す」オプションが与えられます。 何かが削除されると、私たちの現在のアプローチでは、それはうまくいっています！\n",
    "\n",
    "\"すべての記事\"のリンクをクリックすると、新しい/記事のページが表示されます。\n",
    "記事の更新ページ\n",
    "\n",
    "予想通り底に新しい記事があります。"
   ]
  },
  {
   "cell_type": "markdown",
   "metadata": {},
   "source": [
    "# Conclusion"
   ]
  },
  {
   "cell_type": "markdown",
   "metadata": {},
   "source": [
    "私たちはCRUD機能を備えた専用記事アプリを作成しました。   \n",
    "しかし、誰も何もできないことを意味する許可や許可はまだありません！   \n",
    "ログアウトしたユーザーはすべてのURLを訪れることができ、ログインしているユーザーは既存の記事を編集したり削除したりすることができます。   \n",
    "次の章では、この問題を解決するためにプロジェクトに権限と権限を追加します。"
   ]
  },
  {
   "cell_type": "code",
   "execution_count": null,
   "metadata": {},
   "outputs": [],
   "source": []
  }
 ],
 "metadata": {
  "kernelspec": {
   "display_name": "Python 3",
   "language": "python",
   "name": "python3"
  },
  "language_info": {
   "codemirror_mode": {
    "name": "ipython",
    "version": 3
   },
   "file_extension": ".py",
   "mimetype": "text/x-python",
   "name": "python",
   "nbconvert_exporter": "python",
   "pygments_lexer": "ipython3",
   "version": "3.7.0"
  }
 },
 "nbformat": 4,
 "nbformat_minor": 2
}
