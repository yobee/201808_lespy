{
 "cells": [
  {
   "cell_type": "markdown",
   "metadata": {},
   "source": [
    "この章では、パスワード変更とリセット機能を追加することで、新聞アプリの承認フローを完成させます。 ユーザーは現在のパスワードを変更するか、パスワードを忘れた場合は電子メールでリセットすることができます。   \n",
    "  \n",
    "Djangoには、ログインとログアウトのためのビューとURLが組み込まれているのと同様に、パスワードの変更とリセットの両方についてビュー/ URLも付属しています。 最初にデフォルトのバージョンを調べて、独自のブートストラップベースのテンプレートと電子メールサービスでカスタマイズする方法を学びます。"
   ]
  },
  {
   "cell_type": "markdown",
   "metadata": {},
   "source": [
    "# Password Change"
   ]
  },
  {
   "cell_type": "markdown",
   "metadata": {},
   "source": [
    "ユーザーにパスワードを変更させることは、多くのWebサイトで共通の機能です。   \n",
    "Djangoはこの段階ですでに動作するデフォルト実装を提供しています。   \n",
    "それを試してみるには、ログインしていることを確認するために「ログイン」ボタンをクリックしてください。  \n",
    "その後、http：// 127.0.0.1：8000 / users / password_change /にある「パスワード変更」ページに移動してください。   \n",
    "  \n",
    "パスワードの変更古いパスワードと新しいパスワードの両方を入力します。   \n",
    "次に、[パスワードの変更]ボタンをクリックします。   \n",
    "http：// 127.0.0.1：8000 / users / password_change / done /にある「パスワード変更が成功しました」ページにリダイレクトされます。"
   ]
  },
  {
   "cell_type": "markdown",
   "metadata": {},
   "source": [
    "# Customizing password change"
   ]
  },
  {
   "cell_type": "markdown",
   "metadata": {},
   "source": [
    "この2つのパスワード変更ページをカスタマイズして、新聞サイトのルック・アンド・フィールに合わせましょう。   \n",
    "Djangoは既にビューとURLを作成しているので、新しいテンプレートを追加するだけです。   \n",
    "コマンドラインでローカルサーバーのControl cを停止し、2つの新しいテンプレートファイルを登録フォルダに作成します。"
   ]
  },
  {
   "cell_type": "markdown",
   "metadata": {},
   "source": [
    "-- cmd --"
   ]
  },
  {
   "cell_type": "markdown",
   "metadata": {},
   "source": [
    "次のコードでpassword_change_form.htmlを更新してください。"
   ]
  },
  {
   "cell_type": "markdown",
   "metadata": {},
   "source": [
    "--code--"
   ]
  },
  {
   "cell_type": "markdown",
   "metadata": {},
   "source": [
    "上にbase.htmlを拡張し、ページタイトルを設定します。   \n",
    "私たちはbase.htmlファイルで \"ブロック\"タイトルを使用していたので、ここでそれらを上書きすることができます。   \n",
    "セキュリティ上の理由から、私たちはデータとcsrf_tokenを送信しているので、このフォームはPOSTを使用します。   \n",
    "form.as_pを使うことで、デフォルトのパスワードリセットフォームの内容を段落に表示します。   \n",
    "最後に、Bootstrapのbtn btn-successスタイリングを使用して緑色にする送信ボタンを追加します。   \n",
    "http：// 127.0.0.1：8000 / users / password_change /にあるページを更新して、変更内容を確認してください。   \n",
    "新しいパスワード変更フォーム次に、password_change_doneテンプレートが表示されます。"
   ]
  },
  {
   "cell_type": "markdown",
   "metadata": {},
   "source": [
    "上にbase.htmlを拡張し、ページタイトルを設定します。   \n",
    "私たちはbase.htmlファイルで \"ブロック\"タイトルを使用していたので、ここでそれらを上書きすることができます。   \n",
    "セキュリティ上の理由から、私たちはデータとcsrf_tokenを送信しているので、このフォームはPOSTを使用します。  \n",
    "form.as_pを使うことで、デフォルトのパスワードリセットフォームの内容を段落に表示します。   \n",
    "最後に、Bootstrapのbtn btn-successスタイリングを使用して緑色にする送信ボタンを追加します。   \n",
    "http：// 127.0.0.1：8000 / users / password_change /にあるページを更新して、変更内容を確認してください。  \n",
    "  \n",
    "次に、password_change_doneテンプレートがあります。"
   ]
  },
  {
   "cell_type": "markdown",
   "metadata": {},
   "source": [
    "入力した電子メールアドレスがユーザーアカウントの1つに一致していることを確認してください。 提出すると、パスワードリセット完了ページにリダイレクトされます：\n",
    "\n",
    "http：// 127.0.0.1：8000 / users / password_reset / done /。\n",
    "\n",
    "私たちの電子メールをチェックすると言う。 Djangoにコマンドラインコンソールに電子メールを送信するように指示したので、電子メールテキストがそこに表示されます。 これは私のコンソールで見るものです。"
   ]
  },
  {
   "cell_type": "markdown",
   "metadata": {},
   "source": [
    "--cmd--"
   ]
  },
  {
   "cell_type": "markdown",
   "metadata": {},
   "source": [
    "あなたの電子メールテキストは、3行を除いて同一でなければなりません：\n",
    "\n",
    "6行目の「To」には、ユーザーの電子メールアドレス\n",
    "URLリンクにはDjangoがランダムに生成した安全なトークンが含まれていますので、一度しか使用できません\n",
    "Djangoは私たちのユーザ名をお手伝いします\n",
    "\n",
    "まもなく電子メールのデフォルトのテキストをすべてカスタマイズしますが、現在はリンクの検索に集中しています。 上記のメッセージでは、私は：\n",
    "\n",
    "http：// 127.0.0.1：8000 / users / reset / MQ / 4yy-2dde95cd69631c8d938e /\n",
    "\n",
    "このリンクをWebブラウザに入力すると、「パスワード変更ページ」にリダイレクトされます。\n",
    "\n",
    "新しいパスワードを入力して、[パスワードを変更]ボタンをクリックします。 最後のステップは、「パスワードリセット完了」ページにリダイレクトされることです。\n",
    "\n",
    "すべての作業を確認するには、[ログイン]リンクをクリックして新しいパスワードを使用してください。 それは動作するはずです。"
   ]
  },
  {
   "cell_type": "markdown",
   "metadata": {},
   "source": [
    "# Custom Templates"
   ]
  },
  {
   "cell_type": "markdown",
   "metadata": {},
   "source": [
    "「パスワード変更」と同様に、パスワードリセットのルック＆フィールをカスタマイズするための新しいテンプレートを作成するだけで済みます。   \n",
    "Control cを使用してローカルサーバーを停止し、4つの新しいテンプレートファイルを作成します。"
   ]
  },
  {
   "cell_type": "markdown",
   "metadata": {},
   "source": [
    "--cmd--"
   ]
  },
  {
   "cell_type": "markdown",
   "metadata": {},
   "source": [
    "パスワードリセットフォーム（password_reset_form.html）から始めます。"
   ]
  },
  {
   "cell_type": "markdown",
   "metadata": {},
   "source": [
    "-- code --"
   ]
  },
  {
   "cell_type": "markdown",
   "metadata": {},
   "source": [
    "上にbase.htmlを拡張し、ページタイトルを設定します。   \n",
    "私たちはbase.htmlファイルで \"ブロック\"タイトルを使用していたので、ここでそれらを上書きすることができます。   \n",
    "セキュリティ上の理由から、私たちはデータとcsrf_tokenを送信しているので、このフォームはPOSTを使用します。  \n",
    "form.as_pを使うことで、デフォルトのパスワードリセットフォームの内容を段落に表示します。   \n",
    "最後に、送信ボタンを追加し、Bootstrapのbtn btn-successスタイリングを使用して緑色にします。   \n",
    "python manage.py runserverを使ってサーバを再起動してください。   \n",
    "http：// 127.0.0.1：8000 / users / password_reset /に移動します。   \n",
    "新しいページが表示されるページを更新します。"
   ]
  },
  {
   "cell_type": "markdown",
   "metadata": {},
   "source": [
    "他の3つのページを更新できるようになりました。   \n",
    "それぞれは、同じ形式の拡張base.html、新しいタイトル、新しいコンテンツテキスト、およびpassword_reset_confirm.htmlの更新されたフォームを取ります。"
   ]
  },
  {
   "cell_type": "markdown",
   "metadata": {},
   "source": [
    "-- code --"
   ]
  },
  {
   "cell_type": "markdown",
   "metadata": {},
   "source": [
    "http：// 127.0.0.1：8000 / users / password_reset / done /に移動して変更を確認します。"
   ]
  },
  {
   "cell_type": "markdown",
   "metadata": {},
   "source": [
    "次に、パスワードリセット確認ページ。"
   ]
  },
  {
   "cell_type": "markdown",
   "metadata": {},
   "source": [
    "コマンドラインで、コンソールに出力された電子メールからのURLリンクはhttp：// 127.0.0.1：8000 / users / reset / MQ / 4yy-2dde95cd69631c8d938e /でした。   \n",
    "最後にパスワードリセット完了コードがあります。"
   ]
  },
  {
   "cell_type": "markdown",
   "metadata": {},
   "source": [
    "あなたはhttp：// 127.0.0.1：8000 / users / reset / done /で見ることができます。 ユーザーはアカウントのパスワードをリセットできるようになりました。"
   ]
  },
  {
   "cell_type": "markdown",
   "metadata": {},
   "source": [
    "# Conclusion"
   ]
  },
  {
   "cell_type": "markdown",
   "metadata": {},
   "source": [
    "次の章では、新聞アプリを電子メールサービスSendGridに接続して、コマンドラインコンソールで出力するのではなく、実際に自動化された電子メールをユーザーに送信します。"
   ]
  },
  {
   "cell_type": "code",
   "execution_count": null,
   "metadata": {},
   "outputs": [],
   "source": []
  }
 ],
 "metadata": {
  "kernelspec": {
   "display_name": "Python 3",
   "language": "python",
   "name": "python3"
  },
  "language_info": {
   "codemirror_mode": {
    "name": "ipython",
    "version": 3
   },
   "file_extension": ".py",
   "mimetype": "text/x-python",
   "name": "python",
   "nbconvert_exporter": "python",
   "pygments_lexer": "ipython3",
   "version": "3.7.0"
  }
 },
 "nbformat": 4,
 "nbformat_minor": 2
}
