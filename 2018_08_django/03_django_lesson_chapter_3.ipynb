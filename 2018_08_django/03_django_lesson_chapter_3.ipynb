{
 "cells": [
  {
   "cell_type": "markdown",
   "metadata": {},
   "source": [
    "### Chapter３: Pages app"
   ]
  },
  {
   "cell_type": "markdown",
   "metadata": {},
   "source": [
    "この章では、ホームページとaboutページを持つPagesアプリケーションを構築、テスト、デプロイします。   \n",
    "Djangoのクラスベースのビューとテンプレートについては、この本の後半で構築されるより複雑なWebアプリケーションのビルディングブロックです。"
   ]
  },
  {
   "cell_type": "markdown",
   "metadata": {},
   "source": [
    "### Initial Set Up"
   ]
  },
  {
   "cell_type": "markdown",
   "metadata": {},
   "source": [
    "第2章：Hello Worldアプリの初期設定では、次の手順を実行します。"
   ]
  },
  {
   "cell_type": "markdown",
   "metadata": {},
   "source": [
    "- コードのための新しいディレクトリを作成します。  \n",
    "- 新しい仮想環境にDjangoをインストールする。  \n",
    "- 新しいDjangoプロジェクトを作成します。  \n",
    "- 新しいページアプリを作成します。   \n",
    "- settings.pyを更新"
   ]
  },
  {
   "cell_type": "markdown",
   "metadata": {},
   "source": [
    "コマンドラインで、既存の仮想環境で作業していないことを確認してください。コマンドラインプロンプトの前にカッコ内に何かがあるかどうかを知ることができます。 exitと入力するだけで終了します。  \n",
    "プロジェクトの新しいディレクトリページをデスクトップ上に作成し直しますが、自分の好きな場所にコードを置くことができます。それは単にそれ自身のディレクトリにある必要があります。  \n",
    " 新しいコマンドラインコンソールで、次のように入力します。  "
   ]
  },
  {
   "cell_type": "raw",
   "metadata": {},
   "source": [
    "$ cd ~/ Desktop   \n",
    "$ mkdir pages   \n",
    "$ cd pages   \n",
    "$ pipenv install django == 2.1   \n",
    "$ pipenv shell\n",
    "(pages) $ django-admin startproject pages_project .   \n",
    "(pages) $ python manage.py startapp pages"
   ]
  },
  {
   "cell_type": "markdown",
   "metadata": {},
   "source": [
    "私はここで仮想環境を表現するために（ページ）を使用していますが、現実には私の形式は（pages-unOYeQ9e）です。あなたの仮想環境名も一意になります（pages-XXXなど）。  \n",
    "テキストエディタを開き、settings.pyファイルに移動します。 INSTALLED_APPSのページアプリをプロジェクトに追加します："
   ]
  },
  {
   "cell_type": "markdown",
   "metadata": {},
   "source": [
    "------- pages_project/ settings.py ------"
   ]
  },
  {
   "cell_type": "markdown",
   "metadata": {},
   "source": [
    "runserverを使用してローカルWebサーバーを開始します。"
   ]
  },
  {
   "cell_type": "raw",
   "metadata": {},
   "source": [
    "(pages) $ python manage.py runserver"
   ]
  },
  {
   "cell_type": "markdown",
   "metadata": {},
   "source": [
    "# Templates"
   ]
  },
  {
   "cell_type": "markdown",
   "metadata": {},
   "source": [
    "すべてのWebフレームワークでは、HTMLファイルを生成する便利な方法が必要です。  \n",
    "Djangoでは、個々のHTMLファイルをURLで指定されたWebページへのビューで提供できるように、テンプレートを使用します。  \n",
    "\n",
    "これはDjangoの開発で何度も見られるので、このパターンを繰り返す価値があります：テンプレート、ビュー、URL。あなたがそれらを作成する順序は、3つすべてが必要であり、緊密に連携しているので、あまり重要ではありません。   \n",
    "URLは初期ルート、/ aboutな​​どのページへのエントリポイントを制御し、ビューにはロジックまたは「what」が含まれ、テンプレートにはHTMLが含まれます。データベースモデルに依存するWebページの場合、テンプレートで使用可能なデータを決定するための多くの作業を行うビューです。\n",
    "\n",
    "So：テンプレート、ビュー、URL。このパターンはあなたが作るすべてのDjango Webページに当てはまります。  \n",
    "しかし、あなたがそれを内面化する前に何度か繰り返します。\n",
    "\n",
    "動きましたね。  \n",
    "テンプレートディレクトリをどこに置くべきかという問題は、初心者のために混乱することがあります。  \n",
    "デフォルトでは、Djangoは各アプリ内でテンプレートを探します。  \n",
    "私たちのページアプリケーションでは、home.htmlテンプレートが次の場所に配置されることが期待されます"
   ]
  },
  {
   "cell_type": "markdown",
   "metadata": {},
   "source": [
    "    └ ─ ─ pages \n",
    "                    ├ ─ ─ templates \n",
    "                                        ├ ─ ─ pages \n",
    "                                                        ├ ─ ─ home.html"
   ]
  },
  {
   "cell_type": "markdown",
   "metadata": {},
   "source": [
    "つまり、新しいテンプレートディレクトリ、アプリケーションの名前を持つ新しいディレクトリ、ページ、最後にhome.htmlというテンプレート自体を作成する必要があります。\n",
    "\n",
    "一般的な質問は、なぜこの繰り返し構造ですか？  \n",
    "簡単な答えは、Djangoのテンプレートローダが実際に正しいテンプレートを見つけ出したいと思っていて、これがどのようにそれらを探すのかということです。\n",
    " \n",
    "幸い、Djangoプロジェクトでテンプレートを構造化するためによく使われる別のアプローチがあります。  \n",
    "それは、代わりに、すべてのアプリで使用できる単一のプロジェクトレベルのテンプレートディレクトリを作成することです。  \n",
    "これが私たちが使う方法です。   \n",
    "settings.pyファイルを少し微調整することで、Djangoにこのプロジェクトレベルのフォルダのテンプレートを探すよう指示することができます。\n",
    "\n",
    "まずControl + cを使用してサーバーを終了します。  \n",
    "次に、templatesというプロジェクトレベルのフォルダとhome.htmlというHTMLファイルを作成します。"
   ]
  },
  {
   "cell_type": "raw",
   "metadata": {},
   "source": [
    "(pages) $ mkdir templates   \n",
    "(pages) $ touch templates/ home.html"
   ]
  },
  {
   "cell_type": "markdown",
   "metadata": {},
   "source": [
    "次に、settings.pyを更新してDjangoにテンプレートのプロジェクトレベルを見てもらうように指示する必要があります。これは、TEMPLATESの下にある 'DIRS'設定の1行の変更です。"
   ]
  },
  {
   "cell_type": "markdown",
   "metadata": {},
   "source": [
    "---------- pages_project/ settings.py ---------"
   ]
  },
  {
   "cell_type": "markdown",
   "metadata": {},
   "source": [
    "次に、home.htmlファイルに簡単な見出しを追加することができます。コード"
   ]
  },
  {
   "cell_type": "raw",
   "metadata": {},
   "source": [
    "<!-- templates/ home.html -->"
   ]
  },
  {
   "cell_type": "markdown",
   "metadata": {},
   "source": [
    "テンプレートが完成しました！次のステップは、URLと表示を設定することです。"
   ]
  },
  {
   "cell_type": "markdown",
   "metadata": {},
   "source": [
    "# Class-Based Views"
   ]
  },
  {
   "cell_type": "markdown",
   "metadata": {},
   "source": [
    "Djangoの初期のバージョンでは、関数ベースのビューしか提供されていませんでしたが、開発者はすぐに同じパターンを何度も繰り返していました。モデル内のすべてのオブジェクトをリストするビューを作成します。モデルから1つの詳細項目だけを表示するビューを作成します。\n",
    "\n",
    "これらのパターンを抽象化し、共通パターンの開発を合理化するために、関数ベースの汎用ビューが導入されました。しかし、これらのビューを拡張またはカスタマイズする簡単な方法はありませんでした。その結果、Djangoはクラスベースのジェネリックビューを導入し、使いやすくし、一般的なユースケースをカバーするビューを拡張しました。\n",
    "\n",
    "クラスはPythonの基本的な部分ですが、それらの徹底的な議論はこの本の範囲を超えています。導入やリフレッシャーが必要な場合は、クラスとその使用法に関する優れたチュートリアルを持っている公式のPythonドキュメントを見直すことをお勧めします。\n",
    "\n",
    "私たちの見解では、組み込みのTemplateViewを使用してテンプレートを表示します。 pages / views.pyファイルを更新します。"
   ]
  },
  {
   "cell_type": "markdown",
   "metadata": {},
   "source": [
    "----- pages/views.py -------"
   ]
  },
  {
   "cell_type": "markdown",
   "metadata": {},
   "source": [
    "今はPythonクラスなので、私たちは視点を大文字にしています。  \n",
    "関数とは異なり、クラスは常に大文字にする必要があります。   \n",
    "TemplateViewには既にテンプレートを表示するのに必要なすべてのロジックが含まれています。テンプレートの名前を指定するだけです。\n",
    "\n",
    "# URL\n",
    "\n",
    "最後のステップは、URLConfsを更新することです。  \n",
    "第2章から、2つの場所で更新が必要であることを思い出してください。  \n",
    "最初に、プロジェクトレベルのurls.pyファイルを更新し、ページ内のアプリケーションをポイントし、ページ内でビューをルートに一致させます。"
   ]
  },
  {
   "cell_type": "markdown",
   "metadata": {},
   "source": [
    "プロジェクトレベルのurls.pyファイルから始めましょう"
   ]
  },
  {
   "cell_type": "markdown",
   "metadata": {},
   "source": [
    "----- pages_project/urls.py -------"
   ]
  },
  {
   "cell_type": "markdown",
   "metadata": {},
   "source": [
    "ここのコードはこの時点で再検討する必要があります。   \n",
    "2番目の行にincludeを追加して、既存のURLをページアプリに向けます。  \n",
    "次に、アプリレベルのurls.pyファイルを作成します。"
   ]
  },
  {
   "cell_type": "raw",
   "metadata": {},
   "source": [
    "(pages) $ touch pages/urls.py"
   ]
  },
  {
   "cell_type": "markdown",
   "metadata": {},
   "source": [
    "そして次のコードを追加します。"
   ]
  },
  {
   "cell_type": "markdown",
   "metadata": {},
   "source": [
    "----- pages/urls.py ------"
   ]
  },
  {
   "cell_type": "markdown",
   "metadata": {},
   "source": [
    "このパターンは第2章で行ったことと大きな違いがあります。  \n",
    "クラスベースのビューを使用する場合は、常にビュー名の最後にas_view（）を追加します。  そして我々は終わった！  \n",
    "python manage.py runserverでWebサーバーを起動し、\n",
    "http：//127.0.0.1:8000に移動すると、新しいホームページが表示されます。"
   ]
  },
  {
   "cell_type": "markdown",
   "metadata": {},
   "source": [
    "# Add an About Page"
   ]
  },
  {
   "cell_type": "markdown",
   "metadata": {},
   "source": [
    "ページを追加するプロセスは、私たちがやったことと非常によく似ています。  \n",
    "新しいテンプレートファイル、新しいビュー、新しいURLルートを作成します。  \n",
    "Control + cを使用してサーバーを終了し、about.htmlという新しいテンプレートを作成します。"
   ]
  },
  {
   "cell_type": "raw",
   "metadata": {},
   "source": [
    "(pages) $ touch templates/about.html"
   ]
  },
  {
   "cell_type": "markdown",
   "metadata": {},
   "source": [
    "その後、短いHTML見出しを入力します。"
   ]
  },
  {
   "cell_type": "markdown",
   "metadata": {},
   "source": [
    "-- templates/ about.html --"
   ]
  },
  {
   "cell_type": "markdown",
   "metadata": {},
   "source": [
    "ページの新しいビューを作成します。"
   ]
  },
  {
   "cell_type": "markdown",
   "metadata": {},
   "source": [
    "-- pages/views.py --"
   ]
  },
  {
   "cell_type": "markdown",
   "metadata": {},
   "source": [
    "それを約/にURLに接続します。"
   ]
  },
  {
   "cell_type": "markdown",
   "metadata": {},
   "source": [
    "-- pages/urls.py --"
   ]
  },
  {
   "cell_type": "markdown",
   "metadata": {},
   "source": [
    "python manage.py runserverでWebサーバーを起動します。 http：//127.0.0.1：8000/ abouページに移動すると、新しい「バージョン情報」ページが表示されます。"
   ]
  },
  {
   "cell_type": "markdown",
   "metadata": {},
   "source": [
    "# Extending Templates"
   ]
  },
  {
   "cell_type": "markdown",
   "metadata": {},
   "source": [
    "テンプレートの真のパワーは、拡張する能力です。ほとんどのWebサイトについて考えると、すべてのページ（ヘッダー、フッターなど）に繰り返し表示されるコンテンツがあります。開発者として他のすべてのテンプレートに継承されるヘッダーコード用に標準的な場所を1つ持つことができればいいとは思いませんか？\n",
    "\n",
    "さて、私たちはできます！ 2つのページへのリンクを含むヘッダを含むbase.htmlファイルを作成しましょう。このファイルの名前は何でも構いませんが、base.htmlを使用するのが一般的な方法です。最初にCtrl + cを押し、次のように入力します。"
   ]
  },
  {
   "cell_type": "raw",
   "metadata": {},
   "source": [
    "(pages) $ touch templates/base.html"
   ]
  },
  {
   "cell_type": "markdown",
   "metadata": {},
   "source": [
    "Djangoには、テンプレートにリンクと基本ロジックを追加するための最小のテンプレート言語があります。組み込みのテンプレートタグの完全なリストは、公式ドキュメントにあります。  \n",
    "テンプレートタグは{％something％}の形式をとり、「何か」はテンプレートタグそのものです。  \n",
    "独自のカスタムテンプレートタグを作成することもできますが、この本では行いません。  \n",
    "\n",
    "プロジェクトにURLリンクを追加するには、URLパターン名を引数として持つ組み込みurlテンプレートタグを使用できます。  \n",
    "\n",
    "URLルーターにオプションのURL名を追加する方法を覚えていますか？これが理由です。  \n",
    "urlタグはこれらの名前を使用して自動的にリンクを作成します。  \n",
    "私たちのホームページのURLルートはhomeと呼ばれ、そのリンクを設定するために{％url 'home'％}を使用します。"
   ]
  },
  {
   "cell_type": "markdown",
   "metadata": {},
   "source": [
    "-- templates/ base.html --"
   ]
  },
  {
   "cell_type": "markdown",
   "metadata": {},
   "source": [
    "一番下にcontentというブロックタグが追加されました。継承を介して子テンプレートによってブロックを上書きすることができます。クローズエンドブロックの名前を付けることは任意ですが、特に大型のテンプレートファイルでは、読みやすくするために{％endblock％}と書いてください。  \n",
    "home.htmlとabout.htmlを更新して、base.htmlテンプレートを拡張しましょう。  \n",
    "つまり、あるテンプレートの同じコードを別のテンプレートで再利用できます。   \n",
    "Djangoテンプレート言語には、これに使用できるextendsメソッドが付属しています。"
   ]
  },
  {
   "cell_type": "markdown",
   "metadata": {},
   "source": [
    "-- templates/ home.html --  \n",
    "-- templates/ about.html --"
   ]
  },
  {
   "cell_type": "markdown",
   "metadata": {},
   "source": [
    "今度は、あなたがpython manage.py runserverでサーバを起動し、http：//127.0.0.1：8000 /とhttp：// 127.0.0.1：8000 / aboutで私たちのウェブページを再度開くと、ヘッダが魔法にかかっていることがわかります両方の場所に含まれています。"
   ]
  },
  {
   "cell_type": "markdown",
   "metadata": {},
   "source": [
    "# TEST"
   ]
  },
  {
   "cell_type": "markdown",
   "metadata": {},
   "source": [
    "最後にテストに出ます。この基本的なアプリケーションでさえ、テストを追加して、常にDjangoプロジェクトにテストを追加する習慣を得ることが重要です。  \n",
    "Djangoのオリジナルクリエイターの一人であるJacob Kaplan-Mossの言葉によれば、「テストなしのコードは設計どおりに機能しません」\n",
    "\n",
    "テストを書くことは、コードが期待どおりに機能することを確認するプロセスを自動化するので重要です。  \n",
    "このようなアプリでは、ホームページとページが存在し、目的のコンテンツが含まれていることを手動で確認して見ることができます。  \n",
    "しかし、Djangoプロジェクトの規模が大きくなるにつれて、数千もの個々のWebページは存在する可能性があり、手動で各ページを通過するという考えは不可能です。  \n",
    "さらに、新しい機能を追加したり、既存のものを更新したり、サイトの未使用領域を削除したりするコードを変更するたびに、誤って他の一部のサイトが壊れていないことを確認したいと考えています。自動化されたテストでは、プロジェクトの特定の部分がどのように動作するのかを一度書き留めてから、コンピュータにチェックをさせます。\n",
    "\n",
    "幸いにもDjangoには、テストの作成と実行のための強力な組み込みテストツールが付属しています。\n",
    "\n",
    "私たちのページのアプリケーションを見ると、Djangoは既に私たちが使用できるtests.pyファイルを提供しました。  \n",
    "それを開き、次のコードを追加します："
   ]
  },
  {
   "cell_type": "markdown",
   "metadata": {},
   "source": [
    "--- pages/test.py ---"
   ]
  },
  {
   "cell_type": "markdown",
   "metadata": {},
   "source": [
    "SimpleTestCaseはデータベースを使用していないため、ここで使用しています。データベースを使用していた場合は、代わりにTestCaseを使用します。  \n",
    "次に、各ページのステータスコードが200であるかどうかをチェックします。これは、正常なHTTP要求の標準的な応答です。  \n",
    "これは、指定されたWebページが実際に存在することを確実にするが、そのページの内容については何も言わないことを示すための素晴らしい方法です。  \n",
    "テストを実行するには、サーバーControl + cを終了し、コマンドラインでpython manage.py testと入力します。"
   ]
  },
  {
   "cell_type": "raw",
   "metadata": {},
   "source": [
    "(pages) $ python manage.py test"
   ]
  },
  {
   "cell_type": "markdown",
   "metadata": {},
   "source": [
    "成功！将来的には、特にデータベースの作業を開始してから、さらに多くのテストを行う予定です。今のところ、Djangoプロジェクトに新しい機能を追加するたびにテストを追加するのがどれほど簡単かを確認することが重要です。"
   ]
  },
  {
   "cell_type": "markdown",
   "metadata": {},
   "source": [
    "# Git and Bitbucket"
   ]
  },
  {
   "cell_type": "markdown",
   "metadata": {},
   "source": [
    "gitを使って変更を追跡し、それらをBitbucketにプッシュするときです。私たちはディレクトリを初期化することから始めます。"
   ]
  },
  {
   "cell_type": "raw",
   "metadata": {},
   "source": [
    "(pages) $ git init"
   ]
  },
  {
   "cell_type": "markdown",
   "metadata": {},
   "source": [
    "git statusを使用してすべてのコード変更を表示し、git add -Aを使用してすべてのコードを追加します。最後に、最初のコミットメッセージを追加します。"
   ]
  },
  {
   "cell_type": "raw",
   "metadata": {},
   "source": [
    "(pages) $ git status  \n",
    "(pages) $ git add -A   \n",
    "(pages) $ git commit -m 'initial commit'"
   ]
  },
  {
   "cell_type": "markdown",
   "metadata": {},
   "source": [
    "Bitbucketをオーバーすると、pages-appと呼ばれる新しいレポが作成されます"
   ]
  },
  {
   "cell_type": "markdown",
   "metadata": {},
   "source": [
    "次のページで、「ステップ2：既存のリポジトリをBitbucketに接続する」のコマンドを探します。コマンドラインに2つのコマンドをコピーしてリポジトリをリンクし、リポジトリをBitbucketにプッシュします。"
   ]
  },
  {
   "cell_type": "markdown",
   "metadata": {},
   "source": [
    "wsvincentをあなたのBitbucketユーザー名に置き換えて、次のように表示されます。"
   ]
  },
  {
   "cell_type": "raw",
   "metadata": {},
   "source": [
    "(pages) $ git remote add origin git@bitbucket.org:wsvincent/pages-app.git (pages) $ git push -u origin master"
   ]
  },
  {
   "cell_type": "markdown",
   "metadata": {},
   "source": [
    "# Local vs Production"
   ]
  },
  {
   "cell_type": "markdown",
   "metadata": {},
   "source": [
    "ここまでは、Djangoの独自の内部Webサーバーを使用して、私たちのコンピュータ上のPagesアプリケーションをローカルで使用してきました。  \n",
    "しかし、あなたは誰かとローカルホストアドレスを共有することはできません。  \n",
    "誰もが見ることができるインターネット上で私たちのサイトを利用できるようにするには、誰でも私たちのサイトを見ることができる外部のサーバーにコードを展開する必要があります。  \n",
    "これは、コードを本番環境に組み込むことと呼ばれています。  \n",
    "ローカルコードはコンピュータ上にのみ存在します。  \n",
    "生産コードは外部サーバー上に存在します。\n",
    "\n",
    "利用可能なサーバープロバイダーは数多くありますが、幅広く使用されている小規模プロジェクトでは無料で、比較的簡単な展開プロセスがあるため、Herokuを使用します。"
   ]
  },
  {
   "cell_type": "markdown",
   "metadata": {},
   "source": [
    "# Heroku"
   ]
  },
  {
   "cell_type": "markdown",
   "metadata": {},
   "source": [
    "彼らのウェブサイトで無料のHerokuアカウントにサインアップすることができます。あなたのメールを確認した後、Herokuはあなたをサイトのダッシュボードセクションにリダイレクトします。"
   ]
  },
  {
   "cell_type": "markdown",
   "metadata": {},
   "source": [
    "コマンドラインから展開できるように、Herokuのコマンドラインインターフェイス（CLI）をインストールする必要があります。   \n",
    "Herokuを世界中にインストールしてコンピュータ全体で利用できるようにしたいので、新しいコマンドラインタブを開きます：MacではCommand + t、WindowsではControl + t。  \n",
    "私たちが仮想環境内にHerokuをインストールした場合、そこにしか存在しません。  \n",
    "この新しいタブの中で、MacでHomebrewを使ってHerokuをインストールする："
   ]
  },
  {
   "cell_type": "markdown",
   "metadata": {},
   "source": [
    "brew install heroku  \n",
    "https://devcenter.heroku.com/articles/heroku-cli"
   ]
  },
  {
   "cell_type": "markdown",
   "metadata": {},
   "source": [
    "Windowsでは、HerokuのCLIページを参照して、32ビット版または64ビット版を正しくインストールしてください。   \n",
    "Linuxを使用している場合、特定のインストール手順がHerokuのWebサイトで利用可能です。インストールが完了したら、新しいコマンドラインタブを閉じて、仮想環境がアクティブなページで初期タブに戻ることができます。   \n",
    "heroku login コマンドを入力し、ちょうど設定したHerokuのメールとパスワードを使用します。"
   ]
  },
  {
   "cell_type": "markdown",
   "metadata": {},
   "source": [
    "# Additional Files"
   ]
  },
  {
   "cell_type": "markdown",
   "metadata": {},
   "source": [
    "Herokuでオンラインで展開できるように、Pagesプロジェクトに次の4つの変更を加える必要があります。\n",
    "\n",
    "- Pipfile.lockを更新します。\n",
    "- 新しいProcfileファイルを作成します。\n",
    "- Webサーバーとしてgunicornをインストールします。\n",
    "- 設定ファイルに一行変更してください。\n",
    "\n",
    "あなたの既存のPipfileには、使用しているPythonのバージョン3.7が指定されています。この2行をファイルの最後に追加します。"
   ]
  },
  {
   "cell_type": "markdown",
   "metadata": {},
   "source": [
    "--- pipfile ---"
   ]
  },
  {
   "cell_type": "markdown",
   "metadata": {},
   "source": [
    "pipenv lockを実行して、適切なPipfile.lockを生成します。"
   ]
  },
  {
   "cell_type": "raw",
   "metadata": {},
   "source": [
    "(pages) $ pipenv lock "
   ]
  },
  {
   "cell_type": "markdown",
   "metadata": {},
   "source": [
    "Herokuは実際に私たちの仮想環境に関する情報をPipfile.lockで探します。そのため、ここで言語設定を追加しています。次に、Heroku固有のProcfileを作成します。"
   ]
  },
  {
   "cell_type": "raw",
   "metadata": {},
   "source": [
    "(pages) $ touch Procfile"
   ]
  },
  {
   "cell_type": "markdown",
   "metadata": {},
   "source": [
    "テキストエディタでProcfileを開き、以下を追加します。"
   ]
  },
  {
   "cell_type": "markdown",
   "metadata": {},
   "source": [
    "これは、地方開発にのみ適したDjangoの独自のサーバーではなく、生産に適したWebサーバーであるgunicornを使用することを示しています。  \n",
    "サーバーの設定は、Djangoが新しいプロジェクトごとに自動的に作成するwsgi.pyファイルに含まれています。  \n",
    "これは、コードのプロジェクトレベルの最上位にあります。  \n",
    "プロジェクトの名前はここのpages_projectなので、ファイルはpages_project / wsgi.pyファイルにあります。"
   ]
  },
  {
   "cell_type": "raw",
   "metadata": {},
   "source": [
    "(pages) $ pipenv install gunicorn == 19.9.0"
   ]
  },
  {
   "cell_type": "markdown",
   "metadata": {},
   "source": [
    "最後のステップは、settings.pyへの1行の変更です。 ALLOWED_HOSTSというセクションまでスクロールし、 '*'を追加すると次のようになります："
   ]
  },
  {
   "cell_type": "markdown",
   "metadata": {},
   "source": [
    "-- pages_project/settings.py --"
   ]
  },
  {
   "cell_type": "markdown",
   "metadata": {},
   "source": [
    "ALLOWED_HOSTSの設定は、Djangoサイトが提供できるホスト/ドメイン名を表します。  \n",
    "これは、多くの一見安全なWebサーバー構成でも可能なHTTPホストヘッダー攻撃を防止するためのセキュリティ手段です。  \n",
    "しかし、ワイルドカードAsterisk *を使用しました。  \n",
    "これは、すべてのドメインが単純なものを維持するために受け入れられることを意味します。プロダクションレベルのDjangoサイトでは、許可されているドメインを明示的に指定します。  \n",
    "git statusを使って変更を確認し、新しいファイルを追加してコミットします："
   ]
  },
  {
   "cell_type": "raw",
   "metadata": {},
   "source": [
    "(pages) $ git status   \n",
    "(pages) $ git add -A   \n",
    "(pages) $ git commit -m \"New updates for Heroku"
   ]
  },
  {
   "cell_type": "markdown",
   "metadata": {},
   "source": [
    "最後にBitbucketにプッシュして、コードの変更をオンラインでバックアップします。"
   ]
  },
  {
   "cell_type": "raw",
   "metadata": {},
   "source": [
    "(pages) $ git push -u origin master"
   ]
  },
  {
   "cell_type": "markdown",
   "metadata": {},
   "source": [
    "# Deploy"
   ]
  },
  {
   "cell_type": "markdown",
   "metadata": {},
   "source": [
    "最後のステップは、実際にHerokuで展開することです。過去に自分でサーバを設定したことがあるなら、Herokuのようなプラットフォームとしてのサービス提供者がどれほど簡単であるかに驚くでしょう。\n",
    "\n",
    "私たちのプロセスは次のようになります：\n",
    "\n",
    "Herokuで新しいアプリを作成し、コードを押してください。\n",
    "Herokuのgit remote \"hook\"を追加してください。\n",
    "静的ファイルを無視するようにアプリケーションを設定します。これについては後の章で説明します。\n",
    "アプリがライブになるようにHerokuサーバーを起動します。\n",
    "HerokuのURLでアプリをご覧ください。\n",
    "\n",
    "heroku createでコマンドラインから新しいHerokuアプリケーションを作成する最初のステップを実行できます。 Herokuは私の場合fathomless-hamlet-26076で私たちのアプリのランダムな名前を作成します。あなたの名前は違うでしょう。"
   ]
  },
  {
   "cell_type": "raw",
   "metadata": {},
   "source": [
    "(pages) $ heroku create"
   ]
  },
  {
   "cell_type": "markdown",
   "metadata": {},
   "source": [
    "これで、gitの中にHerokuのフックを追加する必要があります。つまり、gitはBitbucketとHerokuにコードをプッシュするための設定を保存します。私のHerokuアプリはcryptic-oasis-40349と呼ばれるので、私のコマンドは以下の通りです。"
   ]
  },
  {
   "cell_type": "raw",
   "metadata": {},
   "source": [
    "(pages) $ heroku git:remote -a fathomless-hamlet-26076"
   ]
  },
  {
   "cell_type": "markdown",
   "metadata": {},
   "source": [
    "fathomless-hamlet-26076をHerokuが提供するアプリ名に置き換える必要があります。  \n",
    "この時点で、HerokuにはCSSとJavaScriptのような静的ファイルを無視するように指示するために、Heroku設定の1つのセットを行うだけで済みます。  \n",
    "デフォルトでDjangoは私たちのために最適化を試みます。  \n",
    "これについては後の章で説明しますので、次のコマンドを実行してください。"
   ]
  },
  {
   "cell_type": "raw",
   "metadata": {},
   "source": [
    "(pages) $ heroku config:set DISABLE_COLLECTSTATIC = 1"
   ]
  },
  {
   "cell_type": "markdown",
   "metadata": {},
   "source": [
    "これでコードをHerokuにプッシュできます。私たちは以前に \"フック\"を設定していたので、それはHerokuに行きます。"
   ]
  },
  {
   "cell_type": "raw",
   "metadata": {},
   "source": [
    "(pages) $ git push heroku master"
   ]
  },
  {
   "cell_type": "markdown",
   "metadata": {},
   "source": [
    "私たちがgit push origin masterと入力した場合、コードはHerokuではなくBitbucketにプッシュされます。  \n",
    "herokuをコマンドに追加すると、コードがHerokuに送信されます。  \n",
    "これは最初の数回は少し混乱しています。  \n",
    "最後に、Herokuアプリを生き生きとさせる必要があります。  \n",
    "ウェブサイトのトラフィックが増加するにつれて、追加のHerokuサービスが必要ですが、基本的な例では最低レベルのweb = 1も使用できますが、これもまた無料です！次のコマンドを入力します。"
   ]
  },
  {
   "cell_type": "raw",
   "metadata": {},
   "source": [
    "(pages) $ heroku ps:scale web = 1"
   ]
  },
  {
   "cell_type": "markdown",
   "metadata": {},
   "source": [
    "もう終わった！  \n",
    "最後のステップは、アプリがライブとオンラインであることを確認することです。   herokuコマンドを使用すると、WebブラウザはアプリケーションのURLを含む新しいタブを開きます。"
   ]
  },
  {
   "cell_type": "raw",
   "metadata": {},
   "source": [
    "(pages) $ heroku open"
   ]
  },
  {
   "cell_type": "markdown",
   "metadata": {},
   "source": [
    "私のものはhttps：// fathomless-hamlet-26076です。 herokuapp.com/両方のホームページがアップしているのを見ることができます："
   ]
  },
  {
   "cell_type": "markdown",
   "metadata": {},
   "source": [
    "あなたはHerokuアプリからログアウトしたり、終了したりする必要はありません。それはそれ自身でこの自由な層で走り続けるでしょう。"
   ]
  },
  {
   "cell_type": "markdown",
   "metadata": {},
   "source": [
    "# Conclusion\n",
    "2番目のDjangoプロジェクトの構築とデプロイをおめでとうございます！今回は、テンプレート、クラスベースのビュー、URLConfをさらに詳しく調査し、基本テストを追加し、Herokuを使用しました。次に、最初のデータベースバックアッププロジェクトに進み、Djangoが本当に輝く場所を見てみましょう。"
   ]
  },
  {
   "cell_type": "code",
   "execution_count": null,
   "metadata": {},
   "outputs": [],
   "source": []
  }
 ],
 "metadata": {
  "kernelspec": {
   "display_name": "Python 3",
   "language": "python",
   "name": "python3"
  },
  "language_info": {
   "codemirror_mode": {
    "name": "ipython",
    "version": 3
   },
   "file_extension": ".py",
   "mimetype": "text/x-python",
   "name": "python",
   "nbconvert_exporter": "python",
   "pygments_lexer": "ipython3",
   "version": "3.7.0"
  }
 },
 "nbformat": 4,
 "nbformat_minor": 2
}
