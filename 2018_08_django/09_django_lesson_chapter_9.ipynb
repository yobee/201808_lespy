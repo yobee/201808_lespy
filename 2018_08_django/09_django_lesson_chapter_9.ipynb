{
 "cells": [
  {
   "cell_type": "markdown",
   "metadata": {},
   "source": [
    "作業用のカスタムユーザーモデルが完成したので、Webサイトに必要なすべての機能（サインアップ、ログイン、ユーザーログアウト）を追加できます。   \n",
    "Djangoはログインとログアウトに必要なものすべてを提供しますが、新しいユーザーにサインアップするために独自のフォームを作成する必要があります。   \n",
    "また、3つの機能すべてへのリンクが付いた基本的なホームページも作成しますので、毎回手動でURLを入力する必要はありません。\n",
    "\n",
    "# Templates\n",
    "\n",
    "デフォルトでは、Djangoテンプレートローダーは、各アプリ内でネストされた構造のテンプレートを探します。   \n",
    "したがって、ユーザーのhome.htmlテンプレートはusers / templates / users / home.htmlに配置する必要があります。   \n",
    "しかし、プロジェクトレベルのテンプレートフォルダのアプローチはよりクリーンでスケーラビリティが優れているので、これを使用します。"
   ]
  },
  {
   "cell_type": "code",
   "execution_count": null,
   "metadata": {},
   "outputs": [],
   "source": []
  }
 ],
 "metadata": {
  "kernelspec": {
   "display_name": "Python 3",
   "language": "python",
   "name": "python3"
  },
  "language_info": {
   "codemirror_mode": {
    "name": "ipython",
    "version": 3
   },
   "file_extension": ".py",
   "mimetype": "text/x-python",
   "name": "python",
   "nbconvert_exporter": "python",
   "pygments_lexer": "ipython3",
   "version": "3.7.0"
  }
 },
 "nbformat": 4,
 "nbformat_minor": 2
}
