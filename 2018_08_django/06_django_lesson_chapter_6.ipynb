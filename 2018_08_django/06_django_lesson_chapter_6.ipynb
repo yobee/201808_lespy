{
 "cells": [
  {
   "cell_type": "markdown",
   "metadata": {},
   "source": [
    "この章では、フォームを追加してユーザーが自分のブログエントリを作成、編集、または削除できるように、第5章のブログアプリケーションの作業を続けます。"
   ]
  },
  {
   "cell_type": "markdown",
   "metadata": {},
   "source": [
    "# Forms"
   ]
  },
  {
   "cell_type": "raw",
   "metadata": {},
   "source": [
    "フォームは非常に一般的であり、正しく実装するには非常に複雑です。   \n",
    "ユーザーの入力を受け入れるときはいつでもセキュリティ上の問題（XSS攻撃）があり、適切なエラー処理が必要であり、ユーザーにフォームの問題を警告する方法に関するUIの考慮事項があります。   \n",
    "成功へのリダイレクトの必要性はもちろんですが。 幸いなことに、Djangoに組み込まれているFormsは、難しさの多くを抽象化し、フォームを扱う共通のユースケースを処理するための豊富なツールセットを提供します。   \n",
    "まず、基本テンプレートを更新して、新しいブログ投稿を入力するためのページへのリンクを表示します。   \n",
    "<a href = \"{％url 'post_new'％}\"> </ a>という形式をとります。ここで、post_newはURLの名前です。"
   ]
  },
  {
   "cell_type": "markdown",
   "metadata": {},
   "source": [
    "---- templages/base.html ----"
   ]
  },
  {
   "cell_type": "markdown",
   "metadata": {},
   "source": [
    "post_newに新しいURLConfを追加しましょう。   \n",
    "BlogCreateViewという、まだ作成されていないビューを上部にインポートします。   \n",
    "そして、post / new /で始まり、post_newという名前のURLを作成します。"
   ]
  },
  {
   "cell_type": "markdown",
   "metadata": {},
   "source": [
    "--- blog/urls.py ---"
   ]
  },
  {
   "cell_type": "markdown",
   "metadata": {},
   "source": [
    "シンプル、そう？   \n",
    "以前に見たのと同じURL、ビュー、テンプレートパターンです。   \n",
    "次に、CreateViewという新しいジェネリッククラスを一番上にインポートし、BlogCreateViewという新しいビューを作成するためにサブクラス化することで、ビューを作成しましょう。"
   ]
  },
  {
   "cell_type": "markdown",
   "metadata": {},
   "source": [
    "--- blog//views.py ---"
   ]
  },
  {
   "cell_type": "markdown",
   "metadata": {},
   "source": [
    "BlogCreateView内では、テンプレートpost_new.htmlの名前であるデータベースモデルPostを指定します。   \n",
    "フィールドの場合、公開するデータベースフィールドを明示的に設定します。  \n",
    "これはタイトル、著者、本文です。 最後のステップは、post_new.htmlと呼ばれるテンプレートを作成することです。"
   ]
  },
  {
   "cell_type": "raw",
   "metadata": {},
   "source": [
    "(blog) $ touch templates/post_new.html"
   ]
  },
  {
   "cell_type": "markdown",
   "metadata": {},
   "source": [
    "そして次のコードを追加します："
   ]
  },
  {
   "cell_type": "markdown",
   "metadata": {},
   "source": [
    "--- templates/pos_new.html ---"
   ]
  },
  {
   "cell_type": "markdown",
   "metadata": {},
   "source": [
    "私たちがしたことを分かりましょう：\n",
    "- 一番上の行には、基本テンプレートが継承されています。\n",
    "- 私たちはデータを送信しているので、POSTメソッドでHTMLの<form>タグを使用してください。 たとえば、検索ボックスなどのフォームからデータを受け取っていた場合は、GETを使用します。\n",
    "- Djangoが提供する{％csrf_token％}を追加して、クロスサイトスクリプティング攻撃からフォームを保護してください。 すべてのDjangoフォームに使用する必要があります。\n",
    "- フォームデータを出力するには、{{form.as_p}}を使用します。これはパラグラフ<p>タグ内でレンダリングされます。\n",
    "-最後に、submitの入力タイプを指定し、値を \"Save\"に割り当てます。\n",
    "\n",
    "私たちの作業を見るには、python manage.py runserverでサーバを起動し、http：// 127.0.0.1：8000 /にあるホームページに行きます。"
   ]
  },
  {
   "cell_type": "markdown",
   "metadata": {},
   "source": [
    "\"New Blog Post\"のリンクをクリックすると、http：//127.0.0.1：8000/post/new/にリダイレクトされます。   \n",
    "ブログの新しいページ新しいブログ投稿を作成して提出してみてください。   \n",
    "ブログの新しいページおっと！ 何が起こった？"
   ]
  },
  {
   "cell_type": "raw",
   "metadata": {},
   "source": [
    "Djangoのエラーメッセージは非常に役に立ちます。   \n",
    "フォームを正常に送信した後にユーザーを送信する場所が指定されていないと不平を言っています。 成功後に詳細ページにユーザーを送りましょう。   \n",
    "彼らは完成したポストを見ることができます。   \n",
    "Djangoの提案に従って、get_absolute_urlをモデルに追加することができます。 これは、常に行うべきベストプラクティスです。   \n",
    "これは、オブジェクトの標準URLを設定するので、URLの構造が将来変更されたとしても、特定のオブジェクトへの参照は同じです。   \n",
    "要するに、あなたが書いた各モデルにget_absolute_url（）メソッドと__str __（）メソッドを追加する必要があります。 models.pyファイルを開きます。 2番目の行に逆のためのインポートを追加し、新しいget_absolute_urlメソッドを追加します。"
   ]
  },
  {
   "cell_type": "markdown",
   "metadata": {},
   "source": [
    "--- blog/models.py ---"
   ]
  },
  {
   "cell_type": "markdown",
   "metadata": {},
   "source": [
    "Reverseは非常に便利なユーティリティ関数です。  \n",
    "DjangoはURLテンプレート名（この場合はpost_detail）でオブジェクトを参照することができます。   \n",
    "私たちのURLパターンを思い出すと、次のようになります："
   ]
  },
  {
   "cell_type": "markdown",
   "metadata": {},
   "source": [
    "-- post_detail----"
   ]
  },
  {
   "cell_type": "markdown",
   "metadata": {},
   "source": [
    "つまり、このルートが機能するためには、オブジェクトのpkまたは主キーを引数として渡す必要があります。 djangoのドキュメントでは、get_absolute_urlでself.idを使用することを推奨していますが、混乱してpkとidを交換することはできません。 そこでPostgreSQLの最終的な場所はposts / <int：pk>であるpost_detailビューであることをDjangoに伝えています。最初のエントリのルートはposts / 1になります。"
   ]
  },
  {
   "cell_type": "markdown",
   "metadata": {},
   "source": [
    "http：// 127.0.0.1：8000 / post / new /に新しいブログ投稿を作成してみてください。   \n",
    "4番目の投稿付きブログの新しいページ \"保存\"ボタンをクリックすると、投稿が表示される詳細表示ページにリダイレクトされます。 ブログ個人ページhttp：// 127.0.0.1：8000 /にホームページに移動し、以前のブログ投稿もそこにあることに気づくでしょう。   \n",
    "データベースに正常に送信されましたが、Djangoはそれ以降にリダイレクトする方法を知らなかったのです。   \n",
    "4つの投稿を含むブログのホームページDjangoの管理者は不要な投稿を削除することができますが、フォームを追加すると、ユーザーがサイトから直接既存の投稿を更新したり削除したりすることができます。"
   ]
  },
  {
   "cell_type": "markdown",
   "metadata": {},
   "source": [
    "# Update Form"
   ]
  },
  {
   "cell_type": "markdown",
   "metadata": {},
   "source": [
    "ユーザーがブログ投稿を編集できるように更新フォームを作成するプロセスは、使い慣れているはずです。   \n",
    "Djangoのクラスベースの汎用ビュー、UpdateViewを再度使用し、必要なテンプレート、URL、およびビューを作成します。   \n",
    "始めに、post_detail.htmlへの新しいリンクを追加して、ブログ投稿を編集するオプションが個々のブログページに表示されるようにしましょう。"
   ]
  },
  {
   "cell_type": "markdown",
   "metadata": {},
   "source": [
    "-- templates/post_detail.html --"
   ]
  },
  {
   "cell_type": "raw",
   "metadata": {},
   "source": [
    "<a href> ... </ a>とDjangoテンプレートエンジンの{％url ...％}タグを使ってリンクを追加しました。 その中にはurlのターゲット名が指定されています。これはpost_editと呼ばれ、post post.pkの主キーである必要なパラメータも渡されます。 次に、post_edit.htmlという編集ページ用のテンプレートを作成します。"
   ]
  },
  {
   "cell_type": "raw",
   "metadata": {},
   "source": [
    "(blog) $ touch templates/post_edit.html"
   ]
  },
  {
   "cell_type": "markdown",
   "metadata": {},
   "source": [
    "そして次のコードを追加します："
   ]
  },
  {
   "cell_type": "markdown",
   "metadata": {},
   "source": [
    "-- templates/post_edit.html --"
   ]
  },
  {
   "cell_type": "markdown",
   "metadata": {},
   "source": [
    "段落タグ付きのフォームフィールドを表示するために、Djangoのcsrf_tokenのHTMLフォーム<form> </ form>タグ、form.as_pを再度使用し、最後にSubmitボタンに値 \"Update\"を与えます。   \n",
    "今私たちの見解に。   \n",
    "2行目からUpdateViewをインポートし、新しいビューBlogUpdateViewでサブクラス化する必要があります。"
   ]
  },
  {
   "cell_type": "markdown",
   "metadata": {},
   "source": [
    "--- blog/views.py ---"
   ]
  },
  {
   "cell_type": "raw",
   "metadata": {},
   "source": [
    "BlogUpdateViewでは、 '__all__'を使用するのではなく、['title'、 'body']を使用するフィールドを明示的に指定しています。 これは、投稿者が変更されていないと仮定しているためです。 タイトルとテキストを編集可能にしたいだけです。   \n",
    "最後に、urls.pyファイルを次のように更新します。   \n",
    "BlogUpdateViewを上に追加し、新しいルートを既存のURLパターンの上に追加します。"
   ]
  },
  {
   "cell_type": "markdown",
   "metadata": {},
   "source": [
    "--- blog/urls.py ---"
   ]
  },
  {
   "cell_type": "markdown",
   "metadata": {},
   "source": [
    "一番上に、ビューのBlogUpdateViewをインポートされたビューのリストに追加し、/ post / pk / editの新しいURLパターンを作成し、それに名前post_editを与えました。 ブログエントリをクリックすると、新しい編集ボタンが表示されます。 「Edit Blog Post」をクリックすると、最初のブログ投稿の場合はhttp：// 127.0.0.1：8000 / post / 1 / edit /にリダイレクトされます。 フォームには、データベースの既存の投稿データがあらかじめ入力されています。 変更を加えましょう...そして、「更新」ボタンをクリックすると、その変更を見ることができる投稿の詳細ビューにリダイレクトされます。 これは、get_absolute_urlの設定が原因です。 ホームページに移動すると、他のすべてのエントリの横に変更が表示されます。"
   ]
  },
  {
   "cell_type": "markdown",
   "metadata": {},
   "source": [
    "# Delete View"
   ]
  },
  {
   "cell_type": "markdown",
   "metadata": {},
   "source": [
    "ブログ投稿を削除するフォームを作成するプロセスは、投稿を更新するフォームと非常によく似ています。   \n",
    "さらに別の汎用クラスベースのビュー、DeleteViewを使用して、機能のビュー、URL、およびテンプレートを作成する必要があります。   \n",
    "まず、個々のブログページpost_detail.htmlのブログ投稿を削除するリンクを追加してみましょう。"
   ]
  },
  {
   "cell_type": "markdown",
   "metadata": {},
   "source": [
    "-- templates/post_detail.html --"
   ]
  },
  {
   "cell_type": "markdown",
   "metadata": {},
   "source": [
    "次に、削除ページテンプレート用の新しいファイルを作成します。 まずローカルサーバーのControl cを終了し、次のコマンドを入力します。"
   ]
  },
  {
   "cell_type": "raw",
   "metadata": {},
   "source": [
    "(blog) $ touch templates/post_delete.html"
   ]
  },
  {
   "cell_type": "markdown",
   "metadata": {},
   "source": [
    "そして追加"
   ]
  },
  {
   "cell_type": "markdown",
   "metadata": {},
   "source": [
    "--- templates/post_delete.html---"
   ]
  },
  {
   "cell_type": "markdown",
   "metadata": {},
   "source": [
    "ここではpost.titleを使用してブログ記事のタイトルを表示しています。   \n",
    "また、DetailViewによって提供されるようにobject.titleを使用することもできます。   \n",
    "viewViewファイルを更新するには、一番上にDeleteViewとreverse_lazyをインポートし、DeleteViewをサブクラス化する新しいビューを作成します。"
   ]
  },
  {
   "cell_type": "markdown",
   "metadata": {},
   "source": [
    "--blog/views.py ---"
   ]
  },
  {
   "cell_type": "markdown",
   "metadata": {},
   "source": [
    "reverse_lazyを使用するのは逆転だけではなく、ブログの投稿の削除が完了するまでURLリダイレクトを実行しません。   \n",
    "最後に、BlogDeleteViewビューをインポートして新しいパターンを追加してURLを作成します。"
   ]
  },
  {
   "cell_type": "markdown",
   "metadata": {},
   "source": [
    "--- blog/urls.py --"
   ]
  },
  {
   "cell_type": "markdown",
   "metadata": {},
   "source": [
    "サーバーを再起動してpython manage.py runserverを起動し、個々の投稿ページを更新すると、「ブログ投稿の削除」リンクが表示されます。  \n",
    "リンクをクリックすると、ブログ投稿の削除ページが表示されます。 ブログ投稿。 ページ「確認」ボタンをクリックすると、それはリダイレクトされます"
   ]
  },
  {
   "cell_type": "markdown",
   "metadata": {},
   "source": [
    "期待どおり、すべてが今、将来、そして確実に動作することを確認するためのテストの時間。 \n",
    "モデルのget_absolute_urlメソッドと、投稿の作成、更新、編集のための新しいビューを追加しました。   \n",
    "つまり、次の4つの新しいテストが必要です。  \n",
    "- def test_get_absolute_url \n",
    "- def test_post_create_view \n",
    "- def test_post_update_view \n",
    "- def test_post_delete_view\n",
    "  \n",
    "既存のtests.pyファイルを次のように更新します。"
   ]
  },
  {
   "cell_type": "markdown",
   "metadata": {},
   "source": [
    "--- blog/tests.py ----"
   ]
  },
  {
   "cell_type": "markdown",
   "metadata": {},
   "source": [
    "Djangoが自動的に追加するプライマリキーは、投稿が1つしかないため、私たちはテストのURLがpost/1/にあることを期待しています。   \n",
    "作成ビューをテストするために、新しいレスポンスを作成し、レスポンス（ステータスコード200）を確認し、新しいタイトルと本文を含むようにします。 更新ビューでは、最初のポストにアクセスします。  \n",
    "最初のポストは、1つの引数として渡される1のpkを持ちます。  \n",
    "その結果、302リダイレクトになることが確認されます。   \n",
    "最後に、投稿を削除するとステータスコードが200で成功したことを確認して、削除ビューをテストします。   \n",
    "追加できるテストは常に増えていますが、これは新しい機能をすべてカバーしています。"
   ]
  },
  {
   "cell_type": "markdown",
   "metadata": {},
   "source": [
    "# conclusion"
   ]
  },
  {
   "cell_type": "markdown",
   "metadata": {},
   "source": [
    "少量のコードでは、ブログ記事の作成、閲覧、更新、削除を可能にするブログアプリケーションを構築しました。   \n",
    "このコア機能は頭字語のCRUD：Create-Read-Update-Deleteで知られています。   \n",
    "この同じ機能を実現するには複数の方法がありますが、関数ベースのビューを使用したり、独自のクラスベースのビューを記述したりできます。  \n",
    "これを実現するためにDjangoに必要なコードはほとんどありません。 次の章では、ユーザーアカウントを追加してログインし、ログアウトして機能を登録します。"
   ]
  },
  {
   "cell_type": "code",
   "execution_count": null,
   "metadata": {},
   "outputs": [],
   "source": []
  }
 ],
 "metadata": {
  "kernelspec": {
   "display_name": "Python 3",
   "language": "python",
   "name": "python3"
  },
  "language_info": {
   "codemirror_mode": {
    "name": "ipython",
    "version": 3
   },
   "file_extension": ".py",
   "mimetype": "text/x-python",
   "name": "python",
   "nbconvert_exporter": "python",
   "pygments_lexer": "ipython3",
   "version": "3.7.0"
  }
 },
 "nbformat": 4,
 "nbformat_minor": 2
}
