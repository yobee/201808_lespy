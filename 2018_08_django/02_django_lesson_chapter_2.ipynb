{
 "cells": [
  {
   "cell_type": "markdown",
   "metadata": {},
   "source": [
    "### チャプター2補足"
   ]
  },
  {
   "cell_type": "markdown",
   "metadata": {},
   "source": [
    "## Virtual Environments"
   ]
  },
  {
   "cell_type": "markdown",
   "metadata": {},
   "source": [
    "仮想環境は、Pythonプログラミングの不可欠な部分です。  \n",
    "これらは、特定のプロジェクトのすべてのソフトウェア依存関係を含む独立したコンテナです。  \n",
    "デフォルトではPythonやDjangoのようなソフトウェアが同じディレクトリにインストールされているので、これは重要です。  \n",
    "これは、同じコンピュータ上の複数のプロジェクトで作業したいときに問題を引き起こします。   ProjectAがDjango 2.1を使用していてもProjectBが昨年からDjango 1.10になっている場合はどうなりますか？仮想環境がなければ、これは非常に困難になります。  \n",
    "\n",
    "仮想環境ではまったく問題ありません。\n",
    "熱心に議論されているソフトウェア開発には多くの分野がありますが、Python開発のために仮想環境を使用することは一つではありません。新しいPythonプロジェクトごとに専用の仮想環境を使用する必要があります。  \n",
    "\n",
    "歴史的に、Python開発者はvirtualenvまたはpyenvを使用して仮想環境を構成しています。  \n",
    "しかし、2017年に著名なPython開発者Kenneth ReitzがPipenvをリリースしました.Pipenvは現在公式に推奨されているPythonパッケージツールです。   \n",
    "\n",
    "PipenvはNodeエコシステムのnpmと糸に似ています。ソフトウェア依存関係を含むPipfileと確定的なビルドを保証するPipfile.lockを作成します。  \n",
    "「決定論」とは、ソフトウェアを新しい仮想環境にダウンロードするたびに、まったく同じ構成を持つことを意味します。この概念をJavaScriptパッケージに初めて導入したYarnの創始者であるSebastian McKenzieは、決定論が何であり、なぜ重要なのかを説明する簡潔なブログ記事を掲載しています。  \n",
    "最終的には、新しいDjangoプロジェクトごとにPipenvで新しい仮想環境を作成します。  \n",
    "\n",
    "Python 3と一緒に自動的にインストールされます。"
   ]
  },
  {
   "cell_type": "raw",
   "metadata": {},
   "source": [
    "pip3 install pipenv"
   ]
  },
  {
   "cell_type": "markdown",
   "metadata": {},
   "source": [
    "略"
   ]
  },
  {
   "cell_type": "markdown",
   "metadata": {},
   "source": [
    "### Create an app"
   ]
  },
  {
   "cell_type": "markdown",
   "metadata": {},
   "source": [
    "Djangoはプロジェクトやアプリケーションのコンセプトを使用して、コードをきれいにして読みやすくします。  \n",
    "1つのDjangoプロジェクトには、その中に1つ以上のアプリケーションが含まれており、すべて一緒に動作してWebアプリケーションに電力を供給します。  \n",
    "このため、新しいDjangoプロジェクトのコマンドはstartprojectです！  \n",
    "たとえば、実際のDjangoの電子商取引サイトでは、ユーザー認証用のアプリと、支払い用のアプリと、アイテムリストの詳細を作成する3つ目のアプリがあります。  \n",
    "それぞれは、分離された機能に焦点を当てています。\n",
    "ページと呼ぶ最初のアプリを作成する必要があります。  \n",
    "コマンドラインから、Control + cを使用してサーバーを終了します。  \n",
    "次に、startappコマンドを使用します。"
   ]
  },
  {
   "cell_type": "markdown",
   "metadata": {},
   "source": [
    "- admin.pyは組み込みのDjango管理アプリケーション用の設定ファイルです。\n",
    "- apps.pyはアプリケーション自体の設定ファイル\n",
    "- models.pyファイルの変更を追跡してデータベースmodels.pyが同期しているようにします。models.pyは、Djangoが自動的にデータベーステーブルに変換するデータベースモデルを定義する場所です。\n",
    "- tests.pyは、アプリケーション固有のテスト用です。\n",
    "- views.pyは、Webアプリケーションのリクエスト/応答ロジックを処理する場所です"
   ]
  },
  {
   "cell_type": "markdown",
   "metadata": {},
   "source": [
    "私たちの新しいアプリケーションはDjangoプロジェクト内に存在していますが、Djangoは明示的に追加するまでそれについて「認識」していません。  \n",
    "テキストエディタでsettings.pyファイルを開き、INSTALLED_APPSまでスクロールします。\n",
    "ここにはすでに6つのDjangoアプリケーションが組み込まれています。  \n",
    "上部に新しいページアプリを追加する"
   ]
  },
  {
   "cell_type": "markdown",
   "metadata": {},
   "source": [
    "私たちのアプリケーションを一番上に置いている理由はINSTALLED_APPS設定の問題です。公式ドキュメントでは、複数のアプリケーションが同じリソース（テンプレート、静的ファイル、管理コマンド、翻訳）にアクセスしようとすると、最初にリストされたアプリケーションが優先されます。それが私たちが望むものです。"
   ]
  },
  {
   "cell_type": "markdown",
   "metadata": {},
   "source": [
    "## Views and URLConfs"
   ]
  },
  {
   "cell_type": "markdown",
   "metadata": {},
   "source": [
    "Djangoでは、URLConfsがそのコンテンツのどこに行くかを決定する一方、Viewsは特定のページに表示されるコンテンツを決定します。\n",
    "\n",
    "ユーザーがホームページのような特定のページをリクエストすると、URLConfは正規表現を使用してそのリクエストを適切なビュー関数にマップし、正しいデータを返します。\n",
    "\n",
    "言い換えれば、私たちの見解は \"Hello、World\"というテキストを出力しますが、私たちのurlはユーザーがホームページにアクセスしたときに正しいビューにリダイレクトされることを保証します。  \n",
    "このインタラクションは頻繁に新入社員を混乱させるので、特定のHTTPリクエスト/レスポンスサイクルの順番をマッピングしましょう。   \n",
    "https：// djangoforbeginners.comのようなURLを入力すると、Djangoプロジェクト内で最初に起こるのはホームページに一致するURLパターンです。   \n",
    "URLpatternは、（通常はデータベースからの）ページの内容とスタイリング用のテンプレートを決定するビューを指定します。  \n",
    "最終的な結果は、HTTP応答としてユーザーに返されます。"
   ]
  },
  {
   "cell_type": "markdown",
   "metadata": {},
   "source": [
    "<hr>\n",
    "URL -> View -> Model (typically) -> Template"
   ]
  },
  {
   "cell_type": "markdown",
   "metadata": {},
   "source": [
    "<hr>"
   ]
  },
  {
   "cell_type": "markdown",
   "metadata": {},
   "source": [
    "(400/4174)  \n",
    "一番上の行ではDjangoからURLパターンを取得するためにパスをインポートし、次の行ではビューをインポートします。ピリオド.viewsを使用することによって、現在のディレクトリを参照します。これは、views.pyとurls.pyの両方を含むページアプリケーションです。 URLパターンには3つの部分があります。"
   ]
  },
  {
   "cell_type": "markdown",
   "metadata": {},
   "source": [
    "- 空の文字列 ''のPython正規表現\n",
    "- homePageViewと呼ばれるviewを指定する\n",
    "- オプションのURL名として 'home'を追加する"
   ]
  },
  {
   "cell_type": "markdown",
   "metadata": {},
   "source": [
    "言い換えると、ユーザーが空の文字列 ''で表されるホームページを要求した場合は、homePageViewというビューを使用します。  \n",
    "私たちはほとんど終わりました。最後のステップは、プロジェクトレベルのurls.pyファイルを設定することです。  \n",
    "なぜなら、1つのDjangoプロジェクト内に複数のアプリケーションを持つのが一般的だから、それぞれ独自のルートが必要です。   \n",
    "<table>\n",
    "    <tr>\n",
    "        <td>    \n",
    "「プロジェクトレベル」とは、アプリケーションの最上位の親ディレクトリを意味します。  \n",
    "この場合、helloworld_projectとpagesの両方のアプリケーションフォルダが存在します。  \n",
    "特定のアプリの内部に入ったら、「app-level」です。\n",
    "        </td>\n",
    "    </tr>\n",
    "</table>  \n",
    "<hr>\n",
    "既存のhelloworld_project / urls.pyファイルを次のように更新します。\n",
    "<hr>\n",
    "\n",
    "-------------------------------- helloworld_project/ urls.pyのソース------------------------"
   ]
  },
  {
   "cell_type": "markdown",
   "metadata": {},
   "source": [
    "<hr>\n",
    "パスの隣の2行目にインクルードをインポートして、ページアプリ用の新しいURLパターンを作成しました。今すぐユーザーがホームページにアクセスするたびに、まずページアプリに、次にhomePageViewビューにルーティングされます。  \n",
    "\n",
    "初心者にとってはここでページアプリケーションをインポートする必要はないことがよくありますが、URLパターンにはpages.urlsという名前が付いています。このようにする理由は、django.urls.include（）メソッドが最初の引数としてモジュールまたはappを渡すことを期待しているからです。インクルードを使わないと、私たちのページアプリケーションをインポートする必要がありますが、インクルードするので、プロジェクトレベルでは必要ありません。"
   ]
  },
  {
   "cell_type": "markdown",
   "metadata": {},
   "source": [
    "おめでとう！この章では、多くの基本的な概念について説明しました。最初のDjangoアプリケーションを作成し、Djangoのプロジェクト/アプリケーション構造について学びました。私たちは、ビュー、URL、内部Webサーバーについて学び始めました。 gitと協力して変更を追跡し、私たちのコードをBitbucketのプライベートレポに送りました。第3章：Pagesアプリケーションに進み、テンプレートとクラスベースのビューを使用してより複雑なDjangoアプリケーションをビルドして展開します。"
   ]
  },
  {
   "cell_type": "markdown",
   "metadata": {},
   "source": [
    "# Git  \n",
    "前の章では、バージョン管理システムであるgitもインストールしました。  \n",
    "ここで使ってみましょう。最初のステップは、gitをリポジトリに初期化（または追加）することです。"
   ]
  },
  {
   "cell_type": "raw",
   "metadata": {},
   "source": [
    "$ git init"
   ]
  },
  {
   "cell_type": "markdown",
   "metadata": {},
   "source": [
    "git statusと入力すると、最後のgitコミット以降の変更の一覧が表示されます。  \n",
    "これが最初のコミットであるため、このリストは今までのすべての変更点です。"
   ]
  },
  {
   "cell_type": "raw",
   "metadata": {},
   "source": [
    "$ git status"
   ]
  },
  {
   "cell_type": "markdown",
   "metadata": {},
   "source": [
    "git statusと入力すると、最後のgitコミット以降の変更の一覧が表示されます。これが最初のコミットであるため、このリストは今までのすべての変更点です。"
   ]
  },
  {
   "cell_type": "markdown",
   "metadata": {},
   "source": [
    "次に、コマンドadd -Aを使用してすべての変更を追加し、変更内容を説明するメッセージと共に変更内容をコミットします。"
   ]
  },
  {
   "cell_type": "raw",
   "metadata": {},
   "source": [
    "$ git add -V  \n",
    "$ git commit -m 'initial comit'"
   ]
  },
  {
   "cell_type": "markdown",
   "metadata": {},
   "source": [
    "注意：Windowsユーザは、エラーgit commit errorを受け取ることがあります：pathspec 'commit'は、二重引用符ではなく、一重引用符を使用することに関連していると思われるファイルと一致しませんでした。このエラーが表示された場合は、先に進むすべてのコミットメッセージに二重引用符を使用してください。"
   ]
  },
  {
   "cell_type": "markdown",
   "metadata": {},
   "source": [
    "# Bitbucket"
   ]
  },
  {
   "cell_type": "markdown",
   "metadata": {},
   "source": [
    "プロジェクトごとにコードのリモートリポジトリを作成するのは良い習慣です。  \n",
    "こうすることで、コンピュータに何か問題が発生した場合に備えて、さらに重要なことに、他のソフトウェア開発者とのコラボレーションを可能にするためのバックアップが用意されています。  \n",
    "2つの最も一般的な選択肢はBitbucketとGithubです。  \n",
    "この本ではBitbucketを使用します。  \n",
    "これは、プライベートレポジトリを無料で使用できるためです。  \n",
    "Githubは料金を請求する。  \n",
    "公開リポジトリはインターネット上の誰でも利用できます。  \n",
    "プライベートレポジトリはありません。 Web開発を学ぶときは、プライベートレポジトリを利用するのが最善です。\n",
    "パスワードなどの重要な情報を誤って投稿しないようにしてください。"
   ]
  },
  {
   "cell_type": "markdown",
   "metadata": {},
   "source": [
    "私たちはすでにレポのディレクトリに入っているので、ステップ1をスキップします。ステップ2では、2つのコマンドを使ってプロジェクトをBitbucketに追加します。異なるユーザー名を使用しているため、コマンドが私のコマンドと異なることに注意してください。一般的なフォーマットは以下の通りです。<USER>はあなたのBitbucketユーザー名です。私のことはwsvincentに起こります。"
   ]
  },
  {
   "cell_type": "code",
   "execution_count": null,
   "metadata": {},
   "outputs": [],
   "source": []
  }
 ],
 "metadata": {
  "kernelspec": {
   "display_name": "Python 3",
   "language": "python",
   "name": "python3"
  },
  "language_info": {
   "codemirror_mode": {
    "name": "ipython",
    "version": 3
   },
   "file_extension": ".py",
   "mimetype": "text/x-python",
   "name": "python",
   "nbconvert_exporter": "python",
   "pygments_lexer": "ipython3",
   "version": "3.7.0"
  }
 },
 "nbformat": 4,
 "nbformat_minor": 2
}
