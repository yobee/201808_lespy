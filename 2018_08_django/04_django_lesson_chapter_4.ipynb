{
 "cells": [
  {
   "cell_type": "markdown",
   "metadata": {},
   "source": [
    "# Chapter4: Message Board app"
   ]
  },
  {
   "cell_type": "markdown",
   "metadata": {},
   "source": [
    "この時点ですでにいくつかのDjangoプロジェクトを設定しているので、コマンドをすばやく実行して新しいプロジェクトを開始することができます。  \n",
    "私たちは次のことをする必要があります。"
   ]
  },
  {
   "cell_type": "markdown",
   "metadata": {},
   "source": [
    "・mbというデスクトップ上にコード用の新しいディレクトリを作成します。  \n",
    "・Djangoを新しい仮想環境にインストールしてください。  \n",
    "・mb_projectという新しいプロジェクトを作成します。  \n",
    "・新しいアプリコールポストを作成します。  \n",
    "・settings.pyを更新  "
   ]
  },
  {
   "cell_type": "markdown",
   "metadata": {},
   "source": [
    "新しいコマンドラインコンソールで、次のコマンドを入力します。実際には（mb-XXX）、XXXはランダムな文字を表していますが、ここでは（mb）を使って仮想環境名を表しています。"
   ]
  },
  {
   "cell_type": "raw",
   "metadata": {},
   "source": [
    "$ cd ~/ Desktop \n",
    "$ mkdir mb $ cd mb \n",
    "$ pipenv install django == 2.1 \n",
    "$ pipenv shell \n",
    "(mb) $ django-admin startproject mb_project . \n",
    "(mb) $ python manage.py startapp posts"
   ]
  },
  {
   "cell_type": "markdown",
   "metadata": {},
   "source": [
    "Djangoにsettings.pyファイルのINSTALLED_APPSセクションの上部に追加することで、新しいアプリの投稿を伝えてください。選択したテキストエディタで開きます。"
   ]
  },
  {
   "cell_type": "markdown",
   "metadata": {},
   "source": [
    "--- mb_project/settings.py ---"
   ]
  },
  {
   "cell_type": "markdown",
   "metadata": {},
   "source": [
    "次に、migrateコマンドを実行して、Djangoのデフォルト設定に基づいて初期データベースを作成します。コマンドライン"
   ]
  },
  {
   "cell_type": "raw",
   "metadata": {},
   "source": [
    "(mb) $ python manage.py migrate"
   ]
  },
  {
   "cell_type": "markdown",
   "metadata": {},
   "source": [
    "lsコマンド(windowsだとdir)でディレクトリを調べると、SQLiteデータベースを表すdb.sqlite3ファイルがあることがわかります。"
   ]
  },
  {
   "cell_type": "markdown",
   "metadata": {},
   "source": [
    "技術的には、migrateまたはrunserverのいずれかを初めて実行するときにdb.sqlite3ファイルが作成されます。  \n",
    "runserverを使用すると、Djangoのデフォルト設定を使用してデータベースが設定されますが、migrateはデータベースをプロジェクトに含まれるデータベースモデルの現在の状態と同期させ、INSTALLED_APPSにリストします。  \n",
    "つまり、データベースがプロジェクトの現在の状態を反映していることを確認するには、モデルを更新するたびにmigrate（およびmakemigrations）を実行する必要があります。  \n",
    "まもなくこれについてもっと詳しく。"
   ]
  },
  {
   "cell_type": "raw",
   "metadata": {},
   "source": [
    "(mb) $ python manage.py runserver"
   ]
  },
  {
   "cell_type": "markdown",
   "metadata": {},
   "source": [
    "# Create a database model"
   ]
  },
  {
   "cell_type": "markdown",
   "metadata": {},
   "source": [
    "最初のタスクは、ユーザーからの投稿を保存して表示できるデータベースモデルを作成することです。   \n",
    "Djangoはこのモデルをデータベーステーブルに変換してくれます。  \n",
    "実際のDjangoプロジェクトでは、多くの複雑な相互接続されたデータベースモデルが存在することがよくありますが、単純なメッセージボードアプリケーションには必要なものは1つだけです。  \n",
    "私はこの本の中でデータベース設計については扱っていませんが、あなたにとってこれが新しいものであればここで見つけることができる短いガイドを書いています。   \n",
    "posts/models.pyファイルを開き、Djangoが提供するデフォルトのコードを見てください："
   ]
  },
  {
   "cell_type": "raw",
   "metadata": {},
   "source": [
    "--- posts/models.py ---"
   ]
  },
  {
   "cell_type": "markdown",
   "metadata": {},
   "source": [
    "Djangoは新しいデータベースモデルを構築するのに役立つモジュールモデルをインポートし、データベースのデータの特性をモデル化します。  \n",
    "メッセージボードポストのテキストコンテンツを保存するモデルを作成したいと考えています。  \n",
    "これは次のように行うことができます："
   ]
  },
  {
   "cell_type": "markdown",
   "metadata": {},
   "source": [
    "Postという名前の新しいデータベースモデルが作成されており、データベースフィールドのテキストがあることに注意してください。   \n",
    "TextField（）が保持するコンテンツの種類も指定しました。   \n",
    "Djangoには、文字、日付、整数、電子メールなどの一般的なタイプのコンテンツをサポートする多くのモデルフィールドが用意されています。"
   ]
  },
  {
   "cell_type": "markdown",
   "metadata": {},
   "source": [
    "# Activating models"
   ]
  },
  {
   "cell_type": "markdown",
   "metadata": {},
   "source": [
    "新しいモデルが作成されたので、それをアクティブにする必要があります。  \n",
    "今後は、既存のモデルを作成または変更するたびに、Djangoを2段階のプロセスで更新する必要があります"
   ]
  },
  {
   "cell_type": "markdown",
   "metadata": {},
   "source": [
    "1.最初に、INSTALLED_APPS設定でプリインストールされたアプリケーションのSQLコマンドを生成するmakemigrationsコマンドを使用して、移行ファイルを作成します。  \n",
    "移行ファイルは、データベースファイル上でこれらのコマンドを実行するのではなく、モデルに対するすべての新しい変更の参照です。  \n",
    "このアプローチは、時間の経過とともに私たちのモデルに対する変更の記録があることを意味します。  \n",
    "2.次に、migrateを使用して実際のデータベースを構築します。  \n",
    "このデータベースは、移行ファイルの指示を実行します。"
   ]
  },
  {
   "cell_type": "markdown",
   "metadata": {},
   "source": [
    "ローカルサーバーがControl + cで停止していることを確認し、次の2つのコマンドを実行します。"
   ]
  },
  {
   "cell_type": "raw",
   "metadata": {},
   "source": [
    "(mb) $ python manage.py makemigrations posts \n",
    "(mb) $ python manage.py migrate posts"
   ]
  },
  {
   "cell_type": "markdown",
   "metadata": {},
   "source": [
    "makemigrationsまたはmigrateの後に名前を指定する必要はありません。  \n",
    "単にコマンドを実行すると、利用可能なすべての変更に適用されます。  \n",
    "しかし、具体的なことは良い習慣です。  \n",
    "私たちのプロジェクトで2つの別々のアプリケーションがあり、その両方でモデルを更新してから移行した場合、両方の変更に関するデータを含む移行ファイルが生成されます。  \n",
    "これにより、将来的にはデバッグが難しくなります。  \n",
    "各マイグレーションファイルはできるだけ小さく、孤立していなければなりません。  \n",
    "そうすれば、過去の移行を見る必要がある場合は、複数のアプリケーションに適用される移行ではなく、移行ごとに1つの変更しかありません。"
   ]
  },
  {
   "cell_type": "markdown",
   "metadata": {},
   "source": [
    "# Django Admin"
   ]
  },
  {
   "cell_type": "markdown",
   "metadata": {},
   "source": [
    "Djangoは、データベースとやり取りするための強力な管理インターフェースを提供します。  \n",
    "これは、Webフレームワークがほとんど提供していない真にキラーな機能です。  \n",
    "それはDjangoの起源のルートを新聞のプロジェクトとして持っています。  \n",
    "開発者は、ジャーナリストが「コード」に触れなくても記事を書くことができるように、CMS（コンテンツ管理システム）を望んでいました。  \n",
    "時間の経過とともに、組み込みの管理アプリはすぐれたツールとして進化しました。   \n",
    "Djangoプロジェクトのすべての側面を管理します。   \n",
    "Django管理者を使用するには、まずログインできるスーパーユーザーを作成する必要があります。  \n",
    "コマンドラインコンソールで、python manage.py createsuperuserと入力して、ユーザー名、電子メール、パスワードの入力を求めます。"
   ]
  },
  {
   "cell_type": "raw",
   "metadata": {},
   "source": [
    "(mb) $ python manage.py  \n",
    "createsuperuser Username (leave blank to use 'wsv'): wsv   \n",
    "Email:   \n",
    "Password:   \n",
    "Password (again):   \n",
    "Superuser created successfully."
   ]
  },
  {
   "cell_type": "markdown",
   "metadata": {},
   "source": [
    "注意：パスワードを入力すると、セキュリティ上の理由からコマンドラインコンソールに表示されません。Python manage.py runserverを使用してDjangoサーバを再起動し、Webブラウザでhttp：// 127.0.0.1：8000 / adminにアクセスしてください。 /。管理者のログイン画面が表示されます。"
   ]
  },
  {
   "cell_type": "markdown",
   "metadata": {},
   "source": [
    "作成したユーザー名とパスワードを入力してログインします。次はDjangoの管理者のホームページが表示されます："
   ]
  },
  {
   "cell_type": "markdown",
   "metadata": {},
   "source": [
    "しかし、私たちの投稿アプリはどこですか？  \n",
    "メイン管理ページには表示されません！   \n",
    "Djangoに管理者に何を表示するかを明示的に伝える必要があります。  \n",
    "幸いにも、これを簡単に修正するには、posts/admin.pyファイルを開き、次のように編集します："
   ]
  },
  {
   "cell_type": "raw",
   "metadata": {},
   "source": [
    "--- posts/admin.py ---"
   ]
  },
  {
   "cell_type": "markdown",
   "metadata": {},
   "source": [
    "Djangoは現在、私たちの投稿アプリとそのデータベースモデルPostを管理ページに表示するべきであることを知っています。  \n",
    "ブラウザを更新すると、今すぐ表示されます。"
   ]
  },
  {
   "cell_type": "markdown",
   "metadata": {},
   "source": [
    "今度はデータベース用の最初のメッセージボード投稿を作成しましょう。投稿の反対側の+追加ボタンをクリックします。テキストフォームフィールドに独自のテキストを入力します。"
   ]
  },
  {
   "cell_type": "markdown",
   "metadata": {},
   "source": [
    "次に、メインの投稿ページにリダイレクトする \"保存\"ボタンをクリックします。しかし、注意深く見てみると、問題があります。新しいエントリは「Post object」と呼ばれていますが、あまり役に立ちません。"
   ]
  },
  {
   "cell_type": "raw",
   "metadata": {},
   "source": [
    "それを変えましょう。   \n",
    "posts/models.pyファイル内で、次のように新しい関数__str__を追加します。"
   ]
  },
  {
   "cell_type": "raw",
   "metadata": {},
   "source": [
    "--- posts/models.py ---"
   ]
  },
  {
   "cell_type": "markdown",
   "metadata": {},
   "source": [
    "テキストフィールドの最初の50文字が表示されます。  \n",
    "ブラウザで管理ページを更新すると、データベースエントリの説明がわかりやすく役立ちます。"
   ]
  },
  {
   "cell_type": "markdown",
   "metadata": {},
   "source": [
    "# Views/Templates/URLs"
   ]
  },
  {
   "cell_type": "markdown",
   "metadata": {},
   "source": [
    "私たちのホームページにデータベースコンテンツを表示するには、ビュー、テンプレート、URLConfを結びつける必要があります。  \n",
    "このパターンはすぐに身近に感じるはずです。  \n",
    "  \n",
    "ビューから始めましょう。  \n",
    "この本の前半では、組み込みの汎用TemplateViewを使用して、ホームページにテンプレートファイルを表示しました。  \n",
    "今度は、データベースモデルの内容をリストアップします。  \n",
    "幸いにもこれはWeb開発の共通タスクでもあり、Djangoには汎用クラスベースのListViewが装備されています。   \n",
    "posts/views.pyファイルに以下のPythonコードを入力します："
   ]
  },
  {
   "cell_type": "markdown",
   "metadata": {},
   "source": [
    "--- posts/views.py ---"
   ]
  },
  {
   "cell_type": "markdown",
   "metadata": {},
   "source": [
    "最初の行ではListViewをインポートし、2行目では使用しているモデルを明示的に定義する必要があります。  \n",
    "ビューでは、ListViewをサブクラス化し、モデル名を指定し、テンプレート参照を指定します。  \n",
    "内部的にListViewは、テンプレートに表示したいobject_listというオブジェクトを返します。  \n",
    "我々の見解は完全であり、URLを設定してテンプレートを作成する必要があることを意味します。  \n",
    "テンプレートから始めましょう。  \n",
    "テンプレートとhome.htmlテンプレートファイルというプロジェクトレベルのディレクトリを作成します。"
   ]
  },
  {
   "cell_type": "raw",
   "metadata": {},
   "source": [
    "(mb) $ mkdir templates \n",
    "(mb) $ touch templates/ home.html"
   ]
  },
  {
   "cell_type": "markdown",
   "metadata": {},
   "source": [
    "そして、Djangoがこのテンプレートフォルダを調べるように、settings.pyファイルのDIRSフィールドを更新してください。"
   ]
  },
  {
   "cell_type": "markdown",
   "metadata": {},
   "source": [
    "テンプレートファイルhome.htmlでは、Djangoテンプレート言語のforループを使用して、object_list内のすべてのオブジェクトをリストすることができます。なぜobject_listですか？これは、ListViewが返す変数の名前です。"
   ]
  },
  {
   "cell_type": "markdown",
   "metadata": {},
   "source": [
    "--- tamplates/home.html ---"
   ]
  },
  {
   "cell_type": "markdown",
   "metadata": {},
   "source": [
    "しかしobject_listはそれほどフレンドリーではありませんか？実際、ジェネリッククラスベースのビューを初めて使用する開発者にとっては、混乱の一般的な点の1つです。  \n",
    "それでは、context_object_nameで行うことができる明示的な名前を提供してみましょう。このように明示的な名前を追加すると、チームの他のメンバ、たとえばデザイナが、テンプレートのコンテキストで使用できるものを理解して理由を理解しやすくなります。  \n",
    "私たちの投稿/ views.pyファイルに戻り、以下を追加してください："
   ]
  },
  {
   "cell_type": "markdown",
   "metadata": {},
   "source": [
    "--- posts/views.py ---"
   ]
  },
  {
   "cell_type": "markdown",
   "metadata": {},
   "source": [
    "テンプレートも更新することを忘れないでください。"
   ]
  },
  {
   "cell_type": "markdown",
   "metadata": {},
   "source": [
    "--- templates/home.html ---"
   ]
  },
  {
   "cell_type": "markdown",
   "metadata": {},
   "source": [
    "最後のステップは、URLConfsを設定することです。プロジェクトレベルのurls.pymファイルから始めましょう。  \n",
    "ここでは、単純に投稿を含め、2行目にincludeを追加します。"
   ]
  },
  {
   "cell_type": "markdown",
   "metadata": {},
   "source": [
    "--- mb_project/urls.py ---"
   ]
  },
  {
   "cell_type": "markdown",
   "metadata": {},
   "source": [
    "次に、アプリレベルのurls.pyファイルを作成します。"
   ]
  },
  {
   "cell_type": "raw",
   "metadata": {},
   "source": [
    "(mb) $ touch posts/ urls.py"
   ]
  },
  {
   "cell_type": "markdown",
   "metadata": {},
   "source": [
    "それを次のように更新する："
   ]
  },
  {
   "cell_type": "markdown",
   "metadata": {},
   "source": [
    "--- posts/urls.py ---"
   ]
  },
  {
   "cell_type": "markdown",
   "metadata": {},
   "source": [
    "python manage.py runserverでサーバーを再起動し、http：// 127.0.0.1：8000 /というホームページに移動して、メッセージボードの投稿を一覧表示します。   \n",
    "\n",
    "投稿付きホームページこの時点では基本的には完成しましたが、Django管理者にメッセージボードの投稿をいくつか作成して、それらがホームページに正しく表示されることを確認しましょう。"
   ]
  },
  {
   "cell_type": "markdown",
   "metadata": {},
   "source": [
    "# Adding new posts"
   ]
  },
  {
   "cell_type": "markdown",
   "metadata": {},
   "source": [
    "メッセージボードに新しい投稿を追加するには、Admin：http：//127.0.0.1：8000/admin/にアクセスして、さらに2つの投稿を作成してください。  \n",
    "私の見た目は次のとおりです："
   ]
  },
  {
   "cell_type": "markdown",
   "metadata": {},
   "source": [
    "ホームページに戻ると、自動的にフォーマットされた投稿が表示されます。  \n",
    "\n",
    "ウーホー！ 3つのエントリを持つホームページすべてがうまくいくので、ディレクトリを初期化し、新しいコードを追加し、最初のgit commitをインクルードするのが良い時期です。"
   ]
  },
  {
   "cell_type": "raw",
   "metadata": {},
   "source": [
    "(mb) $ git init   \n",
    "(mb) $ git add -A  \n",
    "(mb) $ git commit -m 'initial commit'"
   ]
  },
  {
   "cell_type": "markdown",
   "metadata": {},
   "source": [
    "# Tests"
   ]
  },
  {
   "cell_type": "markdown",
   "metadata": {},
   "source": [
    "以前は静的なページしかテストしていなかったので、SimpleTestCaseを使用しました。  \n",
    "しかし、私たちのホームページはデータベースで動作するようになったので、私たちがチェックできる \"テスト\"データベースを作成するTestCaseを使用する必要があります。  \n",
    "つまり、実際のデータベースでテストを実行する必要はありませんが、別のテストデータベースを作成し、サンプルデータを入力してテストすることができます。  \n",
    "テキストデータベースフィールドにサンプルポストを追加し、それがデータベースに正しく格納されていることを確認します。  \n",
    "私たちのテストメソッドはすべてtest_で始まることが重要です。  \n",
    "そうすればDjangoはそれらをテストすることができます！コードは次のようになります。"
   ]
  },
  {
   "cell_type": "markdown",
   "metadata": {},
   "source": [
    "--- posts/tests.py ---"
   ]
  },
  {
   "cell_type": "markdown",
   "metadata": {},
   "source": [
    "先頭にTestCaseモジュールがインポートされ、サンプルデータベースが作成され、Postモデルがインポートされます。  \n",
    "新しいクラスのPostModelTestを作成し、setUpメソッドを追加して、エントリが1つしかない新しいデータベースを作成します。  \n",
    "文字列に「単なるテスト」という文字列が含まれている投稿。次に、最初のテストtest_text_contentを実行して、データベースフィールドに実際にテストが含まれていることを確認します。   \n",
    "Postモデルの最初のIDを表すpostという変数を作成します。   \n",
    "DjangoはこのIDを自動的に設定することを覚えておいてください。  \n",
    "別のエントリを作成した場合、IDは2、次のエントリは3となります。  \n",
    "次の行は、Python 3.6に非常に便利なf文字列を使用しています。  \n",
    "変数が角括弧{}で囲まれている限り、変数を変数に直接入れることができます。  \n",
    "ここでは、expected_object_nameをpost.textの値の文字列に設定します。  \n",
    "これは単なるテストでなければなりません。  \n",
    "最後の行では、assertEqualを使用して、新しく作成されたエントリが実際に入力したものと一致するかどうかを確認します。   \n",
    "Python manage.py testを使ってコマンドラインでテストを実行してください。"
   ]
  },
  {
   "cell_type": "raw",
   "metadata": {},
   "source": [
    "(mb) $ python manage.py test"
   ]
  },
  {
   "cell_type": "markdown",
   "metadata": {},
   "source": [
    "それは通過しました！以前の説明が情報の過負荷のように感じる場合は心配しないでください。 \n",
    "最初にテストを書くのは当然ですが、あなたが書いたテストのほとんどは実際にはかなり繰り返していることがすぐわかります。  \n",
    "私たちの2回目のテストの時間。  \n",
    "最初のテストはモデル上にありましたが、今は私たちの唯一のページ、すなわちホームページをテストしたいと思います。  \n",
    "具体的には、それが存在すること（HTTP 200応答をスローする）、ホームビューの使用、およびhome.htmlテンプレートの使用をテストします。  \n",
    "逆の場合は一番上のインポートを追加し、テストの場合は新しいクラスのHomePageViewTestを追加する必要があります。"
   ]
  },
  {
   "cell_type": "markdown",
   "metadata": {},
   "source": [
    "--- posts/tests.py ---"
   ]
  },
  {
   "cell_type": "markdown",
   "metadata": {},
   "source": [
    "テストをもう一度実行すると、テストが合格するはずです。"
   ]
  },
  {
   "cell_type": "raw",
   "metadata": {},
   "source": [
    "(mb) $ python manage.py test"
   ]
  },
  {
   "cell_type": "markdown",
   "metadata": {},
   "source": [
    "なぜそれは4つのテストを言うのですか？私たちのsetUpメソッドは実際にはテストではなく、単に後続のテストを実行することを覚えておいてください。  \n",
    "実際のテストはtest_text_content、test_view_url_exists_at_proper_location、test_view_url_by_name、およびtest_view_uses_correct_templateです。   \n",
    "tests *という単語を先頭に持ち、tests.pyファイルに存在する関数は、python manage.py testコマンドを実行すると実行されます。  \n",
    "私たちはテストのためにコードを追加していますので、gitに変更をコミットするときです。"
   ]
  },
  {
   "cell_type": "raw",
   "metadata": {},
   "source": [
    "(mb) $ git add -A   \n",
    "(mb) $ git commit -m 'added tests'"
   ]
  },
  {
   "cell_type": "markdown",
   "metadata": {},
   "source": [
    "Bitbucketにもコードを格納する必要があります。これは、ローカルコンピュータに何か問題が発生した場合に対処するための良い習慣です。また、他の開発者と共有して共同作業することもできます。以前の章のBitbucketアカウントを既に持っているはずですので、mb-appと呼ばれる新しいrepoを作成してください。"
   ]
  },
  {
   "cell_type": "markdown",
   "metadata": {},
   "source": [
    "次のページで、「私は既存のプロジェクトがあります」の下のリンクをクリックします。接続する2つのコマンドをコピーし、リポジトリをBitbucketにプッシュします。 wsvincent（私のユーザ名）をあなたのBitbucketユーザ名に置き換えると、次のようになります："
   ]
  },
  {
   "cell_type": "raw",
   "metadata": {},
   "source": [
    "(mb) $ git remote add origin git@bitbucket.org:wsvincent/mb-app.git   \n",
    "(mb) $ git push -u origin master"
   ]
  },
  {
   "cell_type": "markdown",
   "metadata": {},
   "source": [
    "# Heroku configuration"
   ]
  },
  {
   "cell_type": "markdown",
   "metadata": {},
   "source": [
    "第3章からHerokuアカウントを既に設定してインストールしておく必要があります。メッセージボードプロジェクトをオンラインで展開するには、以下の変更を行う必要があります。\n",
    "\n",
    "- Pipfile.lockを更新します。\n",
    "- 新しいProcfile。\n",
    "- ガンコンをインストールします。\n",
    "- settings.pyを更新します。\n",
    "\n",
    "あなたのPipfileには、使用しているPythonのバージョン3.7が指定されています。この2行をファイルの最後に追加します。"
   ]
  },
  {
   "cell_type": "markdown",
   "metadata": {},
   "source": [
    "--- Pipfile ---"
   ]
  },
  {
   "cell_type": "raw",
   "metadata": {},
   "source": [
    "python_version = \"3.7\""
   ]
  },
  {
   "cell_type": "markdown",
   "metadata": {},
   "source": [
    "pipenv lockを実行して、適切なPipfile.lockを生成します。"
   ]
  },
  {
   "cell_type": "raw",
   "metadata": {},
   "source": [
    "(mb) $ pipenv lock"
   ]
  },
  {
   "cell_type": "markdown",
   "metadata": {},
   "source": [
    "その後、Procfileを作成して、Herokuにコードがどこにあるリモートサーバーを実行するかを指示します。"
   ]
  },
  {
   "cell_type": "raw",
   "metadata": {},
   "source": [
    "(mb) $ touch Procfile"
   ]
  },
  {
   "cell_type": "markdown",
   "metadata": {},
   "source": [
    "今のところ、Herokuにプロダクションサーバーとしてgunicornを使用し、mb_project.wsgiファイルを参照して詳しい手順を説明しています。"
   ]
  },
  {
   "cell_type": "raw",
   "metadata": {},
   "source": [
    "--- Procfile ---"
   ]
  },
  {
   "cell_type": "markdown",
   "metadata": {},
   "source": [
    "次に、地方開発のためにDjangoの内部サーバを使用しながら、生産で使用するgunicornをインストールします。"
   ]
  },
  {
   "cell_type": "raw",
   "metadata": {},
   "source": [
    "(mb) $ pipenv install gunicorn == 19.9.0"
   ]
  },
  {
   "cell_type": "markdown",
   "metadata": {},
   "source": [
    "最後に、settings.pyファイルのALLOWED_HOSTSを更新してください。"
   ]
  },
  {
   "cell_type": "raw",
   "metadata": {},
   "source": [
    "--- mb_project/ settings.py ---"
   ]
  },
  {
   "cell_type": "markdown",
   "metadata": {},
   "source": [
    "私たちはすべて終わった！ gitに新しい変更を追加してコミットし、Bitbucketにプッシュします。"
   ]
  },
  {
   "cell_type": "raw",
   "metadata": {},
   "source": [
    "(mb) $ git status   \n",
    "(mb) $ git add -A   \n",
    "(mb) $ git commit -m 'New updates for Heroku deployment'   \n",
    "(mb) $ git push -u origin master"
   ]
  },
  {
   "cell_type": "markdown",
   "metadata": {},
   "source": [
    "# Heroku deployment"
   ]
  },
  {
   "cell_type": "markdown",
   "metadata": {},
   "source": [
    "正しいHerokuアカウントにログインしていることを確認してください。"
   ]
  },
  {
   "cell_type": "raw",
   "metadata": {},
   "source": [
    "(mb) $ heroku login"
   ]
  },
  {
   "cell_type": "markdown",
   "metadata": {},
   "source": [
    "次に、createコマンドを実行すると、Herokuがあなたのためにアプリ名をランダムに生成します。必要に応じてこれをカスタマイズすることができます。"
   ]
  },
  {
   "cell_type": "raw",
   "metadata": {},
   "source": [
    "(mb) $ heroku create"
   ]
  },
  {
   "cell_type": "markdown",
   "metadata": {},
   "source": [
    "ヘルオクにコードをプッシュするときに、あなたの新しいアプリケーションの名前を使用するようにgitを設定します。   \n",
    "Herokuが生成した名前はsleepy-brook-64719なので、コマンドは次のようになります。"
   ]
  },
  {
   "cell_type": "raw",
   "metadata": {},
   "source": [
    "(mb) $ heroku git:remote -a sleepy-brook-64719"
   ]
  },
  {
   "cell_type": "markdown",
   "metadata": {},
   "source": [
    "Herokuに静的なファイルを無視するように指示します。静的なファイルは、本書の後半でBlogアプリケーションを展開する際に詳しく説明します。"
   ]
  },
  {
   "cell_type": "raw",
   "metadata": {},
   "source": [
    "(mb) $ heroku config:set DISABLE_COLLECTSTATIC = 1"
   ]
  },
  {
   "cell_type": "markdown",
   "metadata": {},
   "source": [
    "ヘロクにコードをプッシュし、無料のスケーリングを追加して、実際にオンラインで実行してください。そうでなければ、コードはちょうどそこに座っています。"
   ]
  },
  {
   "cell_type": "raw",
   "metadata": {},
   "source": [
    "(mb) $ git push heroku master   \n",
    "(mb) $ heroku ps:scale web = 1"
   ]
  },
  {
   "cell_type": "markdown",
   "metadata": {},
   "source": [
    "herokuを開いて新しいプロジェクトを開くと、アプリケーションのURLを含む新しいブラウザウィンドウが自動的に起動します。私の居場所は："
   ]
  },
  {
   "cell_type": "markdown",
   "metadata": {},
   "source": [
    "https:// sleepy-brook-64719. herokuapp.com/."
   ]
  },
  {
   "cell_type": "markdown",
   "metadata": {},
   "source": [
    "# Conclusion"
   ]
  },
  {
   "cell_type": "markdown",
   "metadata": {},
   "source": [
    "これで、初めてデータベース駆動型アプリケーションを構築、テスト、デプロイしました。これは意図的に基本的ですが、データベースモデルを作成して管理パネルで更新し、Webページにその内容を表示する方法が分かりました。しかし何かが欠けている、ない？現実の世界では、ユーザーはサイトと対話するためのフォームが必要です。結局のところ、誰もが管理パネルにアクセスする必要はありません。次の章では、ユーザーが投稿を作成、編集、削除できるようにフォームを使用するブログアプリケーションを作成します。 CSSでスタイリングを追加します。"
   ]
  },
  {
   "cell_type": "code",
   "execution_count": null,
   "metadata": {},
   "outputs": [],
   "source": []
  }
 ],
 "metadata": {
  "kernelspec": {
   "display_name": "Python 3",
   "language": "python",
   "name": "python3"
  },
  "language_info": {
   "codemirror_mode": {
    "name": "ipython",
    "version": 3
   },
   "file_extension": ".py",
   "mimetype": "text/x-python",
   "name": "python",
   "nbconvert_exporter": "python",
   "pygments_lexer": "ipython3",
   "version": "3.7.0"
  }
 },
 "nbformat": 4,
 "nbformat_minor": 2
}
