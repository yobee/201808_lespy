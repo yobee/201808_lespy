{
 "cells": [
  {
   "cell_type": "markdown",
   "metadata": {},
   "source": [
    "### 関数を定義します"
   ]
  },
  {
   "cell_type": "markdown",
   "metadata": {},
   "source": [
    "関数といえば  \n",
    "- def で定義\n",
    "- 値を渡したいときは引数を渡します。\n",
    "- インデントを使用してbるとk区する。\n",
    "- return で戻り値"
   ]
  },
  {
   "cell_type": "markdown",
   "metadata": {},
   "source": [
    "<img src=\"basic01.png\">"
   ]
  },
  {
   "cell_type": "markdown",
   "metadata": {},
   "source": [
    "英小文字を使用し、 複数の単語から構成される名前を付けたい場合 には アンダー スコア「_」 で 接続して描きます。"
   ]
  },
  {
   "cell_type": "markdown",
   "metadata": {},
   "source": [
    "### doll_to_yen 関数を作ります。"
   ]
  },
  {
   "cell_type": "markdown",
   "metadata": {},
   "source": [
    "#### ドルの金額を為替レートを引数に円をも出します。"
   ]
  },
  {
   "cell_type": "markdown",
   "metadata": {},
   "source": [
    "<img src=\"basic02.png\">"
   ]
  },
  {
   "cell_type": "markdown",
   "metadata": {},
   "source": [
    "#### 引数にリテラル(値)を指定して呼び出す"
   ]
  },
  {
   "cell_type": "code",
   "execution_count": 25,
   "metadata": {},
   "outputs": [
    {
     "name": "stdout",
     "output_type": "stream",
     "text": [
      " 為替 レート: 105\n",
      "100 ドル は10500 円\n"
     ]
    }
   ],
   "source": [
    "def doll_to_yen(doll, rate):\n",
    "    return doll * rate \n",
    "\n",
    "yen = doll_to_yen(100,105)\n",
    "print(\" 為替 レート: {}\".format( 105)) \n",
    "print(\"{} ドル は{} 円\". format( 100, yen)) "
   ]
  },
  {
   "cell_type": "markdown",
   "metadata": {},
   "source": [
    "#### 引数に変数に指定して呼び出す"
   ]
  },
  {
   "cell_type": "code",
   "execution_count": 24,
   "metadata": {},
   "outputs": [
    {
     "name": "stdout",
     "output_type": "stream",
     "text": [
      " 為替 レート: 100\n",
      "150 ドル は15000 円\n"
     ]
    }
   ],
   "source": [
    "def doll_to_yen(doll, rate):\n",
    "    return doll * rate \n",
    "\n",
    "rate = 100 \n",
    "doll = 150 \n",
    "\n",
    "# 引数 に 変数 を 指定 し て 呼び出す \n",
    "yen = doll_to_yen(doll, rate) \n",
    "print(\" 為替 レート: {}\".format( rate)) \n",
    "print(\"{} ドル は{} 円\". format( doll, yen))"
   ]
  },
  {
   "cell_type": "markdown",
   "metadata": {},
   "source": [
    "### キーワード引数とデフォルト値の指定"
   ]
  },
  {
   "cell_type": "markdown",
   "metadata": {},
   "source": [
    "直接数字を指定すると引数がなんなのか分かりにくいです。"
   ]
  },
  {
   "cell_type": "code",
   "execution_count": 31,
   "metadata": {},
   "outputs": [],
   "source": [
    "yen = doll_to_yen(doll, rate) "
   ]
  },
  {
   "cell_type": "markdown",
   "metadata": {},
   "source": [
    "関数呼び出し時に引数=値と引数を与えることができます。  \n",
    "<b>キーワード引数</b>と呼びます。  \n",
    "#### 引数の並び順を変えてもOKです。"
   ]
  },
  {
   "cell_type": "code",
   "execution_count": 37,
   "metadata": {},
   "outputs": [
    {
     "name": "stdout",
     "output_type": "stream",
     "text": [
      " 為替 レート: 100\n",
      "150 ドル は10500 円\n"
     ]
    }
   ],
   "source": [
    "def doll_to_yen(rate,doll): #<順番を入れ替えてもOK!!!\n",
    "    return doll * rate \n",
    "\n",
    "rate = 100 \n",
    "doll = 150 \n",
    "\n",
    "yen = doll_to_yen(doll=100, rate=105) \n",
    "print(\" 為替 レート: {}\".format( rate)) \n",
    "print(\"{} ドル は{} 円\". format( doll, yen))"
   ]
  },
  {
   "cell_type": "markdown",
   "metadata": {},
   "source": [
    "#### 引数に渡す変数を指定して呼び出せます。"
   ]
  },
  {
   "cell_type": "code",
   "execution_count": 38,
   "metadata": {},
   "outputs": [
    {
     "name": "stdout",
     "output_type": "stream",
     "text": [
      " 為替 レート: 100\n",
      "150 ドル は15000 円\n"
     ]
    }
   ],
   "source": [
    "def doll_to_yen(rate,doll): #<順番を入れ替えてもOK!!!\n",
    "    return doll * rate \n",
    "\n",
    "rate = 100 \n",
    "doll = 150 \n",
    "\n",
    "yen = doll_to_yen(doll=doll, rate=rate) \n",
    "print(\" 為替 レート: {}\".format( rate)) \n",
    "print(\"{} ドル は{} 円\". format( doll, yen))"
   ]
  },
  {
   "cell_type": "markdown",
   "metadata": {},
   "source": [
    "#### 関数の引数に初期値を設定できます。  \n",
    "関数呼び出し時に、引数を指定しなかった場合のデフォルト値を設定することができます。それには、関数の定義でデフォルト値を設定したい引数に「引数名=デフォルト値」を指定します。このとき、デフォルト値を持つ引数はデフォルト値を持たない引数のうしろに置く必要があります。"
   ]
  },
  {
   "cell_type": "markdown",
   "metadata": {},
   "source": [
    "def  関数名(引数１，引数２...引数n=デフォルト値)  \n"
   ]
  },
  {
   "cell_type": "markdown",
   "metadata": {},
   "source": [
    "為替レートを指定しない場合にはデフォルト値として100を設定するようにしてみます。"
   ]
  },
  {
   "cell_type": "code",
   "execution_count": 47,
   "metadata": {},
   "outputs": [
    {
     "name": "stdout",
     "output_type": "stream",
     "text": [
      " 為替 レート: 100\n",
      "150 ドル は10500 円\n"
     ]
    }
   ],
   "source": [
    "def doll_to_yen(doll,rate=100): \n",
    "    return doll * rate \n",
    "\n",
    "doll1 = 100 \n",
    "\n",
    "yen = doll_to_yen(doll1, 105) \n",
    "print(\" 為替 レート: {}\".format( rate)) \n",
    "print(\"{} ドル は{} 円\". format( doll, yen))"
   ]
  },
  {
   "cell_type": "code",
   "execution_count": 48,
   "metadata": {},
   "outputs": [
    {
     "name": "stdout",
     "output_type": "stream",
     "text": [
      " 為替 レート: 100\n",
      "150 ドル は5000 円\n"
     ]
    }
   ],
   "source": [
    "def doll_to_yen(doll,rate=100): \n",
    "    return doll * rate \n",
    "\n",
    "doll2 = 50 \n",
    "\n",
    "yen = doll_to_yen(doll2) \n",
    "print(\" 為替 レート: {}\".format( rate)) \n",
    "print(\"{} ドル は{} 円\". format( doll, yen))"
   ]
  },
  {
   "cell_type": "markdown",
   "metadata": {},
   "source": [
    "### 変数のスコープについて"
   ]
  },
  {
   "cell_type": "markdown",
   "metadata": {},
   "source": [
    "関数内で定義された変数は、その関数外で使う子とかできません。  \n",
    "<b>ローカル変数</b>と言います。"
   ]
  },
  {
   "cell_type": "code",
   "execution_count": 56,
   "metadata": {},
   "outputs": [],
   "source": [
    "def scope_test2():\n",
    "    value2 = 1\n",
    "    print(value2)"
   ]
  },
  {
   "cell_type": "code",
   "execution_count": 57,
   "metadata": {},
   "outputs": [
    {
     "name": "stdout",
     "output_type": "stream",
     "text": [
      "1\n"
     ]
    }
   ],
   "source": [
    "scope_test2()"
   ]
  },
  {
   "cell_type": "code",
   "execution_count": 63,
   "metadata": {},
   "outputs": [
    {
     "name": "stdout",
     "output_type": "stream",
     "text": [
      "1\n"
     ]
    }
   ],
   "source": [
    "value1=1\n",
    "def scope_test1():\n",
    "    print(value1)\n",
    "scope_test1()"
   ]
  },
  {
   "cell_type": "markdown",
   "metadata": {},
   "source": [
    "ローカルスコープとグローバルスコープに同じ名前の変数がある場合、関数の内部では<b>ローカルスコープが優先されます</b>。"
   ]
  },
  {
   "cell_type": "markdown",
   "metadata": {},
   "source": [
    "### クラスについて\n",
    "クラスのブロックにはメソッドを定義していきます。　関数と同じようにメソッドの定義もdef文で行います。"
   ]
  },
  {
   "cell_type": "markdown",
   "metadata": {},
   "source": [
    "<img src=\"basic03.png\">"
   ]
  },
  {
   "cell_type": "markdown",
   "metadata": {},
   "source": [
    "<h3>初期化メソッド「__init__()」について</h3>"
   ]
  },
  {
   "cell_type": "raw",
   "metadata": {},
   "source": [
    "メソッドの中で、インスタンスの初期化を行うメソッドのことを「初期化メソッド」と呼びます。初期化メソッドの名前は「__init__」に決まっています。また、必ず第1引数として「self」を渡します。このselfは自分自身のインスタンスを表す特別な値です。"
   ]
  },
  {
   "cell_type": "raw",
   "metadata": {},
   "source": [
    "class クラス名:\n",
    "    def __init__( self, 引数 2, 引数 3, ...): 初期化 メソッド のブロック"
   ]
  },
  {
   "cell_type": "markdown",
   "metadata": {},
   "source": [
    "### ユーザー定義クラス名の表記\n",
    "慣習的に先頭を大文字で始めます。また、複数の単語から構成される場合には、アンダースコア「_」で接続せずに単語の先頭を大文字にします。"
   ]
  },
  {
   "cell_type": "markdown",
   "metadata": {},
   "source": [
    "### Customerクラスを定義します"
   ]
  },
  {
   "cell_type": "markdown",
   "metadata": {},
   "source": [
    "インスタンスごとに固有の変数のことを「インスタンス変数」といいます。"
   ]
  },
  {
   "cell_type": "markdown",
   "metadata": {},
   "source": [
    " インスタンス変数を設定します。  \n",
    "number -- 会員番号   \n",
    "name -- 名前   \n",
    "height -- 身長(cm)  "
   ]
  },
  {
   "cell_type": "code",
   "execution_count": 70,
   "metadata": {},
   "outputs": [],
   "source": [
    "class Customer:\n",
    "    def __init__(self,number,name,height=0):\n",
    "        self.number=number\n",
    "        self.name=name\n",
    "        self.height=height"
   ]
  },
  {
   "cell_type": "markdown",
   "metadata": {},
   "source": [
    "関数と同じく、メソッドに引数のデフォルト値やキーワード引数を指定してもかまいません。  \n",
    "この例では引数heightにデフォルト値「0」を設定しています。  \n",
    "クラス内のメソッド定義の内部で、インスタンス変数にアクセスするには「self.インスタンス名」の形式で指定します。\n"
   ]
  },
  {
   "cell_type": "markdown",
   "metadata": {},
   "source": [
    "<img src=\"basic04.png\">"
   ]
  },
  {
   "cell_type": "markdown",
   "metadata": {},
   "source": [
    "#### インスタンス変数にアクセスする"
   ]
  },
  {
   "cell_type": "code",
   "execution_count": 98,
   "metadata": {},
   "outputs": [
    {
     "name": "stdout",
     "output_type": "stream",
     "text": [
      "101:斉藤 太郎 180\n"
     ]
    }
   ],
   "source": [
    "class Customer:\n",
    "    def __init__(self,number,name,height=0):\n",
    "        self.number = number\n",
    "        self.name =name\n",
    "        self.height = height\n",
    "        \n",
    "# インスタンス を 生成 \n",
    "taro = Customer( 101, \"斉藤 太郎\", 180)\n",
    "print(\"{}:{} {}\".format(taro.number,taro.name,taro.height))"
   ]
  },
  {
   "cell_type": "code",
   "execution_count": 99,
   "metadata": {},
   "outputs": [
    {
     "name": "stdout",
     "output_type": "stream",
     "text": [
      "101:斉藤 太郎 175\n"
     ]
    }
   ],
   "source": [
    "#身長を変更\n",
    "taro.height = 175\n",
    "print(\"{}:{} {}\".format(taro.number,taro.name,taro.height))"
   ]
  },
  {
   "cell_type": "markdown",
   "metadata": {},
   "source": [
    "### インスタンス変数とクラス変数"
   ]
  },
  {
   "cell_type": "markdown",
   "metadata": {},
   "source": [
    "インスタンス変数は、インスタンスごとに固有の変数です。たとえば、Customerクラスのnumber、name、height変数はインスタンスごと個別の値を持つインスタンス変数です。それに対して、クラスそのものに属し、インスタンスで共有される変数を<b>クラス変数</b>と呼びます。"
   ]
  },
  {
   "cell_type": "raw",
   "metadata": {},
   "source": [
    "class クラス名: 　 　 \n",
    "    クラス変数1 = 値 　 　 \n",
    "    クラス変数2 = 値 　 　 ● ─ ─ メソッドの外部で値を代入した変数はクラス変数となる 　 　 \n",
    "    def __init__(～):"
   ]
  },
  {
   "cell_type": "markdown",
   "metadata": {},
   "source": [
    "#### クラス変数にアクセスするには"
   ]
  },
  {
   "cell_type": "markdown",
   "metadata": {},
   "source": [
    "クラス名.変数名  \n",
    "で定義します。"
   ]
  },
  {
   "cell_type": "markdown",
   "metadata": {},
   "source": [
    "インスタンス変数は  \n",
    "インスタンス名.変数名  \n",
    "です"
   ]
  },
  {
   "cell_type": "code",
   "execution_count": 119,
   "metadata": {},
   "outputs": [
    {
     "name": "stdout",
     "output_type": "stream",
     "text": [
      "bmi: 22\n"
     ]
    }
   ],
   "source": [
    "class Customer:\n",
    "    bmi = 22\n",
    "    def __init__( self, number, name, height = 0):\n",
    "        self. number = number\n",
    "        self. name = name\n",
    "        self. height = height \n",
    "        # クラス 変数 の 値 を 表示 \n",
    "print(\"bmi: {}\".format(Customer.bmi))"
   ]
  },
  {
   "cell_type": "code",
   "execution_count": 120,
   "metadata": {},
   "outputs": [],
   "source": [
    "# インスタンス を 生成 \n",
    "taro = Customer( 101, \"斉 藤 太郎\", 180) \n",
    "hanako = Customer( 102, \"山田 花子\", 165)"
   ]
  },
  {
   "cell_type": "code",
   "execution_count": 121,
   "metadata": {},
   "outputs": [
    {
     "name": "stdout",
     "output_type": "stream",
     "text": [
      "taro -> bmi: 23\n",
      "hanako -> bmi: 23\n"
     ]
    }
   ],
   "source": [
    "Customer.bmi = 23\n",
    "print(\"taro -> bmi: {}\".format( taro.bmi))\n",
    "print(\"hanako -> bmi: {}\".format( hanako.bmi))"
   ]
  },
  {
   "cell_type": "code",
   "execution_count": 122,
   "metadata": {},
   "outputs": [
    {
     "data": {
      "text/plain": [
       "23"
      ]
     },
     "execution_count": 122,
     "metadata": {},
     "output_type": "execute_result"
    }
   ],
   "source": [
    "Customer.bmi "
   ]
  },
  {
   "cell_type": "markdown",
   "metadata": {},
   "source": [
    "### クラスでメソッドを定義する"
   ]
  },
  {
   "cell_type": "raw",
   "metadata": {},
   "source": [
    "クラスで定義していたのは初期化メソッドである__init__()だけですが、クラスには必要に応じてメソッドを追加できます。このとき、__init__()メソッドと同じく、ほかのメソッドを定義する場合も、第1引数として自分自身を示すselfを渡す点に注意してください。"
   ]
  },
  {
   "cell_type": "raw",
   "metadata": {},
   "source": [
    "def メソッド名(self,その他の引数):\n",
    "    メソッド本体"
   ]
  },
  {
   "cell_type": "code",
   "execution_count": 146,
   "metadata": {},
   "outputs": [
    {
     "name": "stdout",
     "output_type": "stream",
     "text": [
      "斉藤 太郎　標準 体重:71.28 kg\n",
      "山田 花子 標準 体重:56.32 kg\n"
     ]
    }
   ],
   "source": [
    "class Customer:\n",
    "    bmi=22\n",
    "    \n",
    "    def __init__( self, number, name, height = 0):\n",
    "        self.number = number\n",
    "        self.name = name\n",
    "        self.height = height\n",
    "        \n",
    "    # 標準 体重 を 戻す\n",
    "    def std_weight(self):\n",
    "        return Customer.bmi * (self.height / 100) ** 2\n",
    "#                   ↑クラス変数　　　　　　　↑インスタンス変数\n",
    "        \n",
    "taro = Customer( 101, \"斉藤 太郎\", 180)\n",
    "hanako = Customer( 102, \"山田 花子\", 160) # 標準 体重 を 表示 \n",
    "\n",
    "print(\"{}　標準 体重:{:.2f} kg\".format(taro.name,taro. std_weight()))\n",
    "print(\"{} 標準 体重:{:.2f} kg\". format(hanako. name,hanako. std_weight()))"
   ]
  },
  {
   "cell_type": "markdown",
   "metadata": {},
   "source": [
    "実際には同名のインスタンス変数がない場合、クラス変数bmiも「self.bmi」としてアクセスできますが、「Customer.bmi」としたほうがクラス変数であることがわかりやすいでしょう。"
   ]
  },
  {
   "cell_type": "markdown",
   "metadata": {},
   "source": [
    "### 何もしないpass文"
   ]
  },
  {
   "cell_type": "markdown",
   "metadata": {},
   "source": [
    "クラスを定義するうえで、メソッドの雛形だけを用意して置いて後から中身を記述したいケースがあります。そのとき便利なのがpass文です。"
   ]
  },
  {
   "cell_type": "code",
   "execution_count": 150,
   "metadata": {},
   "outputs": [],
   "source": [
    "class MyClass:\n",
    "    def __init__(self,name,point):\n",
    "        self.name = name\n",
    "        self.point = point\n",
    "    \n",
    "    def name(self, name):\n",
    "        pass\n",
    "    def sample(self,point):\n",
    "        pass"
   ]
  },
  {
   "cell_type": "markdown",
   "metadata": {},
   "source": [
    "クラスだけ作ってpassもできます。"
   ]
  },
  {
   "cell_type": "code",
   "execution_count": 153,
   "metadata": {},
   "outputs": [],
   "source": [
    "class YourClass:\n",
    "    pass"
   ]
  },
  {
   "cell_type": "code",
   "execution_count": null,
   "metadata": {},
   "outputs": [],
   "source": []
  }
 ],
 "metadata": {
  "kernelspec": {
   "display_name": "Python 3",
   "language": "python",
   "name": "python3"
  },
  "language_info": {
   "codemirror_mode": {
    "name": "ipython",
    "version": 3
   },
   "file_extension": ".py",
   "mimetype": "text/x-python",
   "name": "python",
   "nbconvert_exporter": "python",
   "pygments_lexer": "ipython3",
   "version": "3.7.0"
  }
 },
 "nbformat": 4,
 "nbformat_minor": 2
}
