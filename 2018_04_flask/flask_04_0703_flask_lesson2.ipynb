{
 "cells": [
  {
   "cell_type": "markdown",
   "metadata": {},
   "source": [
    "今回の教材では下記Gitを使います。  \n",
    "https://github.com/miguelgrinberg/flasky"
   ]
  },
  {
   "cell_type": "code",
   "execution_count": null,
   "metadata": {},
   "outputs": [],
   "source": [
    "ソーシャルブログを作ります"
   ]
  },
  {
   "cell_type": "markdown",
   "metadata": {},
   "source": [
    "### User Authentication　　\n",
    "最も一般的に使用される認証方法では、ユーザーがID（電子メールまたはユーザー名のいずれか）と秘密のパスワードを提供する必要があり,認証システムを作成します。"
   ]
  },
  {
   "cell_type": "markdown",
   "metadata": {},
   "source": [
    "下記パッケージを使用します。\n",
    "\n",
    "#### 検証用拡張パッケージ\n",
    "- Flask-Login：ログインしているユーザーのユーザーセッションの管理\n",
    "- Werkzeug：パスワードハッシング\n",
    "- itsdangerous:安全なトークンの生成 \n",
    "\n",
    "#### 汎用拡張パッケージ\n",
    "- Flask-Mail：認証関連の電子メールの送信\n",
    "- Flask-Bootstrap：HTMLテンプレート\n",
    "- Flask-WTF：Webフォーム"
   ]
  },
  {
   "cell_type": "markdown",
   "metadata": {},
   "source": [
    "ユーザーパスワードをデータベースに安全に格納するための鍵は、パスワード自体を保管するのではなく、パスワードをハッシュすることに依存します。パスワードハッシュ関数は、パスワードを入力として受け取り、1つ以上の暗号化変換を適用します。その結果、元のパスワードと似ていない新しい文字列が生成されます。実際のパスワードの代わりにパスワードハッシュを検証することができます。これは、ハッシュ関数が繰り返し可能であるためです。同じ入力では、結果は常に同じです。"
   ]
  },
  {
   "cell_type": "markdown",
   "metadata": {},
   "source": [
    "Werkzeugのセキュリティモジュールは、安全なパスワードハッシングを便利に実装します。この機能は、それぞれ<b>登録フェーズ</b>と<b>検証フェーズ</b>で使用される2つの機能で公開されています。"
   ]
  },
  {
   "cell_type": "markdown",
   "metadata": {},
   "source": [
    "#### generate_password_hash( password, method = pbkdf2: sha1, salt_length = 8):  \n",
    "この関数はプレーンテキストのパスワードを取得し、パスワードハッシュをユーザーデータベースに格納できる文字列として返します。 methodとsalt_lengthのデフォルト値は、ほとんどのユースケースで十分です。 \n",
    "※pbkdf2：鍵導出関数　SHA-1ハッシュ関数\n",
    "\n",
    "#### check_password_hash( hash, password):\n",
    "この関数は、データベースから取得したパスワードハッシュと、ユーザーが入力したパスワードを取ります。 Trueの戻り値は、パスワードが正しいことを示します。"
   ]
  },
  {
   "cell_type": "markdown",
   "metadata": {},
   "source": [
    "下記のcheckoutで確認できます。\n",
    "git checkout 8a"
   ]
  },
  {
   "cell_type": "raw",
   "metadata": {},
   "source": [
    "Example   8-1.   \n",
    "app/ models.py:\n",
    "Password hashing in User model \n",
    "\n",
    "from werkzeug.security import generate_password_hash, check_password_hash \n",
    "\n",
    "class User( db.Model):\n",
    "    # ... \n",
    "    password_hash = db.Column( db.String( 128)) \n",
    "    \n",
    "    @property \n",
    "    def password( self):\n",
    "        raise AttributeError(' password is not a readable attribute') \n",
    "    \n",
    "    @password.setter \n",
    "    def password( self, password):\n",
    "        self.password_hash = generate_password_hash( password) \n",
    "    \n",
    "    def verify_password( self, password):\n",
    "        return check_password_hash( self.password_hash, password)\n"
   ]
  },
  {
   "cell_type": "markdown",
   "metadata": {},
   "source": [
    "#### 解説\n",
    "パスワードハッシュ関数は、passwordという書き込み専用のプロパティを使用して実装されています。  \n",
    "setterメソッドはWerkzeugのgenerate_password_hash（）関数を呼び出し、その結果をpassword_hashフィールドに書き込みます。パスワードプロパティを読み取ろうとするとエラーが返されます。\n",
    "一度ハッシュされると元のパスワードを復元することはできません。 \n",
    "\n",
    "verify_passwordメソッドはパスワードを受け取り、Werkzeugのcheck_password_hash（）関数に渡して、Userモデルに格納されているハッシュバージョンと照合します。このメソッドがTrueを返す場合、パスワードは正しいです。"
   ]
  },
  {
   "cell_type": "code",
   "execution_count": null,
   "metadata": {},
   "outputs": [],
   "source": []
  }
 ],
 "metadata": {
  "kernelspec": {
   "display_name": "Python 3",
   "language": "python",
   "name": "python3"
  },
  "language_info": {
   "codemirror_mode": {
    "name": "ipython",
    "version": 3
   },
   "file_extension": ".py",
   "mimetype": "text/x-python",
   "name": "python",
   "nbconvert_exporter": "python",
   "pygments_lexer": "ipython3",
   "version": "3.7.0"
  }
 },
 "nbformat": 4,
 "nbformat_minor": 2
}
