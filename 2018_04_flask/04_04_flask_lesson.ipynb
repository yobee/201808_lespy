{
 "cells": [
  {
   "cell_type": "markdown",
   "metadata": {},
   "source": [
    "今回の教材では下記Gitを使います。  \n",
    "https://github.com/miguelgrinberg/flasky"
   ]
  },
  {
   "cell_type": "markdown",
   "metadata": {},
   "source": [
    "## Web Forms(ウェブフォーム）"
   ]
  },
  {
   "cell_type": "markdown",
   "metadata": {},
   "source": [
    "以前紹介したrequestオブジェクトは、クライアントが要求に応じて送信したすべての情報を公開します。  \n",
    "特に、request.formは、POST要求で送信されたフォームデータへのアクセスを提供します。  \n",
    "Flaskの要求オブジェクトで提供されるサポートは、Webフォームの処理には十分ですが、反復的になる可能性がある多くのタスクがあります。   \n",
    "2つの良い例は、フォームのHTMLコードの生成と送信されたフォームデータの検証です。   \n",
    "Flask-WTFの拡張機能により、Webフォームはより快適な操作を実現します。この拡張モジュールは、フレームワークに依存しないWTFormsパッケージのFlask統合ラッパーです。 Flask-WTFとその依存関係はpipでインストールできます："
   ]
  },
  {
   "cell_type": "markdown",
   "metadata": {},
   "source": [
    "### Cross-Site Request Forgery (CSRF) Protection"
   ]
  },
  {
   "cell_type": "markdown",
   "metadata": {},
   "source": [
    "デフォルトでは、Flask-WTFはすべてのフォームをCSRF（Cross-Site Request Forgery）攻撃から保護します。   \n",
    "掲示板や問い合わせフォームなどを処理するWebアプリケーションが、本来拒否すべき他サイトからのリクエストを受信し処理してしまいます。 \n",
    "Flask-WTFは、CSRF保護するために、暗号化キーを設定するアプリケーションです。  \n",
    "Flask-WTFはこのキーを使用して、フォームデータによる要求の真正性を検証するために使用される暗号化トークンを生成します。例4-1に、暗号化キーを構成する方法を示します。"
   ]
  },
  {
   "cell_type": "raw",
   "metadata": {},
   "source": [
    "app = Flask(__name__)\n",
    "app.config[' SECRET_KEY'] = 'hard to guess string'"
   ]
  },
  {
   "cell_type": "markdown",
   "metadata": {},
   "source": [
    "app.configディクショナリーは、フレームワーク、拡張機能、またはアプリケーション自体が使用する構成変数を格納するための場所で設定値を追加できます。  \n",
    "構成オブジェクトには、ファイルまたは環境から構成値をインポートするメソッドもあります。  \n",
    "SECRET_KEYの設定変数は、Flaskとサードパーティの拡張機能による暗号化キーとして使用されます。  \n",
    "ビルドする各アプリケーションで別の秘密鍵を選択し、この文字列が誰にも知られていないことを確認します。"
   ]
  },
  {
   "cell_type": "markdown",
   "metadata": {},
   "source": [
    "## Form Classes"
   ]
  },
  {
   "cell_type": "markdown",
   "metadata": {},
   "source": [
    "Flask-WTFを使用する場合、各WebフォームはFormクラスを継承するクラスで表されます。  \n",
    "クラスはフォーム内のフィールドのリストを定義し、それぞれはオブジェクトで表されます。  \n",
    "各フィールドオブジェクトには、1つまたは複数のバリデータを設定できます。  \n",
    "バリデーターは、ユーザーした入力が有効かどうかをチェックする関数です。"
   ]
  },
  {
   "cell_type": "raw",
   "metadata": {},
   "source": [
    "from flask.ext.wtf import Form \n",
    "from wtforms import StringField, SubmitField \n",
    "from wtforms.validators import Required \n",
    "\n",
    "class NameForm( Form):\n",
    "    name = StringField(' What is your name?', validators =[ Required()]) \n",
    "    submit = SubmitField(' Submit')"
   ]
  },
  {
   "cell_type": "raw",
   "metadata": {},
   "source": [
    "フォームのフィールドはクラス変数として定義され、各クラス変数にはフィールドタイプに関連付けられたオブジェクトが割り当てられます。　　\n",
    "前の例では、NameFormフォームにはnameというテキストフィールドとsubmitという送信ボタンがあります。 　　\n",
    "StringFieldクラスは、type = \"text\"属性を持つ<input>要素を表します。　　\n",
    "SubmitFieldクラスは、type = \"submit\"属性を持つ<input>要素を表します。　　\n",
    "フィールドコンストラクタの最初の引数は、フォームをHTMLにレンダリングするときに使用されるラベルです。 　　\n",
    "StringFieldコンストラクタに含まれるオプションのvalidators引数は、ユーザーが受け入れられる前にユーザーが送信したデータに適用されるチェッカーのリストを定義します。 \n",
    "Required（）バリデーターは、フィールドが空になっていないことを確認します。"
   ]
  },
  {
   "cell_type": "markdown",
   "metadata": {},
   "source": [
    "WTFormsでサポートされている標準HTMLフィールドのリストが表示されます"
   ]
  },
  {
   "cell_type": "markdown",
   "metadata": {},
   "source": [
    " - RadioField  | List of radio buttons    ラジオボタンのリスト  \n",
    " - SelectField  | Drop-down list of choices  選択肢のドロップダウンリスト  \n",
    " - SelectMultipleField  | Drop-down list of choices with multiple selection   \n",
    " - 複数の選択肢を持つ選択肢のドロップダウンリスト  \n",
    " - FileField   | File upload field   ファイルアップロードフィールド  \n",
    " - SubmitField  | Form submission button    フォーム提出ボタン   \n",
    " - FormField  | Embed a form as a field in a container form   フォームをコンテナ形式のフィールドとして埋め込む  \n",
    " - FieldList   | List of fields of a given type  指定されたタイプのフィールドのリスト   "
   ]
  },
  {
   "cell_type": "markdown",
   "metadata": {},
   "source": [
    " - Email | Validates an email address 電子メールアドレスを検証する  \n",
    "EqualTo  | \n",
    " - Compares the values of two fields; useful when requesting a password to be entered twice for confirmation   \n",
    "2つのフィールドの値を比較します。確認のためにパスワードを2回入力する必要がある場合に便利です  \n",
    " - IPAddress  | Validates an IPv4 network address IPv4ネットワークアドレスを検証する  \n",
    " - Length  | Validates the length of the string entered 入力された文字列の長さを検証します。  \n",
    " - NumberRange  | Validates that the value entered is within a numeric range 入力された値が数値範囲内にあることを検証します。  \n",
    " - Optional  | Allows empty input on the field, skipping additional validators フィールドに空の入力を許可し、追加のバリデータをスキップします  \n",
    " - Required  | Validates that the field contains data フィールドにデータが含まれていることを検証します。  \n",
    " - Regexp  | Validates the input against a regular expression 入力を正規表現と照合して検証します。  \n",
    " - URL  | Validates a URL   \n",
    " - AnyOf  | Validates that the input is one of a list of possible values 入力が可能な値のリストの1つであることを立証する  \n",
    " - NoneOf  | Validates that the input is none of a list of possible values 入力が可能な値のリストではないことを検証します\n"
   ]
  },
  {
   "cell_type": "markdown",
   "metadata": {},
   "source": [
    "## HTML Rendering of Forms"
   ]
  },
  {
   "cell_type": "markdown",
   "metadata": {},
   "source": [
    "フォームフィールドは、テンプレートから呼び出されたときに自分自身をHTMLにレンダリングする呼び出し可能オブジェクトです。  \n",
    "ビュー関数がNameFormインスタンスをテンプレートという名前の引数としてformに渡すと仮定すると、テンプレートは次のように単純なHTMLフォームを生成できます。"
   ]
  },
  {
   "cell_type": "raw",
   "metadata": {},
   "source": [
    "< form method =\" POST\" > \n",
    "    {{ form.hidden_tag() }} \n",
    "    {{ form.name.label }} \n",
    "    {{ form.name() }} \n",
    "    {{ form.submit() }} \n",
    "</ form >"
   ]
  },
  {
   "cell_type": "markdown",
   "metadata": {},
   "source": [
    "nameフィールドとsubmitフィールドの他に、form.hidden_​​tag（）要素があることに注意してください。  \n",
    "この要素は、Flask-WTFがCSRF保護を実装するために使用する、表示から隠された余分なフォームフィールドを定義します。  \n",
    "もちろん、結果は非常に裸です。フォームの外観を改善するために、フィールドをレンダリングする呼び出しに送られた引数は、フィールドのHTML属性に変換されます。  \n",
    "たとえば、フィールドのid属性またはclass属性を指定してから、CSSスタイルを定義することができます。"
   ]
  },
  {
   "cell_type": "raw",
   "metadata": {},
   "source": [
    "< form method =\" POST\" > \n",
    "    {{ form.hidden_tag() }} \n",
    "    {{ form.name.label }} \n",
    "    {{ form.name( id =' my-text-field') }} \n",
    "    {{ form.submit() }} \n",
    "</ form >"
   ]
  },
  {
   "cell_type": "markdown",
   "metadata": {},
   "source": [
    "HTML属性であっても、このようにフォームをレンダリングするために必要な作業は重要なので、できるだけブートストラップ自身のフォームスタイルセットを活用することが最善です。 \n",
    "Flask-Bootstrapは、Bootstrapの定義済みフォームスタイルを使用してFlask-WTFフォーム全体を単一の呼び出しでレンダリングする、非常に高度なヘルパー関数を提供します。 Flask-Bootstrapを使用すると、前のフォームを次のようにレンダリングできます。"
   ]
  },
  {
   "cell_type": "raw",
   "metadata": {},
   "source": [
    "{% import \"bootstrap/ wtf.html\" as wtf %} \n",
    "{{ wtf.quick_form( form) }}"
   ]
  },
  {
   "cell_type": "markdown",
   "metadata": {},
   "source": [
    "importディレクティブは通常のPythonスクリプトと同じように動作し、テンプレート要素をインポートして多くのテンプレートで使用できるようにします。  \n",
    "インポートされたbootstrap/wtf.htmlファイルは、ブートストラップを使用してFlask-WTFフォームをレンダリングするヘルパー関数を定義します。   \n",
    "wtf.quick_form（）関数は、Flask-WTFフォームオブジェクトを取り、デフォルトのブートストラップスタイルを使用してレンダリングします。"
   ]
  },
  {
   "cell_type": "raw",
   "metadata": {},
   "source": [
    "{% extends \"base.html\" %} \n",
    "{% import \"bootstrap/ wtf.html\" as wtf %} \n",
    "\n",
    "{% block title %} Flasky{% endblock %} \n",
    "\n",
    "{% block page_content %} \n",
    "<div class =\" page-header\"> \n",
    "    <h1> Hello, {% if name %}{{ name }}{% else %} Stranger{% endif %}! </h1> \n",
    "</div>\n",
    "{{ wtf.quick_form( form) }} {% endblock %}"
   ]
  },
  {
   "cell_type": "markdown",
   "metadata": {},
   "source": [
    "テンプレートのコンテンツ領域に2つのセクションが追加されました。  \n",
    "最初のセクションは、挨拶を示すページヘッダーです。ここでは、条件付きテンプレートが使用されています。   \n",
    "Jinja2の条件式は、{％if condition％} ... {％else％} ... {％endif％}の形式です。  \n",
    "条件がTrueと評価された場合、ifおよびelseディレクティブの間に現れるものがテンプレートにレンダリングされます。  \n",
    "条件がFalseと評価された場合、elseとendifの間に何がレンダリングされます。サンプルのテンプレートは、名前テンプレートの引数が未定義のときに文字列 \"Hello、Stranger！\"を表示します。  \n",
    "コンテンツの2番目のセクションは、wtf.quick_form（）関数を使用してNameFormオブジェクトをレンダリングします。"
   ]
  },
  {
   "cell_type": "markdown",
   "metadata": {},
   "source": [
    "## Form Handling in View Functions(View関数でのフォーム画面のハンドリング）"
   ]
  },
  {
   "cell_type": "markdown",
   "metadata": {},
   "source": [
    "index（）ビュー関数がフォームをレンダリングし、そのデータを受け取っています。"
   ]
  },
  {
   "cell_type": "raw",
   "metadata": {},
   "source": [
    "@app.route('/', methods =[' GET', 'POST']) \n",
    "def index(): \n",
    "    name = None \n",
    "    form = NameForm() \n",
    "    if form.validate_on_submit(): \n",
    "        name = form.name.data \n",
    "        form.name.data = '' \n",
    "    return render_template(' index.html', form = form, name = name)"
   ]
  },
  {
   "cell_type": "markdown",
   "metadata": {},
   "source": [
    "app.routeデコレータに追加されたmethods引数は、Flaskに、URLマップ内のGETおよびPOSTリクエストのハンドラとしてビュー関数を登録するように指示します。  \n",
    "メソッドが与えられていない場合、ビュー関数はGET要求のみを処理するように登録されます。\n",
    "\n",
    "フォーム送信はPOST要求としてはるかに便利に処理されるので、メソッドリストにPOSTを追加する必要があります。  \n",
    "フォームをGETリクエストとして送信することは可能ですが、GETリクエストには本文がないため、データはURLにクエリ文字列として追加され、ブラウザのアドレスバーに表示されます。これと他のいくつかの理由から、フォームの提出はほぼ普遍的にPOSTリクエストとして行われます。\n",
    "\n",
    "ローカル変数名は、使用可能なときにフォームから受け取った名前を保持するために使用されます。\n",
    "名前がわからない場合、変数はNoneに初期化されます。  \n",
    "ビュー関数は、前にフォームを表すNameFormクラスのインスタンスを作成します。  \n",
    "\n",
    "フォームのvalidate_on_submit（）メソッドは、フォームが送信され、データがすべてのフィールドバリデーターによって受け入れられたときにTrueを返します。　　\n",
    "それ以外の場合、validate_on_submit（）はFalseを返します。　　\n",
    "このメソッドの戻り値は、フォームをレンダリングまたは処理する\n",
    "必要があるかどうかを判断するのに効果的です。\n",
    "\n",
    "ユーザーが最初にアプリケーションにナビゲートすると、サーバーはフォームデータなしでGET要求を受信するため、validate_on_submit（）はFalseを返します。 \n",
    "\n",
    "if文の本体はスキップされ、テンプレートをレンダリングすることによって要求が処理され、フォームオブジェクトとname変数が引数としてNoneに設定されます。　　\n",
    "ユーザーはブラウザに表示されたフォームを見ることができます。　　\n",
    "ユーザーがフォームを送信すると、サーバーはそのデータでPOST要求を受け取ります。 \n",
    "validate_on_submit（）を呼び出すと、nameフィールドに付加されたRequired（）バリデーターが呼び出されます。　　\n",
    "\n",
    "名前が空でない場合、バリデーターはそれを受け入れ、validate_on_submit（）はTrueを返します。　　\n",
    "ユーザが入力した名前は、フィールドのデータ属性としてアクセスできるようになりました。 　　\n",
    "if文の本体の内部では、この名前はローカル名変数に割り当てられ、フォームのフィールドはそのデータ属性を空の文字列に設定することでクリアされます。　　\n",
    "最後の行のrender_template（）を呼び出すとテンプレートがレンダリングされますが、今回はname引数にフォームの名前が含まれるため、挨拶がパーソナライズされます。"
   ]
  }
 ],
 "metadata": {
  "kernelspec": {
   "display_name": "Python 3",
   "language": "python",
   "name": "python3"
  },
  "language_info": {
   "codemirror_mode": {
    "name": "ipython",
    "version": 3
   },
   "file_extension": ".py",
   "mimetype": "text/x-python",
   "name": "python",
   "nbconvert_exporter": "python",
   "pygments_lexer": "ipython3",
   "version": "3.7.0"
  }
 },
 "nbformat": 4,
 "nbformat_minor": 2
}
