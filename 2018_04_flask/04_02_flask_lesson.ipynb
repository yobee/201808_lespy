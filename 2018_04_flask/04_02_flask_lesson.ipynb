{
 "cells": [
  {
   "cell_type": "markdown",
   "metadata": {},
   "source": [
    "今回の教材では下記Gitを使います。  \n",
    "https://github.com/miguelgrinberg/flasky"
   ]
  },
  {
   "cell_type": "markdown",
   "metadata": {},
   "source": [
    "### 1.venvを設定する\n",
    "\n",
    "- Mac版\n",
    "\n",
    "```\n",
    "$ source venv/bin/activate\n",
    "```\n",
    "\n",
    "- windows版\n",
    "\n",
    "```\n",
    "$ venv\\Scripts\\activate\n",
    "```\n",
    "\n",
    "※$（ドルマーク）使わない"
   ]
  },
  {
   "cell_type": "markdown",
   "metadata": {},
   "source": [
    "### 2.flaskのインストール\n",
    "\n",
    "```\n",
    "$ pip install flask\n",
    "```\n",
    "\n",
    "[import flask]\n",
    "\n",
    "と書くことで反映される"
   ]
  },
  {
   "cell_type": "markdown",
   "metadata": {},
   "source": [
    "## Initialization(初期設定)\n",
    "インポートとプログラム起動時に初期に読み込まれる部分にを設定する。\n"
   ]
  },
  {
   "cell_type": "code",
   "execution_count": 5,
   "metadata": {
    "collapsed": true
   },
   "outputs": [
    {
     "name": "stdout",
     "output_type": "stream",
     "text": [
      "Collecting flask\n",
      "  Using cached https://files.pythonhosted.org/packages/7f/e7/08578774ed4536d3242b14dacb4696386634607af824ea997202cd0edb4b/Flask-1.0.2-py2.py3-none-any.whl\n",
      "Collecting click>=5.1 (from flask)\n",
      "  Using cached https://files.pythonhosted.org/packages/34/c1/8806f99713ddb993c5366c362b2f908f18269f8d792aff1abfd700775a77/click-6.7-py2.py3-none-any.whl\n",
      "Collecting Werkzeug>=0.14 (from flask)\n",
      "  Using cached https://files.pythonhosted.org/packages/20/c4/12e3e56473e52375aa29c4764e70d1b8f3efa6682bef8d0aae04fe335243/Werkzeug-0.14.1-py2.py3-none-any.whl\n",
      "Requirement already satisfied: Jinja2>=2.10 in /Users/yobe/homedir/lib/python3.7/site-packages (from flask) (2.10)\n",
      "Collecting itsdangerous>=0.24 (from flask)\n",
      "  Using cached https://files.pythonhosted.org/packages/dc/b4/a60bcdba945c00f6d608d8975131ab3f25b22f2bcfe1dab221165194b2d4/itsdangerous-0.24.tar.gz\n",
      "Requirement already satisfied: MarkupSafe>=0.23 in /Users/yobe/homedir/lib/python3.7/site-packages (from Jinja2>=2.10->flask) (1.0)\n",
      "Installing collected packages: click, Werkzeug, itsdangerous, flask\n",
      "  Running setup.py install for itsdangerous ... \u001b[?25ldone\n",
      "\u001b[?25hSuccessfully installed Werkzeug-0.14.1 click-6.7 flask-1.0.2 itsdangerous-0.24\n"
     ]
    }
   ],
   "source": [
    "!pip install flask"
   ]
  },
  {
   "cell_type": "code",
   "execution_count": 7,
   "metadata": {},
   "outputs": [],
   "source": [
    "from flask import Flask \n",
    "\n",
    "app = Flask(__name__)"
   ]
  },
  {
   "cell_type": "markdown",
   "metadata": {},
   "source": [
    "## Routes and View Functions(ルートと表示画面設定)"
   ]
  },
  {
   "cell_type": "markdown",
   "metadata": {},
   "source": [
    "ルートとビュー機能Webブラウザなどのクライアントは、Webサーバーに要求を送信し、WebサーバーはFlaskアプリケーションインスタンスに要求を送信します。  \n",
    "アプリケーションインスタンスは、要求された各URLに対してどのコードを実行する必要があるかを知る必要があるため、URLからPython関数へのマッピングが維持されます。  \n",
    "\n",
    "URLとそれを処理する関数との関連付けをルートと呼びます。   \n",
    "\n",
    "Flaskでは装飾されたapp.routeデコレータを使用する方法が一般的です。  \n",
    "次の例は、このデコレータを使用してルートが宣言されている様子を示しています。  "
   ]
  },
  {
   "cell_type": "raw",
   "metadata": {},
   "source": [
    "@app.route('/') \n",
    "def index():\n",
    "    return '<h1> Hello World! </h1>'"
   ]
  },
  {
   "cell_type": "markdown",
   "metadata": {},
   "source": [
    "あなたが毎日使っているWebサービスのURLのいくつかがどのように形成されているかに注目すると、多くの可変セクションを持つことに気付かされます。　  \n",
    "たとえば、FacebookのプロフィールページのURLはhttp：//www.facebook.com/<あなたの名前>です。　   \n",
    "Flaskは、ルートデコレータの特殊な構文を使用して、これらのタイプのURLをサポートしています。　  \n",
    "次の例では、動的名前コンポーネントを持つルートを定義しています。  "
   ]
  },
  {
   "cell_type": "raw",
   "metadata": {},
   "source": [
    "@app.route('/user/<name>') \n",
    "def user(name):\n",
    "    return '<h1>Hello,%s!</h1>' % name"
   ]
  },
  {
   "cell_type": "markdown",
   "metadata": {},
   "source": [
    "山括弧で囲まれた部分は動的部分です。  \n",
    "したがって、静的部分に一致するURLはすべてこのルートにマッピングされます。   \n",
    "view関数が呼び出されると、Flaskは動的コンポーネントを引数として送信します。  \n",
    "\n",
    "以前の例のview関数では、この引数はレスポンスとしてパーソナライズされた挨拶を生成するために使用されます。\n",
    "\n",
    "ルート内の動的コンポーネントは、デフォルトでは文字列ですが、型で定義することもできます。  \n",
    "たとえば、route/user/<int：id>は、ID動的セグメントの整数を持つURLにのみ一致します。   \n",
    "Flaskは、ルートを作る時にint型、float型、およびパスの型をサポートしています。  \n",
    "パスの種類は文字列も表しますが、スラッシュは区切り文字と見なさず、代わりに動的コンポーネントの一部と見なします。"
   ]
  },
  {
   "cell_type": "markdown",
   "metadata": {},
   "source": [
    "### Server Startup(サーバーを起動させる)  \n",
    "アプリケーションインスタンスには、Flaskの統合開発Webサーバーを起動するrunメソッドがあります。"
   ]
  },
  {
   "cell_type": "raw",
   "metadata": {},
   "source": [
    "if __name__ == '__main__':\n",
    "    app.run(debug = True)"
   ]
  },
  {
   "cell_type": "markdown",
   "metadata": {},
   "source": [
    "__name__ == '__main__'  （Pythonイディオムと言うそうです）  \n",
    "開発Webサーバーがスクリプトが直接実行されたときにのみ起動されるようにするためにここで使用されます。   \n",
    "スクリプトが別のスクリプトによってインポートされると、親スクリプトが別のサーバーを起動するとみなされるため、app.run（）呼び出しはスキップされます。　　  \n",
    "サーバーが起動すると、要求を待機してサービスを提供するループに入ります。\n",
    "\n",
    "このループは、アプリケーションが停止するまで、たとえばCtrl+Cを\n",
    "押すことによって継続されます。 \n",
    "\n",
    "Webサーバーの動作モードを設定するためにapp.run（）に渡すことができるオプション引数がいくつかあります。\n",
    "開発時には、デバッガとリロード機能を有効にするデバッグモードを有効にすると便利です。\n",
    "これは、引数debug setをTrueに渡すことによって行われます。"
   ]
  },
  {
   "cell_type": "markdown",
   "metadata": {},
   "source": [
    "## A Complete Application アプリケーションの完成"
   ]
  },
  {
   "cell_type": "raw",
   "metadata": {},
   "source": [
    "$ git clone https://github.com/miguelgrinberg/flasky\n",
    "$ git checkout 2b\n",
    "$ python hello.py\n",
    "\n",
    "# 戻す場合 今回はhello.py\n",
    "git checkout HEAD hello.py \n",
    "もしくは\n",
    "pycharm下のでメニューバーから「version control」>「local changes」>「Revert」\n",
    "\n",
    "# 2bにする\n",
    "$git checkout 2b"
   ]
  },
  {
   "cell_type": "markdown",
   "metadata": {},
   "source": [
    "動的ルートをテストするには、サーバーが実行されていることを確認し、\n",
    "http：//localhost：5000/user/Daveに移動します。  \n",
    "アプリケーションは、名前の動的引数を使用して生成されたカスタマイズされた挨拶で応答します。  \n",
    "別の名前を試して、与えられた名前に基づいてビュー関数が常にレスポンスを生成する方法を確認してください。"
   ]
  },
  {
   "cell_type": "code",
   "execution_count": 12,
   "metadata": {},
   "outputs": [],
   "source": [
    "from flask import Flask\n",
    "app = Flask(__name__)\n",
    "\n",
    "\n",
    "@app.route('/')\n",
    "def index():\n",
    "    return '<h1>Hello World!</h1>'\n",
    "\n",
    "\n",
    "@app.route('/user/<name>')\n",
    "def user(name):\n",
    "    return '<h1>Hello, {}!</h1>'.format(name)"
   ]
  },
  {
   "cell_type": "markdown",
   "metadata": {},
   "source": [
    "### The Request-Response Cycle リクエスト/レスポンスサイクル"
   ]
  },
  {
   "cell_type": "markdown",
   "metadata": {},
   "source": [
    "## Application and Request Contexts\n",
    "Flaskがクライアントから要求を受け取ったとき、それを処理するビュー関数がいくつかのオブジェクトを利用できるようにする必要があります。  \n",
    "良い例は、クライアントが送信したHTTPリクエストをカプセル化するrequestオブジェクトです。 \n",
    "Flaskが要求オブジェクトへのビュー関数アクセスを与える明白な方法は、それを引数として送信することですが、"
   ]
  },
  {
   "cell_type": "markdown",
   "metadata": {},
   "source": [
    "アプリケーションのすべての単一ビュー機能に余分な引数が必要です。\n",
    "リクエストオブジェクトが、ビューを満たすためにアクセスする必要がある唯一のオブジェクトではないと考えると、状況はさらに複雑になります。\n",
    "多くの引数を必要とするかもしれないし、そうでないかもしれないビュー関数が乱雑にならないように、Flaskはコンテキストを使って特定のオブジェクトを一時的にグローバルにアクセス可能にします。\n",
    "コンテキストのおかげで、次のようなビュー関数を書くことができます："
   ]
  },
  {
   "cell_type": "code",
   "execution_count": 20,
   "metadata": {},
   "outputs": [
    {
     "name": "stdout",
     "output_type": "stream",
     "text": [
      "Collecting request\n",
      "  Downloading https://files.pythonhosted.org/packages/b8/13/b88a65f14470f3e17d72a1a930f173b36717c211685dbbadfc2e5ba21303/request-1.0.2.tar.gz\n",
      "Collecting get (from request)\n",
      "  Downloading https://files.pythonhosted.org/packages/dc/bd/264e65844b66e2b5fa829f3f6c526056ee14a0508fb6b454e0af4105a21c/get-1.0.3.tar.gz\n",
      "Collecting post (from request)\n",
      "  Downloading https://files.pythonhosted.org/packages/7f/ea/ddf22395dcee7a45b7ab7564a087725cafc778f421268814cd8a5ec9ffdf/post-1.0.2.tar.gz\n",
      "Requirement already satisfied: setuptools in /Users/yobe/homedir/lib/python3.7/site-packages (from request) (39.0.1)\n",
      "Collecting query_string (from get->request)\n",
      "  Downloading https://files.pythonhosted.org/packages/be/2d/719132c49c715743afff3781e04489cd21189914a563b56837f891fd02ac/query_string-1.0.2.tar.gz\n",
      "Collecting public (from query_string->get->request)\n",
      "  Downloading https://files.pythonhosted.org/packages/e8/d6/297dc43e6f84fea8f92ba3fdba0c0028a4ffd122fc05ce96ee6ab0cc59f8/public-1.0.3.tar.gz\n",
      "Installing collected packages: public, query-string, get, post, request\n",
      "  Running setup.py install for public ... \u001b[?25ldone\n",
      "\u001b[?25h  Running setup.py install for query-string ... \u001b[?25ldone\n",
      "\u001b[?25h  Running setup.py install for get ... \u001b[?25ldone\n",
      "\u001b[?25h  Running setup.py install for post ... \u001b[?25ldone\n",
      "\u001b[?25h  Running setup.py install for request ... \u001b[?25ldone\n",
      "\u001b[?25hSuccessfully installed get-1.0.3 post-1.0.2 public-1.0.3 query-string-1.0.2 request-1.0.2\n"
     ]
    }
   ],
   "source": [
    "!pip install request"
   ]
  },
  {
   "cell_type": "code",
   "execution_count": 23,
   "metadata": {},
   "outputs": [
    {
     "name": "stdout",
     "output_type": "stream",
     "text": [
      "Collecting flask_script\n",
      "\u001b[?25l  Downloading https://files.pythonhosted.org/packages/00/a4/cd587b2b19f043b65bf33ceda2f6e4e6cdbd0ce18d01a52b9559781b1da6/Flask-Script-2.0.6.tar.gz (43kB)\n",
      "\u001b[K    100% |████████████████████████████████| 51kB 1.1MB/s \n",
      "\u001b[?25hRequirement already satisfied: Flask in /Users/yobe/homedir/lib/python3.7/site-packages (from flask_script) (1.0.2)\n",
      "Requirement already satisfied: Jinja2>=2.10 in /Users/yobe/homedir/lib/python3.7/site-packages (from Flask->flask_script) (2.10)\n",
      "Requirement already satisfied: Werkzeug>=0.14 in /Users/yobe/homedir/lib/python3.7/site-packages (from Flask->flask_script) (0.14.1)\n",
      "Requirement already satisfied: click>=5.1 in /Users/yobe/homedir/lib/python3.7/site-packages (from Flask->flask_script) (6.7)\n",
      "Requirement already satisfied: itsdangerous>=0.24 in /Users/yobe/homedir/lib/python3.7/site-packages (from Flask->flask_script) (0.24)\n",
      "Requirement already satisfied: MarkupSafe>=0.23 in /Users/yobe/homedir/lib/python3.7/site-packages (from Jinja2>=2.10->Flask->flask_script) (1.0)\n",
      "Installing collected packages: flask-script\n",
      "  Running setup.py install for flask-script ... \u001b[?25ldone\n",
      "\u001b[?25hSuccessfully installed flask-script-2.0.6\n"
     ]
    }
   ],
   "source": [
    "!pip install flask_script"
   ]
  },
  {
   "cell_type": "raw",
   "metadata": {},
   "source": [
    "from flask import request \n",
    "\n",
    "@app.route('/') \n",
    "def index(): \n",
    "    user_agent = request.headers.get(' User-Agent') \n",
    "    return '<p> Your browser is %s </p>' % user_agent\n",
    "    "
   ]
  },
  {
   "cell_type": "raw",
   "metadata": {},
   "source": [
    "このビューでは、関数要求がグローバル変数であるかのように使用されることに注意してください。\n",
    "実際には、マルチスレッド・サーバーでは、スレッドが異なるクライアントからの異なる要求を同時に処理しているため、要求ごとに異なるスレッドを各スレッドが参照する必要があると考えると、\n",
    "要求はグローバル変数にはなりません。コンテキストによって、Flaskはあるスレッドが他のスレッドと干渉することなくグローバルにアクセスできるようにすることができます。"
   ]
  },
  {
   "cell_type": "markdown",
   "metadata": {},
   "source": [
    "### Responses(レスポンス)\n",
    "\n",
    "Flaskはビュー関数を呼び出すときに、その戻り値が要求に対する応答であると想定します。  \n",
    "ほとんどの場合、レスポンスは単純な文字列で、HTMLページとしてクライアントに返されます。  \n",
    "しかし、HTTPプロトコルでは、要求に対する応答として複数の文字列が必要です。 \n",
    "\n",
    "HTTPレスポンスの非常に重要な部分は、ステータスコードです.Flaskは、デフォルトで200に設定されています。\n",
    "これは、リクエストが正常に実行されたことを示すコードです。\n",
    "ビュー関数が異なるステータスコードで応答する必要がある場合、レスポンステキストの後に2番目の戻り値として数値コードを追加できます。\n",
    "たとえば、次のビュー関数は、不適切な要求エラーのコードである400ステータスコードを返します。"
   ]
  },
  {
   "cell_type": "raw",
   "metadata": {},
   "source": [
    "@app.route('/') \n",
    "def index():\n",
    "    return '<h1> Bad Request </h1>', 400"
   ]
  },
  {
   "cell_type": "markdown",
   "metadata": {},
   "source": [
    "#### レスポンスをオブジェクトでデータを返す（クッキーのセット）\n",
    "1つ、2つ、または3つの値をタプルとして返す代わりに、Flaskビュー関数にはResponseオブジェクトを返すオプションがあります。 \n",
    "make_response（）関数は、1つ、2つ、または3つの引数、ビュー関数から返すことができる同じ値をとり、Responseオブジェクトを返します。\n",
    "場合によっては、この変換をビュー関数内で実行し、応答オブジェクトのメソッドを使用して応答をさらに構成すると便利です。\n",
    "次の例では、応答オブジェクトを作成し、その中にクッキーを設定します。"
   ]
  },
  {
   "cell_type": "raw",
   "metadata": {},
   "source": [
    "from flask import make_response\n",
    "@app.route('/') def index(): \n",
    "    response = make_response(' < h1 > This document carries a cookie! </ h1 >') \n",
    "    response.set_cookie('answer', '42') \n",
    "    return response"
   ]
  },
  {
   "cell_type": "markdown",
   "metadata": {},
   "source": [
    "#### リダイレクト\n",
    "リダイレクトは通常、302応答ステータスコードと、Locationヘッダーに指定されたリダイレクト先のURLで示されます。  \n",
    "リダイレクト応答は、3値のリターンを使用して生成することも、Responseオブジェクトを使用して生成することもできますが、頻繁に使用されるため、この応答を作成するredirect（）ヘルパ関数を提供します。"
   ]
  },
  {
   "cell_type": "raw",
   "metadata": {},
   "source": [
    "from flask import redirect \n",
    "\n",
    "@app.route('/') \n",
    "def index(): \n",
    "    return redirect(' http:// www.example.com')"
   ]
  },
  {
   "cell_type": "markdown",
   "metadata": {},
   "source": [
    "#### 404エラー\n",
    "別の特別な応答が、エラー処理に使用されるabort関数とともに発行されます。次の例では、URLに指定されたidの動的引数が有効なユーザーを表していない場合、状態コード404を返します。"
   ]
  },
  {
   "cell_type": "raw",
   "metadata": {},
   "source": [
    "from flask import abort \n",
    "\n",
    "@app.route('/user/<id>') \n",
    "def get_user(id):\n",
    "    user = load_user(id) \n",
    "    if not user:\n",
    "        abort(404) return '< h1 > Hello, %s </ h1 >' % user.name"
   ]
  },
  {
   "cell_type": "markdown",
   "metadata": {},
   "source": [
    "abortは、それを呼び出す関数に制御を戻しませんが、例外を発生させることによってWebサーバーに制御を戻します。"
   ]
  },
  {
   "cell_type": "markdown",
   "metadata": {},
   "source": [
    "Flaskの開発Webサーバーはいくつかの起動設定オプションをサポートしていますが、それらを指定する唯一の方法は、スクリプト内のapp.run（）呼び出しの引数として渡せますがあまり便利ではありません。  \n",
    "構成オプションを渡す理想的な方法は、コマンドライン引数によるものです。\n",
    "\n",
    "Flask-ScriptはFlaskの拡張機能で、Flaskアプリケーションにコマンドラインパーサを追加します"
   ]
  },
  {
   "cell_type": "raw",
   "metadata": {},
   "source": [
    "$ git checkout 2c"
   ]
  },
  {
   "cell_type": "raw",
   "metadata": {},
   "source": [
    "from flask import Flask\n",
    "from flask_script import Manager\n",
    "\n",
    "app = Flask(__name__)\n",
    "\n",
    "manager = Manager(app)\n",
    "\n",
    "\n",
    "@app.route('/')\n",
    "def index():\n",
    "    return '<h1>Hello World!</h1>'\n",
    "\n",
    "\n",
    "@app.route('/user/<name>')\n",
    "def user(name):\n",
    "    return '<h1>Hello, %s!</h1>' % name\n",
    "\n",
    "\n",
    "if __name__ == '__main__':\n",
    "    manager.run()"
   ]
  },
  {
   "cell_type": "raw",
   "metadata": {},
   "source": [
    "シェルコマンドは、アプリケーションのコンテキストでPythonシェルセッションを開始するために使用されます。このセッションを使用して、保守タスクやテストを実行したり、問題をデバッグすることができます。 \n",
    "runserverコマンドは、その名前が示すように、Webサーバーを起動します。 \n",
    "$ python hello.py runserver\n",
    "はWebサーバーをデバッグモードで起動しますが、さらに多くのオプションがあります。"
   ]
  },
  {
   "cell_type": "raw",
   "metadata": {},
   "source": [
    "(test) :flasky yobe$ python hello.py runserver --help\n",
    "usage: hello.py runserver [-?] [-h HOST] [-p PORT] [--threaded]\n",
    "                          [--processes PROCESSES] [--passthrough-errors] [-d]\n",
    "                          [-D] [-r] [-R] [--ssl-crt SSL_CRT]\n",
    "                          [--ssl-key SSL_KEY]\n",
    "\n",
    "Runs the Flask development server i.e. app.run()\n",
    "\n",
    "optional arguments:\n",
    "  -?, --help            show this help message and exit\n",
    "  -h HOST, --host HOST\n",
    "  -p PORT, --port PORT\n",
    "  --threaded\n",
    "  --processes PROCESSES\n",
    "  --passthrough-errors\n",
    "  -d, --debug           enable the Werkzeug debugger (DO NOT use in production\n",
    "                        code)\n",
    "  -D, --no-debug        disable the Werkzeug debugger\n",
    "  -r, --reload          monitor Python files for changes (not 100% safe for\n",
    "                        production use)\n",
    "  -R, --no-reload       do not monitor Python files for changes\n",
    "  --ssl-crt SSL_CRT     Path to ssl certificate\n",
    "  --ssl-key SSL_KEY     Path to ssl key"
   ]
  },
  {
   "cell_type": "code",
   "execution_count": null,
   "metadata": {},
   "outputs": [],
   "source": []
  }
 ],
 "metadata": {
  "kernelspec": {
   "display_name": "Python 3",
   "language": "python",
   "name": "python3"
  },
  "language_info": {
   "codemirror_mode": {
    "name": "ipython",
    "version": 3
   },
   "file_extension": ".py",
   "mimetype": "text/x-python",
   "name": "python",
   "nbconvert_exporter": "python",
   "pygments_lexer": "ipython3",
   "version": "3.7.0"
  }
 },
 "nbformat": 4,
 "nbformat_minor": 2
}
