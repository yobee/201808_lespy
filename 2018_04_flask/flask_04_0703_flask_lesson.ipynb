{
 "cells": [
  {
   "cell_type": "markdown",
   "metadata": {},
   "source": [
    "今回も下記リポジトリーを使用します。\n",
    "https://github.com/miguelgrinberg/flasky"
   ]
  },
  {
   "cell_type": "markdown",
   "metadata": {},
   "source": [
    "## flask-bootstrap について"
   ]
  },
  {
   "cell_type": "raw",
   "metadata": {},
   "source": [
    "git clone https://github.com/miguelgrinberg/flasky"
   ]
  },
  {
   "cell_type": "raw",
   "metadata": {},
   "source": [
    "git checkout 3b"
   ]
  },
  {
   "cell_type": "markdown",
   "metadata": {},
   "source": [
    "もしくは pycharm 機能を使い  \n",
    "画面左下タブ「version control」> 該当のリビジョンを選択>「Checkout Revision」"
   ]
  },
  {
   "cell_type": "markdown",
   "metadata": {},
   "source": [
    "<img src=\"flask11.png\">"
   ]
  },
  {
   "cell_type": "markdown",
   "metadata": {},
   "source": [
    "hello.pyに下記コードを追加"
   ]
  },
  {
   "cell_type": "raw",
   "metadata": {},
   "source": [
    "if __name__ == '__main__':\n",
    "    app.run(debug=True)"
   ]
  },
  {
   "cell_type": "markdown",
   "metadata": {},
   "source": [
    "もしくは　ポート番号が被ると下記エラーが出ますので"
   ]
  },
  {
   "cell_type": "markdown",
   "metadata": {},
   "source": [
    "<img src=\"flask10.png\">"
   ]
  },
  {
   "cell_type": "markdown",
   "metadata": {},
   "source": [
    "ポート番号を指定して回避することもできます"
   ]
  },
  {
   "cell_type": "raw",
   "metadata": {},
   "source": [
    "if __name__ == '__main__':\n",
    "    app.run(host='0.0.0.0', port=5051, debug=False)"
   ]
  },
  {
   "cell_type": "markdown",
   "metadata": {},
   "source": [
    "エラー内容に関してはモジュールのインストール漏れなどもあります。  "
   ]
  },
  {
   "cell_type": "raw",
   "metadata": {},
   "source": [
    "pip install flask  \n",
    "pip install pip install flask_bootstrap  "
   ]
  },
  {
   "cell_type": "markdown",
   "metadata": {},
   "source": [
    "### bootstrapの使い方のついて  \n",
    "個人的には公式サイトのドキュメントをつかいます。  \n",
    "https://getbootstrap.com/  \n",
    "※事前知識をより付けたい方はドットインストールも見てもらうといいと思います。   \n",
    "https://dotinstall.com/lessons/basic_twitter_bootstrap_v5  "
   ]
  },
  {
   "cell_type": "markdown",
   "metadata": {},
   "source": [
    "ドキュメントを参照します。画面上部にDocumentationとありますのでそこを確認します。  \n",
    "https://getbootstrap.com/docs/4.1/layout/overview/  \n",
    "※個人的には画面を翻訳して使っています。プログラムソースコード自体も翻訳されることがあるので注意してください。"
   ]
  },
  {
   "cell_type": "markdown",
   "metadata": {},
   "source": [
    "大きくレイアウト,コンテンツ（タグ）、コンポーネント（jsを使っての動作）、ユーティリティー（細かい設定）\n",
    "自分のやりたいことに合わせて使用します。  \n",
    "また、デザインや動きにこだわる場合は自分で作るのもいいですが有料無料のテーマがあります。  \n",
    "色々と調べてはどうでしょうか。"
   ]
  },
  {
   "cell_type": "code",
   "execution_count": null,
   "metadata": {},
   "outputs": [],
   "source": []
  }
 ],
 "metadata": {
  "kernelspec": {
   "display_name": "Python 3",
   "language": "python",
   "name": "python3"
  },
  "language_info": {
   "codemirror_mode": {
    "name": "ipython",
    "version": 3
   },
   "file_extension": ".py",
   "mimetype": "text/x-python",
   "name": "python",
   "nbconvert_exporter": "python",
   "pygments_lexer": "ipython3",
   "version": "3.7.0"
  }
 },
 "nbformat": 4,
 "nbformat_minor": 2
}
