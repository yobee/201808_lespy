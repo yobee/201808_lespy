{
 "cells": [
  {
   "cell_type": "markdown",
   "metadata": {},
   "source": [
    "### 練習問題"
   ]
  },
  {
   "cell_type": "markdown",
   "metadata": {},
   "source": [
    "1.pycharmでプロジェクトと環境を作ります。"
   ]
  },
  {
   "cell_type": "markdown",
   "metadata": {},
   "source": [
    "<img src=\"flask08.png\">"
   ]
  },
  {
   "cell_type": "markdown",
   "metadata": {},
   "source": [
    "2.teraminalを開きpipのアップグレードをする  \n",
    "$ pip install --upgrade pip\n"
   ]
  },
  {
   "cell_type": "markdown",
   "metadata": {},
   "source": [
    "index.htmlを直下に作ります。"
   ]
  },
  {
   "cell_type": "markdown",
   "metadata": {},
   "source": [
    "--- index.html ---"
   ]
  },
  {
   "cell_type": "raw",
   "metadata": {},
   "source": [
    "<!DOCTYPE html>\n",
    "<html lang=\"en\">\n",
    "<head>\n",
    "    <meta charset=\"UTF-8\">\n",
    "    <meta name=\"viewport\" content=\"width\",user-scalable=\"no\",initial-scale=\"1.0\",maximum-scale=\"1.0\",minimum-scal=\"1.0\">\n",
    "    <meta http-equiv=\"X-UA-Compatible\" content=\"ie=edge\">\n",
    "    <title>乗りログ</title>\n",
    "</head>\n",
    "<body>\n",
    "    <h1>乗りログ</h1>\n",
    "    <form action=\"/save\" method=\"post\">\n",
    "        <table>\n",
    "            <tr>\n",
    "                <td>\n",
    "                    <label for=\"start\">出発</label><br/>\n",
    "                    <input id=\"start\" type=\"text\" name=\"start\" />\n",
    "                </td>\n",
    "                <td>\n",
    "                    <label for=\"finish\">到着</label>\n",
    "                    <input id=\"Finish\" type=\"text\" name=\"finish\" />\n",
    "                </td>\n",
    "                <td>\n",
    "                    <br>\n",
    "                    <button>追加</button>\n",
    "                </td>\n",
    "            </tr>\n",
    "            <tr>\n",
    "                <td colspan=\"3\">\n",
    "                    <label for=\"memo\">メモ</label>\n",
    "                    <textarea id=\"memo\" name=\"memo\"></textarea>\n",
    "                </td>\n",
    "            </tr>\n",
    "            <tr>\n",
    "                <td>出発</td>\n",
    "                <td>到着</td>\n",
    "                <td>日時</td>\n",
    "                <td>メモ</td>\n",
    "            </tr>\n",
    "            <tr>\n",
    "                <td>御嶽山</td>\n",
    "                <td>片瀬江ノ島</td>\n",
    "                <td>2017-10-31</td>\n",
    "                <td>サーフィン</td>\n",
    "            </tr>\n",
    "            <tr>\n",
    "                <td>御嶽山</td>\n",
    "                <td>代々木</td>\n",
    "                <td>2017-10-31</td>\n",
    "                <td>study</td>\n",
    "            </tr>\n",
    "        </table>\n",
    "    </form>\n",
    "\n",
    "</body>\n",
    "</html>"
   ]
  },
  {
   "cell_type": "markdown",
   "metadata": {},
   "source": [
    "登録すると"
   ]
  },
  {
   "cell_type": "markdown",
   "metadata": {},
   "source": [
    "<img src=\"flask09.png\">"
   ]
  },
  {
   "cell_type": "markdown",
   "metadata": {},
   "source": [
    "main.cssを直下に作ります"
   ]
  },
  {
   "cell_type": "raw",
   "metadata": {},
   "source": [
    "body {\n",
    "    width: 500px;\n",
    "    text-alingn: left:\n",
    "    margin-left: auto;\n",
    "    margin-right: auto;\n",
    "}\n",
    "\n",
    "textarea {\n",
    "    width:100%;\n",
    "}\n",
    "\n",
    "table.list {\n",
    "    width:100%\n",
    "}\n",
    "\n",
    "table.list tr:nth-child(even){\n",
    "    background-color: lightgray;\n",
    "}\n",
    "\n",
    "table.list th {\n",
    "    padding: 0.5em;\n",
    "    background-color: darkgray;\n",
    "}\n",
    "\n",
    "table.list td {\n",
    "    padding: 0.5em;\n",
    "    vertical-alingn:top;\n",
    "}"
   ]
  },
  {
   "cell_type": "markdown",
   "metadata": {},
   "source": [
    "index.htmlにcss参照とtableタグにlistを追加します。"
   ]
  },
  {
   "cell_type": "raw",
   "metadata": {},
   "source": [
    "<!DOCTYPE html>\n",
    "<html lang=\"ja\">\n",
    "<head>\n",
    "    <meta charset=\"UTF-8\">\n",
    "    <meta name=\"viewport\" content=\"width\",user-scalable=\"no\",initial-scale=\"1.0\",maximum-scale=\"1.0\",minimum-scal=\"1.0\">\n",
    "    <meta http-equiv=\"X-UA-Compatible\" content=\"ie=edge\">\n",
    "    <link rel=\"stylesheet\" href=\"maain.css\" type=\"text/css\">\n",
    "    <title>乗りログ</title>\n",
    "</head>\n",
    "<body>\n",
    "    <h1>乗りログ</h1>\n",
    "    <form action=\"/save\" method=\"post\"> \n",
    "        <table>\n",
    "             <tr>\n",
    "                    <td>\n",
    "                        <label for=\"start\">出発</label><br/>\n",
    "                        <input id=\"start\" type=\"text\" name=\"start\" />\n",
    "                    </td>\n",
    "                    <td>\n",
    "                        <label for=\"finish\">到着</label>\n",
    "                        <input id=\"Finish\" type=\"text\" name=\"finish\" />\n",
    "                    </td>\n",
    "                    <td>\n",
    "                        <br>\n",
    "                        <button>追加</button>\n",
    "                    </td>\n",
    "                </tr>\n",
    "                <tr>\n",
    "                    <td colspan=\"3\">\n",
    "                        <label for=\"memo\">メモ</label>\n",
    "                        <textarea id=\"memo\" name=\"memo\"></textarea>\n",
    "                    </td>\n",
    "                </tr>\n",
    "            </table>\n",
    "    </from>\n",
    "        <table class=\"list\">    \n",
    "            <tr>\n",
    "                <td>出発</td>\n",
    "                <td>到着</td>\n",
    "                <td>日時</td>\n",
    "                <td>メモ</td>\n",
    "            </tr>\n",
    "            <tr>\n",
    "                <td>御嶽山</td>\n",
    "                <td>片瀬江ノ島</td>\n",
    "                <td>2017-10-31</td>\n",
    "                <td>サーフィン</td>\n",
    "            </tr>\n",
    "            <tr>\n",
    "                <td>御嶽山</td>\n",
    "                <td>代々木</td>\n",
    "                <td>2017-10-31</td>\n",
    "                <td>study</td>\n",
    "            </tr>\n",
    "        </table>\n",
    "\n",
    "</body>\n",
    "</html>"
   ]
  },
  {
   "cell_type": "markdown",
   "metadata": {},
   "source": [
    "### 機能をつける\n",
    "#### 乗車機能を保存する"
   ]
  },
  {
   "cell_type": "markdown",
   "metadata": {},
   "source": [
    "乗降機能を保存す。   \n",
    "JSON形式のデータを使い保存します。  \n",
    "辞書型のようにデータを操作し、保存します。  \n",
    "データを保存するsave_data()関数　を実装した。　　"
   ]
  },
  {
   "cell_type": "markdown",
   "metadata": {},
   "source": [
    "---- norilog.py ----"
   ]
  },
  {
   "cell_type": "raw",
   "metadata": {},
   "source": [
    "import json\n",
    "\n",
    "DATA_FILE = 'norilog.json'\n",
    "\n",
    "def save_data(start,finish,memo,created_at):\n",
    "    \"\"\" 記録データを保存します。\n",
    "    :param start: 乗った駅\n",
    "    :type start str\n",
    "    :param finish: 降りた駅\n",
    "    :type finish str\n",
    "    :param memo: 乗り降りメモ\n",
    "    :type memo: str\n",
    "    :param created_at: datetime.datetime\n",
    "    :return: none\n",
    "    \"\"\"\n",
    "\n",
    "    try:\n",
    "        # jsonモジュールでデータベースファイルを開きます。\n",
    "        database =  json.load(open(DATA_FILE,mode=\"r\",encoding=\"utf-8\"))\n",
    "    except FileNotFoundError:\n",
    "        database =[]\n",
    "\n",
    "    database.insert(0,{\n",
    "        \"start\": start,\n",
    "        \"finish\":finish,\n",
    "        \"memo\": memo,\n",
    "        \"created_at\": created_at.strftime(\"%Y-%m-%d %H:%M\")\n",
    "    })\n",
    "\n",
    "\n",
    "    json.dump(database,open(DATA_FILE,mode=\"w\",encoding=\"utf-8\"),indent=4,ensure_ascii=False)"
   ]
  },
  {
   "cell_type": "code",
   "execution_count": null,
   "metadata": {},
   "outputs": [],
   "source": [
    "python consoleで確認します。"
   ]
  },
  {
   "cell_type": "raw",
   "metadata": {},
   "source": [
    "## 1行ずつ入力します。\n",
    "import datetime\n",
    "from norilog import save_data\n",
    "save_data('新宿','渋谷',\"halloween!\",dateteime,datetime(2017,10,31,10,0,0))\n",
    "exit()"
   ]
  },
  {
   "cell_type": "markdown",
   "metadata": {},
   "source": [
    "jsonデータが作られます。"
   ]
  },
  {
   "cell_type": "markdown",
   "metadata": {},
   "source": [
    "#### 保存して置いたコメントの一覧を取得する  \n",
    "norikog.pyにload_data関数を追加します。"
   ]
  },
  {
   "cell_type": "raw",
   "metadata": {},
   "source": [
    "def load_data():\n",
    "    try:\n",
    "        database = json.load(open(DATA_FILE,mode=\"r\",encoding=\"utf-8\"))\n",
    "        \n",
    "    except:\n",
    "        database =[]\n",
    "    \n",
    "    return database"
   ]
  },
  {
   "cell_type": "code",
   "execution_count": null,
   "metadata": {},
   "outputs": [],
   "source": [
    "python consoleで確認します。"
   ]
  },
  {
   "cell_type": "raw",
   "metadata": {},
   "source": [
    "from norilog import load_data\n",
    "load_data()"
   ]
  },
  {
   "cell_type": "markdown",
   "metadata": {},
   "source": [
    "### テンプレートエンジンJinja２を使う"
   ]
  },
  {
   "cell_type": "markdown",
   "metadata": {},
   "source": [
    "ここからflask機能を使用しています。  \n",
    "flask 入れてない場合はpip install flask  \n",
    "index.htmlを読み込ませるために「templates」と言うフォルダ（ディレクトリ）を作り中に移動させる。  \n",
    "そして、norilog.pyでFlaskを使うように追記してトップページに表示させるようにwebサーバーを行動するコードを追記ます。"
   ]
  },
  {
   "cell_type": "raw",
   "metadata": {},
   "source": [
    "---- norilog.py 1----\n",
    "import json\n",
    "\n",
    "from flask import Flask,render_template\n",
    "application = Flask(__name__)\n",
    "\n",
    "DATA_FILE = 'norilog.json'\n",
    "\n",
    "def save_data(start,finish,memo,created_at):\n",
    "    \"\"\" 記録データを保存します。\n",
    "    :param start: 乗った駅\n",
    "    :type start str\n",
    "    :param finish: 降りた駅\n",
    "    :type finish str\n",
    "    :param memo: 乗り降りメモ\n",
    "    :type memo: str\n",
    "    :param created_at: datetime.datetime\n",
    "    :return: none\n",
    "    \"\"\"\n",
    "\n",
    "    try:\n",
    "        # jsonモジュールでデータベースファイルを開きます。\n",
    "        database =  json.load(open(DATA_FILE,mode=\"r\",encoding=\"utf-8\"))\n",
    "    except FileNotFoundError:\n",
    "        database =[]\n",
    "\n",
    "    database.insert(0,{\n",
    "        \"start\": start,\n",
    "        \"finish\":finish,\n",
    "        \"memo\": memo,\n",
    "        \"created_at\": created_at.strftime(\"%Y-%m-%d %H:%M\")\n",
    "    })\n",
    "\n",
    "\n",
    "    json.dump(database,open(DATA_FILE,mode=\"w\",encoding=\"utf-8\"),indent=4,ensure_ascii=False)\n",
    "\n",
    "\n",
    "def load_data():\n",
    "    try:\n",
    "        database = json.load(open(DATA_FILE,mode=\"r\",encoding=\"utf-8\"))\n",
    "    except:\n",
    "        database =[]\n",
    "\n",
    "    return database\n",
    "\n",
    "@application.route('/')\n",
    "def index():\n",
    "    \"\"\"\n",
    "    テンプレートを表示します\n",
    "    :return:\n",
    "    \"\"\"\n",
    "    return render_template('index.html')\n",
    "\n",
    "if __name__ == '__main__':\n",
    "    application.run('0.0.0.0',8000,debug=True)\n",
    "\n"
   ]
  },
  {
   "cell_type": "markdown",
   "metadata": {},
   "source": [
    " - __name__でモジュール名を指定\n",
    " - トップページURL（’/’）をindex()関数を実行するように設定して  \n",
    " - render_template()関数は指定したファイルをテンプレートとして指定し読み込みます"
   ]
  },
  {
   "cell_type": "markdown",
   "metadata": {},
   "source": [
    "実行します。先ほど作ったindex.htmlが表示されるのを確認します。  \n",
    "$ python norilog.py"
   ]
  },
  {
   "cell_type": "markdown",
   "metadata": {},
   "source": [
    "CSSを読み込ませるため「static」のフォルダを作り、移動させます。"
   ]
  },
  {
   "cell_type": "raw",
   "metadata": {},
   "source": [
    "<link rel=\"stylesheet\" href=\"main.css\" type=\"text/css\">  \n",
    "↓  \n",
    "<link rel=\"stylesheet\" href=\"static/main.css\" type=\"text/css\">"
   ]
  },
  {
   "cell_type": "markdown",
   "metadata": {},
   "source": [
    "更新しCSSが反映されることを確認します。  \n",
    "\n",
    "index()関数でload_data()を呼び出し、取得したデータをテンプレートで使えるようにする"
   ]
  },
  {
   "cell_type": "raw",
   "metadata": {},
   "source": [
    "@application.route('/')\n",
    "def index():\n",
    "    \"\"\"\n",
    "    テンプレートを表示します\n",
    "    :return:\n",
    "    \"\"\"\n",
    "    rides = load_data()\n",
    "\n",
    "    return render_template('index.html',rides=rides)\n",
    "\n",
    "if __name__ == '__main__':\n",
    "    application.run('0.0.0.0',8000,debug=True)"
   ]
  },
  {
   "cell_type": "markdown",
   "metadata": {},
   "source": [
    "読み込んだ「rides」と言う変数をindex.html反映します。"
   ]
  },
  {
   "cell_type": "raw",
   "metadata": {},
   "source": [
    "<table class=\"list\">\n",
    "            <tr>\n",
    "                <td>出発</td>\n",
    "                <td>到着</td>\n",
    "                <td>日時</td>\n",
    "                <td>メモ</td>\n",
    "            </tr>\n",
    "            {% for ride in rides %}\n",
    "            <tr>\n",
    "                <td>{{ ride.start }}</td>\n",
    "                <td>{{ ride.finish }}</td>\n",
    "                <td>{{ ride.created_at }}</td>\n",
    "                <td>{{ ride.memo }}</td>\n",
    "            </tr>\n",
    "            {% endfor %}\n",
    " </table>"
   ]
  },
  {
   "cell_type": "markdown",
   "metadata": {},
   "source": [
    "更新し確認する。  "
   ]
  },
  {
   "cell_type": "markdown",
   "metadata": {},
   "source": [
    "#### 投稿先のURLを用意する"
   ]
  },
  {
   "cell_type": "markdown",
   "metadata": {},
   "source": [
    "inidex.htmlのpost処理の際にactionの値を「/save」にしているので対応させます。"
   ]
  },
  {
   "cell_type": "raw",
   "metadata": {},
   "source": [
    "from flask import Flask, render_template, redirect, request  # redirect,requestを追加\n",
    "from datetime import datetime"
   ]
  },
  {
   "cell_type": "markdown",
   "metadata": {},
   "source": [
    "下に追加  \n",
    "※if __name__ == '__main__': より上に書く"
   ]
  },
  {
   "cell_type": "raw",
   "metadata": {},
   "source": [
    "@application.route('/save',methods=['post'])\n",
    "def save():\n",
    "    \"\"\"記録用URL\"\"\"\n",
    "\n",
    "    start = request.form.get('start')\n",
    "    finish = request.form.get('finish')\n",
    "    memo = request.form.get('memo')\n",
    "    created_at = datetime.now()\n",
    "    save_data(start,finish,memo,created_at)\n",
    "\n",
    "    return redirect('/')"
   ]
  },
  {
   "cell_type": "code",
   "execution_count": null,
   "metadata": {},
   "outputs": [],
   "source": [
    "実行しデータが追加できることを確認する。"
   ]
  },
  {
   "cell_type": "markdown",
   "metadata": {},
   "source": [
    "#### テンプレート出力を調整する"
   ]
  },
  {
   "cell_type": "markdown",
   "metadata": {},
   "source": [
    "簡易方法なのでmemoに２行以上追加されるとエラーが出ますのでその対策をします。  \n",
    "下記コードnorilog.pyに追加"
   ]
  },
  {
   "cell_type": "raw",
   "metadata": {},
   "source": [
    "from flask import Flask, render_template, redirect, request,Markup,escape # Markup,escapeを追加"
   ]
  },
  {
   "cell_type": "raw",
   "metadata": {},
   "source": [
    "@application.template_filter('n12br')\n",
    "def n12br_filter(s):\n",
    "    \"\"\"改行文字を<br>タグに置き換える\"\"\"\n",
    "    return escape(s).replace('¥n',Markup('<br>'))"
   ]
  },
  {
   "cell_type": "raw",
   "metadata": {},
   "source": [
    "----- index.html -----\n",
    "<tr>\n",
    "    <td>{{ ride.start }}</td>\n",
    "    <td>{{ ride.finish }}</td>\n",
    "    <td>{{ ride.created_at }}</td>\n",
    "    <td>{{ ride.memo|n12br }}</td>\n",
    "</tr>"
   ]
  },
  {
   "cell_type": "markdown",
   "metadata": {},
   "source": [
    "確認し終了"
   ]
  },
  {
   "cell_type": "code",
   "execution_count": null,
   "metadata": {},
   "outputs": [],
   "source": []
  }
 ],
 "metadata": {
  "kernelspec": {
   "display_name": "Python 3",
   "language": "python",
   "name": "python3"
  },
  "language_info": {
   "codemirror_mode": {
    "name": "ipython",
    "version": 3
   },
   "file_extension": ".py",
   "mimetype": "text/x-python",
   "name": "python",
   "nbconvert_exporter": "python",
   "pygments_lexer": "ipython3",
   "version": "3.7.0"
  }
 },
 "nbformat": 4,
 "nbformat_minor": 2
}
