{
 "cells": [
  {
   "cell_type": "markdown",
   "metadata": {},
   "source": [
    "## Webアプリケーションを作る\n",
    "### 1.webアプリケーションを仕組み"
   ]
  },
  {
   "cell_type": "markdown",
   "metadata": {},
   "source": [
    "<img src='flask01.png'>"
   ]
  },
  {
   "cell_type": "markdown",
   "metadata": {},
   "source": [
    "簡単な仕組みを説明するとこうなります。  \n",
    "\n",
    "ただし、webサーバーで動的コンテンツを生成している場合は多少複雑になり、\n",
    "\n",
    "そのようなwebアプリケーションを作り上げていきます。"
   ]
  },
  {
   "cell_type": "markdown",
   "metadata": {},
   "source": [
    "### 2.Webアプリケーションとデスクトップアプリケーションの違い"
   ]
  },
  {
   "cell_type": "markdown",
   "metadata": {},
   "source": [
    "<img src='flask02.png'>"
   ]
  },
  {
   "cell_type": "markdown",
   "metadata": {},
   "source": [
    "1.ユーザーがWebブラウザーにURLを入力する。  \n",
    "2.Webブラウザーは入力されたURL中のドメイン名をDNSサーバーに問い合わせ、IPアドレスを取得する。  \n",
    "3.Webブラウザーは取得したIPアドレスのWebサーバーに接続し、HTTPでの通信を開始する。  \n",
    "4.WebサーバーでHTTPで要求された情報に対してWebアプリケーションを実行してコンテンツを得る。  \n",
    "5.WebサーバーはWebアプリケーションの実行で得たHTML、CSS、JavaScript,画像ファイルなどのコンテンツをHTTPの応答として返す。  \n",
    "6.Webブラウザーは受信したコンテンツを画面に表示する。  "
   ]
  },
  {
   "cell_type": "markdown",
   "metadata": {},
   "source": [
    "<img src=\"flask03.png\">"
   ]
  },
  {
   "cell_type": "markdown",
   "metadata": {},
   "source": [
    "### 3.事前準備"
   ]
  },
  {
   "cell_type": "markdown",
   "metadata": {},
   "source": [
    "#### フレームワークをきめる  \n",
    "pythonの有名なフレームワークとしてはDjango（ジャンゴ）とFlask（フラスク）があります。  \n",
    "\n",
    "#### Flask\n",
    "使用するのにWeb開発の最低限の機能構成のフレームワーク。  \n",
    "マイクロフレームワークと言われたりもします。  \n",
    "拡張するように設計されていますの足りない部分を追加する必要があります。\n",
    "意図的に、データベースやユーザー認証などの重要な機能の領域に留まらず、アプリケーションに最適なパッケージを自由に選択したり、必要に応じて独自のパッケージを作成することができます。  \n",
    "コミュニティによって作成されたさまざまな目的のために、さまざまな拡張機能が用意されています。\n",
    "十分でない場合は、標準のPythonパッケージまたはライブラリも使用できます。\n",
    "\n",
    "pintterrest.twillio,LinkedIn\n",
    "\n",
    "#### Django\n",
    "ほとんどの機能を網羅したフレームワーク。  \n",
    "フルスタックフレームワークとも言われます。\n",
    "ユーザー認証まわりの機能が充実しているのでログイン機能が必要なシステムを作りたい場合はDjangoを選ぶと良いでしょう。  \n",
    "Instagram,NASA,Mozilla,日経電子版\n",
    "\n",
    "他にもPyramid、Bottle,Tornado\n",
    "\n",
    "webアプリケーションやバックエンドのAPIシステムに使うのが良いでしょう。  \n",
    "pythonは近年はAI系、機械学習などライブリーが充実しているところから同じpythonでかける二つのフレームワークを理解していきたいと思います。"
   ]
  },
  {
   "cell_type": "markdown",
   "metadata": {},
   "source": [
    "DjangoとFlaskの比較  \n",
    "<img src=\"flask04.png\">"
   ]
  },
  {
   "cell_type": "markdown",
   "metadata": {},
   "source": [
    "基本機能がなくてもモジュールを追加すれば使用はできます。"
   ]
  },
  {
   "cell_type": "markdown",
   "metadata": {},
   "source": []
  },
  {
   "cell_type": "code",
   "execution_count": null,
   "metadata": {},
   "outputs": [],
   "source": []
  }
 ],
 "metadata": {
  "kernelspec": {
   "display_name": "Python 3",
   "language": "python",
   "name": "python3"
  },
  "language_info": {
   "codemirror_mode": {
    "name": "ipython",
    "version": 3
   },
   "file_extension": ".py",
   "mimetype": "text/x-python",
   "name": "python",
   "nbconvert_exporter": "python",
   "pygments_lexer": "ipython3",
   "version": "3.7.0"
  }
 },
 "nbformat": 4,
 "nbformat_minor": 2
}
