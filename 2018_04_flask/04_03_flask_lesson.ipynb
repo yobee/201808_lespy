{
 "cells": [
  {
   "cell_type": "markdown",
   "metadata": {},
   "source": [
    "今回の教材では下記Gitを使います。  \n",
    "https://github.com/miguelgrinberg/flasky"
   ]
  },
  {
   "cell_type": "markdown",
   "metadata": {},
   "source": [
    "メンテナンスが容易なアプリケーションを作成するための鍵は、きれいで構造の整ったコードを書くことです。\n",
    "あなたがこれまで見てきた例はこれを実証するのは簡単すぎますが、Flaskのビュー関数は2つの完全に独立した目的をもっているので、問題が生じます。\n",
    "ビュー関数の明白なタスクは、リクエストに対する応答を生成することです。最も簡単なリクエストではこれで十分ですが、一般的に要求によってアプリケーションの状態が変更されますビュー関数はこの変更が生成される場所でもあります。\n",
    "\n",
    "たとえば、Webサイトに新しいアカウントを登録しているユーザーを考えてみましょう。  \n",
    "ユーザーは電子メールアドレスとパスワードをWebフォームに入力し、[送信]ボタンをクリックします。サーバー上では、ユーザーからのデータを含む要求が到着し、Flaskはそれを登録要求を処理するビュー関数にディスパッチします。  \n",
    "このビュー関数は、データベースに接続して新しいユーザーを追加し、ブラウザに返信するための応答を生成する必要があります。  \n",
    "これらの2つのタイプのタスクは、それぞれビジネスロジックとプレゼンテーションロジックと呼ばれます。\n",
    "\n",
    "ビジネスロジックとプレゼンテーションロジックを混在させると、理解して維持することが難しいコードにつながります。\n",
    "データベースから取得したデータを必要なHTML文字列リテラルに連結して、大きなテーブルのHTMLコードを作成する必要があるとします。\n",
    "プレゼンテーションロジックをテンプレートに移動すると、アプリケーションの保守性が向上します。テンプレートはレスポンスのテキストを含むファイルで、リクエストのコンテキストでのみ認識される動的部分のプレースホルダ変数を持ちます。\n",
    "変数を実際の値に置き換えて最終的な応答文字列を返すプロセスをレンダリングと呼びます。テンプレートをレンダリングするタスクでは、FlaskはJinja2という強力なテンプレートエンジンを使用します。"
   ]
  },
  {
   "cell_type": "markdown",
   "metadata": {},
   "source": [
    "この中にテンプレート入ってます。  \n",
    "$git checkout 3b"
   ]
  },
  {
   "cell_type": "markdown",
   "metadata": {},
   "source": [
    "最も簡単な形式では、Jinja2テンプレートはレスポンスのテキストを含むファイルです。\n",
    "例3-1に、index（）ビュー関数の応答と一致するJinja2テンプレートを示します。"
   ]
  },
  {
   "cell_type": "markdown",
   "metadata": {},
   "source": [
    "### Rendering Templates\n",
    "レンダリングテンプレートデフォルトでは、Flaskはアプリケーションフォルダ内のテンプレートサブフォルダ内のテンプレートを探します。 \n",
    "hello.pyの次のバージョンでは、以前に定義されたテンプレートを新しいテンプレートフォルダにindex.htmlとuser.htmlとして保存する必要があります。こ\n",
    "れらのテンプレートをレンダリングするには、アプリケーションのビュー機能を変更する必要があります。"
   ]
  },
  {
   "cell_type": "raw",
   "metadata": {},
   "source": [
    "---- hello.py ----\n",
    "\n",
    "from flask import Flask, render_template\n",
    "from flask_bootstrap import Bootstrap\n",
    "\n",
    "app = Flask(__name__)\n",
    "\n",
    "bootstrap = Bootstrap(app)\n",
    "\n",
    "\n",
    "@app.route('/')\n",
    "def index():\n",
    "    return render_template('index.html')\n",
    "\n",
    "\n",
    "@app.route('/user/<name>')\n",
    "def user(name):\n",
    "    return render_template('user.html', name=name)"
   ]
  },
  {
   "cell_type": "raw",
   "metadata": {},
   "source": [
    "---- user.html -------\n",
    "<div class=\"page-header\">\n",
    "    <h1>Hello, {{ name }}!</h1>\n",
    "</div>"
   ]
  },
  {
   "cell_type": "markdown",
   "metadata": {},
   "source": [
    "Flaskが提供する関数render_templateは、Jinja2テンプレートエンジンとアプリケーションを統合します。  \n",
    "この関数は、テンプレートのファイル名を最初の引数として取ります。  \n",
    "追加の引数は、テンプレートで参照される変数の実際の値を表すkey/valueのペアです。  \n",
    "この例では、2番目のテンプレートがname変数を受け取ります。  \n",
    "前の例のname = nameのようなキーワードの引数はかなり一般的ですが、使い慣れていないと分かりにくく、理解しにくいように見えます。  \n",
    "左側の「name」は、テンプレートに書かれたプレースホルダーで使用される引数名を表します。  \n",
    "右側の「name」は、同じnameの引数の値を提供する現在のスコープ内の変数です。"
   ]
  },
  {
   "cell_type": "markdown",
   "metadata": {},
   "source": [
    "テンプレートで使用されている{{name}}構文は、変数、テンプレートエンジンに、テンプレートがレンダリングされたときに提供されたデータからその値を取得する必要があることを伝える特別なプレースホルダです。  \n",
    "Jinja2は、リスト、辞書、オブジェクトなどの複雑な型であっても、あらゆる型の変数を認識します。以下に、テンプレートで使用される変数の例をいくつか示します。"
   ]
  },
  {
   "cell_type": "raw",
   "metadata": {},
   "source": [
    "----- .html ----\n",
    "<p> A value from a dictionary: {{mydict['key']}}. </p> \n",
    "<p> A value from a list: {{mylist[3]}}. </p> \n",
    "<p> A value from a list, with a variable index: {{mylist[myintvar]}}. </p> \n",
    "<p> A value from an object's method: {{myobj.somemethod()}}. </p>"
   ]
  },
  {
   "cell_type": "markdown",
   "metadata": {},
   "source": [
    "変数はフィルターで変更することができます。このフィルターは、区切り文字としてパイプ文字を持つ変数名の後に追加されます。  \n",
    "たとえば、次のテンプレートは、name変数の大文字化を示しています。"
   ]
  },
  {
   "cell_type": "raw",
   "metadata": {},
   "source": [
    "----- .html ----\n",
    "Hello, {{name|capitalize}}"
   ]
  },
  {
   "cell_type": "raw",
   "metadata": {},
   "source": [
    "| safe       ------  エスケープを適用せずに値をレンダリングします。 | Renders the value without applying escaping |  \n",
    "| capitalize ------  値の最初の文字を大文字に変換し、残りを小文字に変換します。 | Converts the first character of the value to uppercase and the rest to lowercase |  \n",
    "| lower      ------  小文字 | Converts the value to lowercase characters |  \n",
    "| upper      ------  大文字 | Converts the value to uppercase characters |  \n",
    "| title      ------  値の各単語を大文字にする | Capitalizes each word in the value |  \n",
    "| trim       ------  値の先頭と末尾の空白を削除します | Removes leading and trailing whitespace from the value |   \n",
    "| striptags  ------  レンダリング前に値からHTMLタグをすべて削除します | Removes any HTML tags from the value before rendering |"
   ]
  },
  {
   "cell_type": "markdown",
   "metadata": {},
   "source": [
    "### Control Structures (構文制御)  \n",
    "条件文をテンプレートに入力する示しています。"
   ]
  },
  {
   "cell_type": "markdown",
   "metadata": {},
   "source": [
    "### if文"
   ]
  },
  {
   "cell_type": "raw",
   "metadata": {},
   "source": [
    "{% if user %} \n",
    "    Hello, {{ user }}! \n",
    "{% else %} \n",
    "    Hello, Stranger! \n",
    "{% endif %}"
   ]
  },
  {
   "cell_type": "markdown",
   "metadata": {},
   "source": [
    "### for文"
   ]
  },
  {
   "cell_type": "raw",
   "metadata": {},
   "source": [
    "<ul> \n",
    "    {% for comment in comments %} \n",
    "        <li>{{ comment }} </li> \n",
    "    {% endfor %} \n",
    "</ ul >"
   ]
  },
  {
   "cell_type": "markdown",
   "metadata": {},
   "source": [
    "Jinja2は、Pythonコードの関数に似たマクロもサポートしています。例えば："
   ]
  },
  {
   "cell_type": "raw",
   "metadata": {},
   "source": [
    "{% macro render_comment( comment) %} \n",
    "    <li>{{ comment }} </li> \n",
    "{% endmacro %} \n",
    "<ul> \n",
    "    {% for comment in comments %} \n",
    "        {{ render_comment( comment) }} \n",
    "    {% endfor %} \n",
    "</ul>"
   ]
  },
  {
   "cell_type": "markdown",
   "metadata": {},
   "source": [
    "マクロをより再利用できるようにするには、スタンドアロンのファイルに保存し、必要なすべてのテンプレートからインポートすることができます。"
   ]
  },
  {
   "cell_type": "raw",
   "metadata": {},
   "source": [
    "{% import 'macros.html' as macros %} \n",
    "<ul> \n",
    "    {% for comment in comments %} \n",
    "        {{ macros.render_comment( comment) }} \n",
    "    {% endfor %} \n",
    "</ul>"
   ]
  },
  {
   "cell_type": "markdown",
   "metadata": {},
   "source": [
    "いくつかの場所で繰り返さなければならないテンプレートコードの部分は、繰り返しを避けるために、別々のファイルに保存してすべてのテンプレートに含めることができます。"
   ]
  },
  {
   "cell_type": "raw",
   "metadata": {},
   "source": [
    "{% include 'common.html' %}"
   ]
  },
  {
   "cell_type": "markdown",
   "metadata": {},
   "source": [
    "再利用のためのもう1つの強力な方法は、Pythonコードのクラス継承に似たテンプレートの継承です。まず、ベーステンプレートがbase.htmlという名前で作成されます。"
   ]
  },
  {
   "cell_type": "raw",
   "metadata": {},
   "source": [
    "<html> \n",
    "    <head> \n",
    "        {% block head %} \n",
    "        <title>{% block title %}{% endblock %} - My Application </title> \n",
    "        {% endblock %} \n",
    "    </head> \n",
    "    <body> \n",
    "        {% block body %} {% endblock %} \n",
    "    </body> \n",
    "</html>"
   ]
  },
  {
   "cell_type": "markdown",
   "metadata": {},
   "source": [
    "ここで、blockタグは、派生テンプレートが変更できる要素を定義します。  \n",
    "この例では、head、title、bodyというブロックがあります。  \n",
    "タイトルは頭に含まれていることに注意してください。"
   ]
  },
  {
   "cell_type": "markdown",
   "metadata": {},
   "source": [
    "基本テンプレートの派生テンプレートです。"
   ]
  },
  {
   "cell_type": "raw",
   "metadata": {},
   "source": [
    "{% extends \"base.html\" %} \n",
    "{% block title %} Index{% endblock %} \n",
    "{% block head %} \n",
    "    {{ super() }} \n",
    "    < style > \n",
    "    </ style > \n",
    "{% endblock %} \n",
    "{% block body %} \n",
    "< h1 > Hello, World! </ h1 > \n",
    "{% endblock %}"
   ]
  },
  {
   "cell_type": "markdown",
   "metadata": {},
   "source": [
    "extendsディレクティブは、このテンプレートがbase.htmlから継承宣言します。  \n",
    "このディレクティブの後には、基本テンプレートで定義された3つのブロックの新しい定義が、適切な場所に挿入されます。  \n",
    "ヘッドブロックの新しい定義は、基本テンプレートで空ではなく、元の内容を保持するためにsuper（）を使用することに注意してください。 \n",
    "このセクションで提示されているすべての制御構造の実際の使用法は後で表示されるので、それらがどのように機能するかを見る機会があります。"
   ]
  },
  {
   "cell_type": "code",
   "execution_count": null,
   "metadata": {},
   "outputs": [],
   "source": [
    "Twitter Bootstrap Integration with Flask-Bootstrap（twitter bootstrapと統合）"
   ]
  },
  {
   "cell_type": "raw",
   "metadata": {},
   "source": [
    "Bootstrapは、最新のすべてのWebブラウザと互換性のあるきれいで魅力的なWebページを作成するためのユーザーインターフェイスコンポーネントを提供する、Twitterのオープンソースフレームワークです。  \n",
    "ブートストラップはクライアント側のフレームワークなので、サーバは直接それに関与しません。  \n",
    "サーバーが必要とするのは、ブートストラップのカスケーディングスタイルシート（CSS）とJavaScriptファイルを参照するHTML応答を提供し、HTML、CSS、およびJavaScriptコードを通じて目的のコンポーネントをインスタンス化することです。  \n",
    "これを行うには理想的な場所はテンプレートです。\n",
    "ブートストラップをアプリケーションに統合する明白な方法は、テンプレートに必要な変更をすべて加えることです。より簡単なアプローチは、Flask-Bootstrapと呼ばれるFlask拡張を使用して統合作業を単純化することです。\n",
    "Flask-Bootstrapはpipでインストールできます："
   ]
  },
  {
   "cell_type": "markdown",
   "metadata": {},
   "source": [
    "### 初期設定"
   ]
  },
  {
   "cell_type": "raw",
   "metadata": {},
   "source": [
    "from flask.ext.bootstrap import Bootstrap\n",
    "bootstrap = Bootstrap( app)"
   ]
  },
  {
   "cell_type": "markdown",
   "metadata": {},
   "source": [
    "Flask-Scriptと同様に、Flask-Bootstrapはflask.ext名前空間からインポートされ、コンストラクタでアプリケーションインスタンスを渡すことで初期化されます。  \n",
    "Flask-Bootstrapが初期化されると、すべてのブートストラップファイルを含む基本テンプレートがアプリケーションで使用可能になります。  \n",
    "このテンプレートはJinja2のテンプレート継承を利用しています。  \n",
    "アプリケーションは、ブートストラップをインポートする要素を含むページの一般的な構造を有する基本テンプレートを拡張する。派生テンプレートとしての新しいバージョンのuser.htmlを示します。  "
   ]
  },
  {
   "cell_type": "markdown",
   "metadata": {},
   "source": [
    "<img src='flask06.png'>"
   ]
  },
  {
   "cell_type": "markdown",
   "metadata": {},
   "source": [
    "### Custom Error Pages(エラーページの作成)"
   ]
  },
  {
   "cell_type": "markdown",
   "metadata": {},
   "source": [
    "ブラウザのアドレスバーに無効なルートを入力すると、コード404のエラーページが表示されます。\n",
    "エラーページはあまりにも単純で魅力的ではなく、ブートストラップを使用するページとの一貫性はありません。\n",
    "flaskは、アプリケーションが通常のルートのようなテンプレートに基づくカスタムエラーページを定義することを可能にします。 \n",
    "\n",
    "2つの最も一般的なエラーコードは、クライアントが未知のページまたはルートを要求したときにトリガされる404と、未処理の例外があるときにトリガされる500です。\n",
    "\n",
    "例3-6に、これらの2つのエラーに対するカスタムハンドラの指定方法を示します。"
   ]
  },
  {
   "cell_type": "raw",
   "metadata": {},
   "source": [
    "@app.errorhandler(404) \n",
    "def page_not_found(e): \n",
    "    return render_template(' 404. html'), 404 \n",
    "\n",
    "@app.errorhandler(500) \n",
    "def internal_server_error(e): \n",
    "    return render_template(' 500. html'), 500"
   ]
  },
  {
   "cell_type": "markdown",
   "metadata": {},
   "source": [
    "エラーハンドラは、ビュー関数のような応答を返します。  \n",
    "また、エラーに対応する数値ステータスコードも返されます。  \n",
    "エラーハンドラで参照されるテンプレートを記述する必要があります。  \n",
    "これらのテンプレートは、通常のページと同じレイアウトにする必要があります。  \n",
    "この場合、ナビゲーションバーとエラーメッセージを示すページヘッダーが表示されます。これらのテンプレートを書く簡単な方法は、Jinja2のテンプレート継承,cssはbootstrapを使用することです。"
   ]
  },
  {
   "cell_type": "raw",
   "metadata": {},
   "source": [
    "{% extends \"base.html\" %} \n",
    "\n",
    "{% block title %} Flasky - Page Not Found{% endblock %} \n",
    "\n",
    "{% block page_content %} \n",
    "<div class =\"page-header\"> \n",
    "    <h1> Not Found </h1> \n",
    "</div> {% endblock %}"
   ]
  },
  {
   "cell_type": "markdown",
   "metadata": {},
   "source": [
    "<img src=\"flask07.png\">"
   ]
  },
  {
   "cell_type": "markdown",
   "metadata": {},
   "source": [
    "templates/user.htmlテンプレートは、図に示すように、基本テンプレートから継承させることで簡略化されます。"
   ]
  },
  {
   "cell_type": "code",
   "execution_count": 29,
   "metadata": {},
   "outputs": [],
   "source": [
    "### Links"
   ]
  },
  {
   "cell_type": "code",
   "execution_count": 30,
   "metadata": {},
   "outputs": [],
   "source": [
    "### Static Files"
   ]
  },
  {
   "cell_type": "code",
   "execution_count": null,
   "metadata": {},
   "outputs": [],
   "source": [
    "### Localization of Dates and Times with Flask-Moment"
   ]
  }
 ],
 "metadata": {
  "kernelspec": {
   "display_name": "Python 3",
   "language": "python",
   "name": "python3"
  },
  "language_info": {
   "codemirror_mode": {
    "name": "ipython",
    "version": 3
   },
   "file_extension": ".py",
   "mimetype": "text/x-python",
   "name": "python",
   "nbconvert_exporter": "python",
   "pygments_lexer": "ipython3",
   "version": "3.7.0"
  }
 },
 "nbformat": 4,
 "nbformat_minor": 2
}
