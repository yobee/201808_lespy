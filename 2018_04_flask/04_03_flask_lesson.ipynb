{
 "cells": [
  {
   "cell_type": "markdown",
   "metadata": {},
   "source": [
    "今回の教材では下記Gitを使います。  \n",
    "https://github.com/miguelgrinberg/flasky"
   ]
  },
  {
   "cell_type": "markdown",
   "metadata": {},
   "source": [
    "メンテナンスが容易なアプリケーションを作成するための鍵は、きれいで構造の整ったコードを書くことです。\n",
    "あなたがこれまで見てきた例はこれを実証するのは簡単すぎますが、Flaskのビュー関数は2つの完全に独立した目的をもっているので、問題が生じます。\n",
    "ビュー関数の明白なタスクは、リクエストに対する応答を生成することです。最も簡単なリクエストではこれで十分ですが、一般的に要求によってアプリケーションの状態が変更されますビュー関数はこの変更が生成される場所でもあります。\n",
    "\n",
    "たとえば、Webサイトに新しいアカウントを登録しているユーザーを考えてみましょう。  \n",
    "ユーザーは電子メールアドレスとパスワードをWebフォームに入力し、[送信]ボタンをクリックします。サーバー上では、ユーザーからのデータを含む要求が到着し、Flaskはそれを登録要求を処理するビュー関数にディスパッチします。  \n",
    "このビュー関数は、データベースに接続して新しいユーザーを追加し、ブラウザに返信するための応答を生成する必要があります。  \n",
    "これらの2つのタイプのタスクは、それぞれビジネスロジックとプレゼンテーションロジックと呼ばれます。\n",
    "\n",
    "ビジネスロジックとプレゼンテーションロジックを混在させると、理解して維持することが難しいコードにつながります。\n",
    "データベースから取得したデータを必要なHTML文字列リテラルに連結して、大きなテーブルのHTMLコードを作成する必要があるとします。\n",
    "プレゼンテーションロジックをテンプレートに移動すると、アプリケーションの保守性が向上します。テンプレートはレスポンスのテキストを含むファイルで、リクエストのコンテキストでのみ認識される動的部分のプレースホルダ変数を持ちます。\n",
    "変数を実際の値に置き換えて最終的な応答文字列を返すプロセスをレンダリングと呼びます。テンプレートをレンダリングするタスクでは、FlaskはJinja2という強力なテンプレートエンジンを使用します。"
   ]
  },
  {
   "cell_type": "markdown",
   "metadata": {},
   "source": [
    "この中にテンプレート入ってます。  \n",
    "$git checkout 3b"
   ]
  },
  {
   "cell_type": "markdown",
   "metadata": {},
   "source": [
    "最も簡単な形式では、Jinja2テンプレートはレスポンスのテキストを含むファイルです。\n",
    "例3-1に、index（）ビュー関数の応答と一致するJinja2テンプレートを示します。"
   ]
  },
  {
   "cell_type": "markdown",
   "metadata": {},
   "source": [
    "### Rendering Templates\n",
    "レンダリングテンプレートデフォルトでは、Flaskはアプリケーションフォルダ内のテンプレートサブフォルダ内のテンプレートを探します。 \n",
    "hello.pyの次のバージョンでは、以前に定義されたテンプレートを新しいテンプレートフォルダにindex.htmlとuser.htmlとして保存する必要があります。こ\n",
    "れらのテンプレートをレンダリングするには、アプリケーションのビュー機能を変更する必要があります。"
   ]
  },
  {
   "cell_type": "raw",
   "metadata": {},
   "source": [
    "---- hello.py ----\n",
    "\n",
    "from flask import Flask, render_template\n",
    "from flask_bootstrap import Bootstrap\n",
    "\n",
    "app = Flask(__name__)\n",
    "\n",
    "bootstrap = Bootstrap(app)\n",
    "\n",
    "\n",
    "@app.route('/')\n",
    "def index():\n",
    "    return render_template('index.html')\n",
    "\n",
    "\n",
    "@app.route('/user/<name>')\n",
    "def user(name):\n",
    "    return render_template('user.html', name=name)"
   ]
  },
  {
   "cell_type": "raw",
   "metadata": {},
   "source": [
    "---- user.html -------\n",
    "<div class=\"page-header\">\n",
    "    <h1>Hello, {{ name }}!</h1>\n",
    "</div>"
   ]
  },
  {
   "cell_type": "markdown",
   "metadata": {},
   "source": [
    "Flaskが提供する関数render_templateは、Jinja2テンプレートエンジンとアプリケーションを統合します。  \n",
    "この関数は、テンプレートのファイル名を最初の引数として取ります。  \n",
    "追加の引数は、テンプレートで参照される変数の実際の値を表すkey/valueのペアです。  \n",
    "この例では、2番目のテンプレートがname変数を受け取ります。  \n",
    "前の例のname = nameのようなキーワードの引数はかなり一般的ですが、使い慣れていないと分かりにくく、理解しにくいように見えます。  \n",
    "左側の「name」は、テンプレートに書かれたプレースホルダーで使用される引数名を表します。  \n",
    "右側の「name」は、同じnameの引数の値を提供する現在のスコープ内の変数です。"
   ]
  },
  {
   "cell_type": "markdown",
   "metadata": {},
   "source": [
    "テンプレートで使用されている{{name}}構文は、変数、テンプレートエンジンに、テンプレートがレンダリングされたときに提供されたデータからその値を取得する必要があることを伝える特別なプレースホルダです。  \n",
    "Jinja2は、リスト、辞書、オブジェクトなどの複雑な型であっても、あらゆる型の変数を認識します。以下に、テンプレートで使用される変数の例をいくつか示します。"
   ]
  },
  {
   "cell_type": "raw",
   "metadata": {},
   "source": [
    "----- .html ----\n",
    "<p> A value from a dictionary: {{mydict['key']}}. </p> \n",
    "<p> A value from a list: {{mylist[3]}}. </p> \n",
    "<p> A value from a list, with a variable index: {{mylist[myintvar]}}. </p> \n",
    "<p> A value from an object's method: {{myobj.somemethod()}}. </p>"
   ]
  },
  {
   "cell_type": "markdown",
   "metadata": {},
   "source": [
    "変数はフィルターで変更することができます。このフィルターは、区切り文字としてパイプ文字を持つ変数名の後に追加されます。  \n",
    "たとえば、次のテンプレートは、name変数の大文字化を示しています。"
   ]
  },
  {
   "cell_type": "raw",
   "metadata": {},
   "source": [
    "----- .html ----\n",
    "Hello, {{name|capitalize}}"
   ]
  },
  {
   "cell_type": "raw",
   "metadata": {},
   "source": [
    "| safe       ------  エスケープを適用せずに値をレンダリングします。 | Renders the value without applying escaping |  \n",
    "| capitalize ------  値の最初の文字を大文字に変換し、残りを小文字に変換します。 | Converts the first character of the value to uppercase and the rest to lowercase |  \n",
    "| lower      ------  小文字 | Converts the value to lowercase characters |  \n",
    "| upper      ------  大文字 | Converts the value to uppercase characters |  \n",
    "| title      ------  値の各単語を大文字にする | Capitalizes each word in the value |  \n",
    "| trim       ------  値の先頭と末尾の空白を削除します | Removes leading and trailing whitespace from the value |   \n",
    "| striptags  ------  レンダリング前に値からHTMLタグをすべて削除します | Removes any HTML tags from the value before rendering |"
   ]
  },
  {
   "cell_type": "markdown",
   "metadata": {},
   "source": [
    "### Control Structures (構文制御)  \n",
    "条件文をテンプレートに入力する示しています。"
   ]
  },
  {
   "cell_type": "markdown",
   "metadata": {},
   "source": [
    "### if文"
   ]
  },
  {
   "cell_type": "raw",
   "metadata": {},
   "source": [
    "{% if user %} \n",
    "    Hello, {{ user }}! \n",
    "{% else %} \n",
    "    Hello, Stranger! \n",
    "{% endif %}"
   ]
  },
  {
   "cell_type": "markdown",
   "metadata": {},
   "source": [
    "### for文"
   ]
  },
  {
   "cell_type": "raw",
   "metadata": {},
   "source": [
    "<ul> \n",
    "    {% for comment in comments %} \n",
    "        <li>{{ comment }} </li> \n",
    "    {% endfor %} \n",
    "</ ul >"
   ]
  },
  {
   "cell_type": "markdown",
   "metadata": {},
   "source": [
    "Jinja2は、Pythonコードの関数に似たマクロもサポートしています。例えば："
   ]
  },
  {
   "cell_type": "raw",
   "metadata": {},
   "source": [
    "{% macro render_comment( comment) %} \n",
    "    <li>{{ comment }} </li> \n",
    "{% endmacro %} \n",
    "<ul> \n",
    "    {% for comment in comments %} \n",
    "        {{ render_comment( comment) }} \n",
    "    {% endfor %} \n",
    "</ul>"
   ]
  },
  {
   "cell_type": "markdown",
   "metadata": {},
   "source": [
    "マクロをより再利用できるようにするには、スタンドアロンのファイルに保存し、必要なすべてのテンプレートからインポートすることができます。"
   ]
  },
  {
   "cell_type": "raw",
   "metadata": {},
   "source": [
    "{% import 'macros.html' as macros %} \n",
    "<ul> \n",
    "    {% for comment in comments %} \n",
    "        {{ macros.render_comment( comment) }} \n",
    "    {% endfor %} \n",
    "</ul>"
   ]
  },
  {
   "cell_type": "markdown",
   "metadata": {},
   "source": [
    "いくつかの場所で繰り返さなければならないテンプレートコードの部分は、繰り返しを避けるために、別々のファイルに保存してすべてのテンプレートに含めることができます。"
   ]
  },
  {
   "cell_type": "raw",
   "metadata": {},
   "source": [
    "{% include 'common.html' %}"
   ]
  },
  {
   "cell_type": "markdown",
   "metadata": {},
   "source": [
    "再利用のためのもう1つの強力な方法は、Pythonコードのクラス継承に似たテンプレートの継承です。まず、ベーステンプレートがbase.htmlという名前で作成されます。"
   ]
  },
  {
   "cell_type": "raw",
   "metadata": {},
   "source": [
    "<html> \n",
    "    <head> \n",
    "        {% block head %} \n",
    "        <title>{% block title %}{% endblock %} - My Application </title> \n",
    "        {% endblock %} \n",
    "    </head> \n",
    "    <body> \n",
    "        {% block body %} {% endblock %} \n",
    "    </body> \n",
    "</html>"
   ]
  },
  {
   "cell_type": "markdown",
   "metadata": {},
   "source": [
    "ここで、blockタグは、派生テンプレートが変更できる要素を定義します。  \n",
    "この例では、head、title、bodyというブロックがあります。  \n",
    "タイトルは頭に含まれていることに注意してください。"
   ]
  },
  {
   "cell_type": "markdown",
   "metadata": {},
   "source": [
    "基本テンプレートの派生テンプレートです。"
   ]
  },
  {
   "cell_type": "raw",
   "metadata": {},
   "source": [
    "{% extends \"base.html\" %} \n",
    "{% block title %} Index{% endblock %} \n",
    "{% block head %} \n",
    "    {{ super() }} \n",
    "    < style > \n",
    "    </ style > \n",
    "{% endblock %} \n",
    "{% block body %} \n",
    "< h1 > Hello, World! </ h1 > \n",
    "{% endblock %}"
   ]
  },
  {
   "cell_type": "markdown",
   "metadata": {},
   "source": [
    "extendsディレクティブは、このテンプレートがbase.htmlから継承宣言します。  \n",
    "このディレクティブの後には、基本テンプレートで定義された3つのブロックの新しい定義が、適切な場所に挿入されます。  \n",
    "ヘッドブロックの新しい定義は、基本テンプレートで空ではなく、元の内容を保持するためにsuper（）を使用することに注意してください。 \n",
    "このセクションで提示されているすべての制御構造の実際の使用法は後で表示されるので、それらがどのように機能するかを見る機会があります。"
   ]
  },
  {
   "cell_type": "code",
   "execution_count": null,
   "metadata": {},
   "outputs": [],
   "source": [
    "Twitter Bootstrap Integration with Flask-Bootstrap（twitter bootstrapと統合）"
   ]
  },
  {
   "cell_type": "raw",
   "metadata": {},
   "source": [
    "Bootstrapは、最新のすべてのWebブラウザと互換性のあるきれいで魅力的なWebページを作成するためのユーザーインターフェイスコンポーネントを提供する、Twitterのオープンソースフレームワークです。  \n",
    "ブートストラップはクライアント側のフレームワークなので、サーバは直接それに関与しません。  \n",
    "サーバーが必要とするのは、ブートストラップのカスケーディングスタイルシート（CSS）とJavaScriptファイルを参照するHTML応答を提供し、HTML、CSS、およびJavaScriptコードを通じて目的のコンポーネントをインスタンス化することです。  \n",
    "これを行うには理想的な場所はテンプレートです。\n",
    "ブートストラップをアプリケーションに統合する明白な方法は、テンプレートに必要な変更をすべて加えることです。より簡単なアプローチは、Flask-Bootstrapと呼ばれるFlask拡張を使用して統合作業を単純化することです。\n",
    "Flask-Bootstrapはpipでインストールできます："
   ]
  },
  {
   "cell_type": "markdown",
   "metadata": {},
   "source": [
    "### 初期設定"
   ]
  },
  {
   "cell_type": "raw",
   "metadata": {},
   "source": [
    "from flask.ext.bootstrap import Bootstrap\n",
    "bootstrap = Bootstrap( app)"
   ]
  },
  {
   "cell_type": "markdown",
   "metadata": {},
   "source": [
    "Flask-Scriptと同様に、Flask-Bootstrapはflask.ext名前空間からインポートされ、コンストラクタでアプリケーションインスタンスを渡すことで初期化されます。  \n",
    "Flask-Bootstrapが初期化されると、すべてのブートストラップファイルを含む基本テンプレートがアプリケーションで使用可能になります。  \n",
    "このテンプレートはJinja2のテンプレート継承を利用しています。  \n",
    "アプリケーションは、ブートストラップをインポートする要素を含むページの一般的な構造を有する基本テンプレートを拡張する。派生テンプレートとしての新しいバージョンのuser.htmlを示します。  "
   ]
  },
  {
   "cell_type": "markdown",
   "metadata": {},
   "source": [
    "<img src='flask06.png'>"
   ]
  },
  {
   "cell_type": "markdown",
   "metadata": {},
   "source": [
    "### Custom Error Pages(エラーページの作成)"
   ]
  },
  {
   "cell_type": "markdown",
   "metadata": {},
   "source": [
    "ブラウザのアドレスバーに無効なルートを入力すると、コード404のエラーページが表示されます。\n",
    "エラーページはあまりにも単純で魅力的ではなく、ブートストラップを使用するページとの一貫性はありません。\n",
    "flaskは、アプリケーションが通常のルートのようなテンプレートに基づくカスタムエラーページを定義することを可能にします。 \n",
    "\n",
    "2つの最も一般的なエラーコードは、クライアントが未知のページまたはルートを要求したときにトリガされる404と、未処理の例外があるときにトリガされる500です。\n",
    "\n",
    "例3-6に、これらの2つのエラーに対するカスタムハンドラの指定方法を示します。"
   ]
  },
  {
   "cell_type": "raw",
   "metadata": {},
   "source": [
    "@app.errorhandler(404) \n",
    "def page_not_found(e): \n",
    "    return render_template(' 404. html'), 404 \n",
    "\n",
    "@app.errorhandler(500) \n",
    "def internal_server_error(e): \n",
    "    return render_template(' 500. html'), 500"
   ]
  },
  {
   "cell_type": "markdown",
   "metadata": {},
   "source": [
    "エラーハンドラは、ビュー関数のような応答を返します。  \n",
    "また、エラーに対応する数値ステータスコードも返されます。  \n",
    "エラーハンドラで参照されるテンプレートを記述する必要があります。  \n",
    "これらのテンプレートは、通常のページと同じレイアウトにする必要があります。  \n",
    "この場合、ナビゲーションバーとエラーメッセージを示すページヘッダーが表示されます。これらのテンプレートを書く簡単な方法は、Jinja2のテンプレート継承,cssはbootstrapを使用することです。"
   ]
  },
  {
   "cell_type": "raw",
   "metadata": {},
   "source": [
    "{% extends \"base.html\" %} \n",
    "\n",
    "{% block title %} Flasky - Page Not Found{% endblock %} \n",
    "\n",
    "{% block page_content %} \n",
    "<div class =\"page-header\"> \n",
    "    <h1> Not Found </h1> \n",
    "</div> {% endblock %}"
   ]
  },
  {
   "cell_type": "markdown",
   "metadata": {},
   "source": [
    "<img src=\"flask07.png\">"
   ]
  },
  {
   "cell_type": "markdown",
   "metadata": {},
   "source": [
    "templates/user.htmlテンプレートは、図に示すように、基本テンプレートから継承させることで簡略化されます。"
   ]
  },
  {
   "cell_type": "markdown",
   "metadata": {},
   "source": [
    "### Links\n",
    "\n",
    "複数のルートを持つアプリケーションでは、必ず、ナビゲーションバーなどの異なるページをリンクするリンクを含める必要があります。  \n",
    "テンプレートに直接リンクとしてURLを書き込むのは単純なルートでは簡単ですが、可変部分を持つ動的ルートではテンプレート内にURLを構築するのがより複雑になります。  \n",
    "また、明示的に記述されたURLは、コードで定義されたルートに望ましくない依存関係を作成します。ルートが再編成されると、テンプレート内のリンクが壊れることがあります。  \n",
    "これらの問題を回避するため、Flaskにはurl_for（）ヘルパー関数が用意されています。この関数は、アプリケーションのURLマップに格納されている情報からURLを生成します。  \n",
    "最も単純な使い方では、この関数はview関数名（またはapp.add_url_route（）で定義されたルートのエンドポイント名）を単一の引数として取り、そのURLを返します。  \n",
    "たとえば、現在のバージョンのhello.pyでは、url_for（'index'）コールは/を返します。 url_for（'index'、_external = True）を呼び出すと絶対URLが返されます。  \n",
    "動的部分をキーワード引数として渡すことで、url_for（）で動的URLを生成することができます。  \n",
    "たとえば、url_for（'user'、name='john'、_external = True）はhttp：//localhost：5000/user/johnを返します。 \n",
    "url_for（）に送信されるキーワード引数は、動的ルートによって使用される引数に限定されません。  \n",
    "この関数は、余分な引数をクエリ文字列に追加します。\n",
    "たとえば、url_for（'index'、page=2）は/？を返します。ページ= 2。"
   ]
  },
  {
   "cell_type": "markdown",
   "metadata": {},
   "source": [
    "### Static Files\n",
    "Webアプリケーションは、Pythonコードとテンプレートだけでは作成されません。\n",
    "ほとんどのアプリケーションでは、HTMLコードから参照される画像、JavaScriptソースファイル、CSSなどの静的ファイルも使用されます。\n",
    "第2章でhello.pyアプリケーションのURLマップが検査されたときに静的なエントリが現れたことを思い出してください。  \n",
    "これは、静的ファイルへの参照が/static/<filename>として定義された特別なルートとして扱われるためです。  \n",
    "たとえば、url_for（'static'、filename = 'css/styles.css'、_external = True）を呼び出すと、http：//localhost：5000/static/css/styles.cssが返されます。\n",
    "デフォルト設定では、Flaskはアプリケーションのルートフォルダにある静的サブディレクトリ内の静的ファイルを探します。必要に応じて、このフォルダ内のサブディレクトリにファイルを編成できます。\n",
    "サーバーは前の例のURLを受け取ると、静的/css/styles.cssにあるファイルシステム内のファイルの内容を含む応答を生成します。\n",
    "例3-10に、ブラウザがアドレスバーに表示するための基本テンプレートにfavicon.icoアイコンを含める方法を示します。例3-10。 templates/base.html：faviconの定義"
   ]
  },
  {
   "cell_type": "raw",
   "metadata": {},
   "source": [
    "{% block head %}\n",
    "{{ super() }} \n",
    "<link rel =\" shortcut icon\" href =\"{{ url_for(' static', filename = 'favicon.ico') }}\" \n",
    "    type =\" image/ x-icon\" > \n",
    "<link rel =\" icon\" href =\"{{ url_for(' static', filename = 'favicon.ico') }}\" \n",
    "    type =\" image/ x-icon\" > \n",
    "{% endblock %}"
   ]
  },
  {
   "cell_type": "markdown",
   "metadata": {},
   "source": [
    "### Localization of Dates and Times with Flask-Moment（時間設定）\n",
    "ユーザーが世界のさまざまな地域で働いているときに、Webアプリケーションでの日付と時刻の処理は簡単な問題ではありません。  \n",
    "サーバーには、各ユーザーの場所に依存しない統一された時間単位が必要です。したがって、通常、協定世界時（UTC）が使用されます。  \n",
    "ただし、ユーザーにとっては、ユーザーが現地時間で表示された日付と時刻を常に参照し、その地域の現地の慣習に従ってフォーマットされていることを期待しているため、UTCで表された時刻の表示は混乱する可能性があります。  \n",
    "サーバーがUTCで排他的に動作することを可能にする洗練されたソリューションは、これらの時間単位をWebブラウザに送信することです。  \n",
    "この時間単位は、ローカル時間に変換されてレンダリングされます。 Webブラウザは、ユーザーのコンピュータでタイムゾーンとロケールの設定にアクセスできるため、このタスクではるかに優れた仕事をすることができます。   \n",
    "JavaScriptで記述された優れたクライアントサイドのオープンソースライブラリがあり、ブラウザにはmoment.jsと呼ばれる日付と時刻が表示されます。   \n",
    "Flask-Momentは、moment.jsをJinja2テンプレートに統合するFlaskアプリケーションの拡張です。\n",
    "Flask-Momentはpipインストールします："
   ]
  },
  {
   "cell_type": "raw",
   "metadata": {},
   "source": [
    "----- hello.py -----  \n",
    "from flask.ext.moment import   \n",
    "Moment moment = Moment( app)  "
   ]
  },
  {
   "cell_type": "raw",
   "metadata": {},
   "source": [
    "----- templates/ base.html: -----\n",
    "{% block scripts %} \n",
    "{{ super() }} \n",
    "{{ moment.include_moment() }} \n",
    "{% endblock %}"
   ]
  },
  {
   "cell_type": "markdown",
   "metadata": {},
   "source": [
    "Flask-Momentは、moment.jsに加えてjquery.jsに依存します。これらの2つのライブラリは、HTMLドキュメントのどこかに含まれている必要があります。  \n",
    "その場合は、使用するバージョンを選択するか、拡張機能によって提供されるヘルパー機能を使用して選択できます。 CDN）。    \n",
    "Bootstrapにはすでにjquery.jsが含まれているため、この場合はmoment.jsだけを追加する必要があります。  \n",
    "このライブラリが基本テンプレートのスクリプトにどのようにロードされるかを示します。"
   ]
  },
  {
   "cell_type": "raw",
   "metadata": {},
   "source": [
    "----- hello.py -----\n",
    "from datetime import datetime \n",
    "\n",
    "@app.route('/') \n",
    "def index(): \n",
    "    return render_template(' index.html', current_time = datetime.utcnow())"
   ]
  },
  {
   "cell_type": "raw",
   "metadata": {},
   "source": [
    "----- index.html ----\n",
    "<p> The local date and time is {{ moment(current_time). format('LLL') }}. </p> \n",
    "<p> That was {{ moment(current_time).fromNow(refresh = True) }} </p>"
   ]
  },
  {
   "cell_type": "markdown",
   "metadata": {},
   "source": [
    "format（'LLL'）形式は、クライアントコンピュータのタイムゾーンおよびロケール設定に従って日付と時刻を表示します。  \n",
    "引き数は、さまざまな冗長レベルに対して、 'L'から 'LLLL'にレンダリングスタイルを決定します。  \n",
    "format（）関数はカスタム書式指定子を受け入れることもできます。 2行目に表示されているfromNow（）レンダリングスタイルは、相対的なタイムスタンプをレンダリングし、時間の経過とともに自動的にリフレッシュします。  \n",
    "最初はこのタイムスタンプは「数秒前」と表示されますが、リフレッシュオプションでは時間の経過とともに更新されますので、ページを数分間開いたままにすると、テキストが「1分前」に変わります次に \"2分前\"などとなります。"
   ]
  },
  {
   "cell_type": "code",
   "execution_count": null,
   "metadata": {},
   "outputs": [],
   "source": []
  }
 ],
 "metadata": {
  "kernelspec": {
   "display_name": "Python 3",
   "language": "python",
   "name": "python3"
  },
  "language_info": {
   "codemirror_mode": {
    "name": "ipython",
    "version": 3
   },
   "file_extension": ".py",
   "mimetype": "text/x-python",
   "name": "python",
   "nbconvert_exporter": "python",
   "pygments_lexer": "ipython3",
   "version": "3.7.0"
  }
 },
 "nbformat": 4,
 "nbformat_minor": 2
}
