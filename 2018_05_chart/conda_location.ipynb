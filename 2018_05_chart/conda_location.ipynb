{
 "cells": [
  {
   "cell_type": "markdown",
   "metadata": {},
   "source": [
    "## condaによる環境作成\n",
    "\n",
    "\n",
    "- condaのアップデート\n",
    "\n",
    "```\n",
    "conda update conda\n",
    "```\n",
    "\n",
    "- 仮想環境の作成(python versionを指定)\n",
    "\n",
    "```\n",
    "conda create -n env-x python=3.5\n",
    "```\n",
    "\n",
    "- 仮想環境の作成(yamlファイルの読み込み)\n",
    "\n",
    "```\n",
    "conda env create -f env1.yaml \n",
    "```\n",
    "\n",
    "- 作成した仮想環境一覧の表示\n",
    "\n",
    "```\n",
    "conda info -e\n",
    "```\n",
    "\n",
    "\n",
    "- 作成した仮想環境に切り替える\n",
    "\n",
    "```\n",
    "source activate env1\n",
    "```\n",
    "\n",
    "- 現在の仮想環境から出る\n",
    "\n",
    "```\n",
    "source deacrivate\n",
    "```\n",
    "\n",
    "- 仮想環境の削除\n",
    "\n",
    "```\n",
    "conda remove -n env1\n",
    "conda remove —-all\n",
    "```\n",
    "\n",
    "- 現在の仮想環境の設定ファイルを書き出す\n",
    "\n",
    "```\n",
    "conda env export > env1.yaml\n",
    "```\n",
    "\n",
    "- 現在の仮想環境のパッケージを確認\n",
    "\n",
    "```\n",
    "conda list\n",
    "```"
   ]
  },
  {
   "cell_type": "code",
   "execution_count": null,
   "metadata": {},
   "outputs": [],
   "source": []
  }
 ],
 "metadata": {
  "kernelspec": {
   "display_name": "Python 3",
   "language": "python",
   "name": "python3"
  },
  "language_info": {
   "codemirror_mode": {
    "name": "ipython",
    "version": 3
   },
   "file_extension": ".py",
   "mimetype": "text/x-python",
   "name": "python",
   "nbconvert_exporter": "python",
   "pygments_lexer": "ipython3",
   "version": "3.7.0"
  }
 },
 "nbformat": 4,
 "nbformat_minor": 2
}
