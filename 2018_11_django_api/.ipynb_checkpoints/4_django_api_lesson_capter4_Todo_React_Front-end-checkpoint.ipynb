{
 "cells": [
  {
   "cell_type": "markdown",
   "metadata": {},
   "source": [
    "他のプログラムと通信するためのAPIが存在します。この章では、最後の章からReactフロントエンドを介してTodo APIを使います。実際にすべてが実際にどのように連携して機能するのかを見ることができます。\n",
    "\n",
    "現在最も人気のあるJavaScriptフロントエンドライブラリであるので、私はReactを使用することにしましたが、ここで説明されているテクニックはVue、Angular、Emberを含む他の一般的なフロントエンドフレームワークでも動作します。 iOSやAndroid用のモバイルアプリ、デスクトップアプリ、その他のものでも動作します。バックエンドAPIへの接続プロセスは非常に似ています。\n",
    "\n",
    "あなたが動けなくなったり、Reactで実際に起こっていることについてもっと知りたいのならば、非常に良い公式チュートリアルをチェックしてください。\n",
    "\n",
    "# Install Node(ノードのインストール)\n",
    "\n",
    "フロントエンドとしてReactアプリを設定することから始めます。最初に新しいコマンドラインコンソールを開くと、2つのコンソールが開きます。これは重要。ローカルサーバーで実行するには、前回の章から既存のTodoバックエンドが必要です。そして2番目のコンソールを使用してReactフロントエンドを作成してから別のローカルポートで実行します。これが、専用の展開されたフロントエンド/バックエンドのプロダクション設定がどのようになるかをローカルに模倣する方法です。\n",
    "\n",
    "新しい2番目のコマンドラインコンソールで、JavaScriptランタイムエンジンであるNodeJSをインストールします。 Webブラウザの外部でJavaScriptを実行することができます。\n",
    "\n",
    "Macコンピュータでは、Homebrewを使用できます。これは、Django for Beginnersの指示に従ってローカルコンピュータを設定した場合は、すでにインストールされているはずです。\n",
    "\n",
    "Command Line   \n",
    "$ brew install node\n",
    "\n",
    "Windowsコンピュータでは複数の方法がありますが、一般的な方法はnvm-windowsを使用することです。そのリポジトリには詳細な最新のインストール手順が含まれています。\n",
    "\n",
    "Linuxを使用している場合は、nvmを使用してください。これを書いている時点では、どちらのcURLを使ってもコマンドを実行できます。\n",
    "\n",
    "Command Line   \n",
    "$ curl -o- https://raw.githubusercontent.com/creationix/nvm/v0.33.11/\\  \n",
    "install.sh| bash  "
   ]
  },
  {
   "cell_type": "markdown",
   "metadata": {},
   "source": [
    "またはWgetを使う\n",
    "\n",
    "Command Line \n",
    "$ wget -qO- https://raw.githubusercontent.com/creationix/nvm/v0.33.11/\\\n",
    "install.sh | bash\n",
    " \n",
    "\n",
    "次に実行します。\n",
    "\n",
    "Command Line \n",
    "$ command -v nvm\n",
    " \n",
    "現在のコマンドラインコンソールを閉じてからもう一度開き、インストールを完了します。\n",
    "\n",
    "# Install React\n",
    "\n",
    "npmはJavaScriptのパッケージマネージャです。 Python用のpipenvと同様に、複数のソフトウェアパッケージの管理とインストールをはるかに簡単にします。デフォルトでは、npmはすべてをローカルにインストールするので、異なるプロジェクト間で衝突する危険性はなく、したがってPythonのように仮想環境は必要ありません。\n",
    "\n",
    "私たちはすぐに新しいReactプロジェクトを始めるために優れたcreate-react-appパッケージを使います。これでプロジェクトの定型文が生成され、必要な依存関係が1つのコマンドでインストールされます。\n",
    "\n",
    "また、create-react-appは複数のReactアプリの作成に使用される可能性が高いので、-gフラグを付けてグローバルにインストールします。 -gフラグを使用しなかった場合は、新しいReactプロジェクトごとにcreate-react-appをインストールする必要があります。\n",
    "\n",
    "Command Line   \n",
    "$ npm install -g create-react-app\n",
    " \n",
    "デスクトップ（Macの場合）、次にtodoフォルダに移動して、正しいディレクトリにいることを確認します。\n",
    "\n"
   ]
  },
  {
   "cell_type": "raw",
   "metadata": {},
   "source": [
    "Command Line   \n",
    "$ cd ~/Desktop  \n",
    "$ cd todo  "
   ]
  },
  {
   "cell_type": "markdown",
   "metadata": {},
   "source": [
    "フロントエンドという新しいReactアプリを作成します。"
   ]
  },
  {
   "cell_type": "raw",
   "metadata": {},
   "source": [
    "Command Line \n",
    "$ create-react-app frontend"
   ]
  },
  {
   "cell_type": "markdown",
   "metadata": {},
   "source": [
    "ディレクトリ構造は次のようになります。\n",
    "\n",
    "図\n",
    "\n",
    "フロントエンドプロジェクトに変更して、npm startコマンドでReactアプリを実行します。"
   ]
  },
  {
   "cell_type": "raw",
   "metadata": {},
   "source": [
    "Command Line \n",
    "$ cd frontend\n",
    "$ npm start"
   ]
  },
  {
   "cell_type": "markdown",
   "metadata": {},
   "source": [
    "http：// localhost：3000 /にアクセスすると、create-react-appデフォルトのホームページが表示されます。\n",
    "\n",
    "図：Reactウェルカムページ\n",
    "\n",
    "# Mock data(モックデータ)\n",
    "\n",
    "APIエンドポイントに戻ると、生のJSONがブラウザの次の場所に表示されます。\n",
    "\n",
    "http://127.0.0.1:8000/api/?format=json \n",
    "\n",
    "コード\n",
    " \n",
    "これは、GET要求がAPIエンドポイントに発行されるたびに返されます。最終的にはAPIを直接使用しますが、最初にデータをモックしてからAPI呼び出しを構成するのが良い最初のステップです。\n",
    "\n",
    "Reactアプリで更新する必要がある唯一のファイルはsrc / App.jsです。まずはlistという名前の変数にAPIデータをモックアップすることから始めましょう。これは実際には3つの値を持つ配列です。\n",
    "\n",
    "コード"
   ]
  },
  {
   "cell_type": "markdown",
   "metadata": {},
   "source": [
    "次に、リストをコンポーネントの状態にロードしてから、JavaScriptの配列メソッドmap（）を使用してすべての項目を表示します。\n",
    "\n",
    "私はここで故意に動いています、そしてあなたが今までにReactを使ったことがないのであれば、ReactフロントエンドをDjangoバックエンドにつなげるためにどのように働くかがわかるようにコードをコピーしてください。\n",
    "\n",
    "これがsrc / App.jsファイルに含めるための完全なコードです。\n",
    "コード"
   ]
  },
  {
   "cell_type": "markdown",
   "metadata": {},
   "source": [
    "リストをAppコンポーネントの状態にロードした後、マップを使用してリスト内の各項目をループ処理し、それぞれのタイトルと本文を表示します。また、React固有の要件であるキーとしてIDを追加しました。 idはDjangoによって自動的にすべてのデータベースフィールドに追加されます。\n",
    "\n",
    "あなたは今私達の仕事がhttp：// localhost：3000 /のホームページに載っているのを見るべきです。ページを更新する必要はありません。\n",
    "\n",
    "図：ダミーデータ\n",
    "\n",
    "注意：Reactを使って作業をしていると、npm startの実行中にsh：react-scripts：コマンドが見つからないというエラーメッセージが表示されることがあります。心配しないでください。これは、JavaScript開発では非常に一般的な問題です。修正方法は、通常、npm installを実行してから、npm startを再試行することです。それでもうまくいかない場合は、node_modulesフォルダを削除してnpm installを実行します。それは問題の99％を解決します。現代のJavaScript開発へようこそ:)。\n",
    "\n",
    "# Django REST Framework + React\n",
    "\n",
    "それでは、list変数のモックデータを使用する代わりに、実際にTodo APIにフックしましょう。もう1つのコマンドラインコンソールでは、Djangoサーバーが実行されており、すべての仕事をリストしているAPIエンドポイントはhttp:// 127.0.0.1:8000/api/にあります。そのため、GETリクエストを発行する必要があります。\n",
    "\n",
    "HTTPリクエストを行うには、2つの一般的な方法があります。組み込みのFetch APIを使う方法とaxiosを使う方法です。この例では、アキシオスを使用します。コマンドラインで実行中のReactアプリをControl cで停止します。それからaxiosを取付けなさい。\n"
   ]
  },
  {
   "cell_type": "raw",
   "metadata": {},
   "source": [
    "Command Line \n",
    "$ npm install axios "
   ]
  },
  {
   "cell_type": "markdown",
   "metadata": {},
   "source": [
    "以前は、開発者はnpmコマンドに--saveフラグを追加していました"
   ]
  },
  {
   "cell_type": "markdown",
   "metadata": {},
   "source": [
    "依存関係をpackage.jsonファイルに保存します。 その結果、上記のコマンドはnpm install axios --saveと書かれていることがよくあります。 ただし、最新バージョンのnpmではデフォルトで–saveが使用されるため、 -  saveフラグを明示的に追加する必要はなくなりました。\n",
    "\n",
    "npm startを使用してReactアプリをもう一度起動します。"
   ]
  },
  {
   "cell_type": "raw",
   "metadata": {},
   "source": [
    "Command Line \n",
    "$ npm start "
   ]
  },
  {
   "cell_type": "markdown",
   "metadata": {},
   "source": [
    "\n",
    "次に、App.jsファイルの一番上にあるテキストエディタでAxiosをインポートします。\n",
    "\n",
    "コード\n",
    "\n",
    "残りのステップは2つあります。 まず、GETリクエストにはaxiosを使用します。 この目的のために専用のgetTodos関数を作ることができます。\n",
    "\n",
    "次に、このAPI呼び出しがReactライフサイクルの正しい時間に発行されるようにします。 HTTPリクエストはcomponentDidMountを使って行われるべきです\n",
    "\n",
    "そこでgetTodosを呼び出します。 モックリストは不要になったので削除することもできます。 完全なApp.jsファイルは次のようになります。\n",
    "\n",
    "コード"
   ]
  },
  {
   "cell_type": "markdown",
   "metadata": {},
   "source": [
    "http：// localhost：3000をもう一度見れば、ハードコーディングされたデータがなくてもページは同じです。それはすべて私たちのAPIエンドポイントから来ていて、今すぐリクエストします。 APIデータそしてそれが、Reactを使ったやり方です。\n",
    "\n",
    "# Conclusion(結論)\n",
    "\n",
    "これでDjangoバックエンドAPIをReactフロントエンドに接続しました。さらに良いことには、将来的にはフロントエンドを更新するか、プロジェクトの要件が変化したときに完全に交換するかを選択できます。\n",
    "\n",
    "これが、APIファーストアプローチを採用することがあなたのウェブサイトを「未来に耐える」ための素晴らしい方法である理由です。もう少し手間がかかるかもしれませんが、はるかに柔軟性があります。後の章では、POST（新しい仕事の追加）、PUT（既存の仕事の更新）、DELETE（仕事の削除）など、複数のHTTP動詞をサポートするようにAPIを強化します。\n",
    "\n",
    "次の章では、完全なCRUD（Create-Read-Update-Delete）機能をサポートする堅牢なブログAPIの構築を開始し、後でユーザー認証を追加してユーザーがログイン、ログアウト、およびサインアップできるようにします。私たちのAPI"
   ]
  },
  {
   "cell_type": "code",
   "execution_count": null,
   "metadata": {},
   "outputs": [],
   "source": []
  }
 ],
 "metadata": {
  "kernelspec": {
   "display_name": "Python 3",
   "language": "python",
   "name": "python3"
  },
  "language_info": {
   "codemirror_mode": {
    "name": "ipython",
    "version": 3
   },
   "file_extension": ".py",
   "mimetype": "text/x-python",
   "name": "python",
   "nbconvert_exporter": "python",
   "pygments_lexer": "ipython3",
   "version": "3.7.0"
  }
 },
 "nbformat": 4,
 "nbformat_minor": 2
}
