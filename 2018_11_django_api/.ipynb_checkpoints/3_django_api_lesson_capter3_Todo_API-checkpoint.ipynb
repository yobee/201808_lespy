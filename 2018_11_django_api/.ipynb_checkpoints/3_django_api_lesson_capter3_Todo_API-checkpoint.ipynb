{
 "cells": [
  {
   "cell_type": "markdown",
   "metadata": {},
   "source": [
    "次の2つの章では、Todo APIバックエンドを構築し、それをReactフロントエンドに接続します。   \n",
    "最初のAPIを作成し、HTTPとRESTがどのように抽象的に機能するのかを確認しましたが、それでもまだ完全に一致しているかどうかは「まったく」わかりません。   \n",
    "これら二つの章の終わりまでにあなたはそうするでしょう。\n",
    "\n",
    "専用のバックエンドとフロントエンドを作成しているので、コードを同じような構造に分割します。   \n",
    "既存のcodeディレクトリ内に、バックエンドのDjango PythonコードとフロントエンドのReact JavaScriptコードを含むtodoディレクトリを作成します。\n",
    "\n",
    "最終的なレイアウトはこのようになります。"
   ]
  },
  {
   "cell_type": "markdown",
   "metadata": {},
   "source": [
    "この章ではバックエンドと4章のフロントエンドに焦点を当てます。\n",
    "\n",
    "# Initial Set Up(初期設定)\n",
    "\n",
    "Django APIの最初のステップは、常にDjangoをインストールし、後でその上にDjango RESTフレームワークを追加することです。 まずデスクトップのコードディレクトリ内に専用のtodoディレクトリを作成します。\n",
    "\n",
    "新しいコマンドラインコンソールを開き、次のコマンドを入力します。"
   ]
  },
  {
   "cell_type": "raw",
   "metadata": {},
   "source": [
    "Command Line   \n",
    "$ cd ~/Desktop\n",
    "$ cd code\n",
    "$ mkdir todo"
   ]
  },
  {
   "cell_type": "markdown",
   "metadata": {},
   "source": [
    "注：前の章で仮想環境を無効にしたことを確認してください。   \n",
    "これを行うには、exitと入力します。   \n",
    "コマンドラインの前に括弧がもうありませんか。 良い。   \n",
    "その後、あなたは既存の仮想環境にいません。\n",
    "\n",
    "このtodoフォルダ内には、バックエンドディレクトリとフロントエンドディレクトリがあります。   \n",
    "バックエンドフォルダを作成し、Djangoをインストールして、新しい仮想環境を有効にしましょう。"
   ]
  },
  {
   "cell_type": "raw",
   "metadata": {},
   "source": [
    "Command Line   \n",
    "$ mkdir backend && cd backend  \n",
    "$ pipenv install django==2.1  \n",
    "$ pipenv shell  "
   ]
  },
  {
   "cell_type": "markdown",
   "metadata": {},
   "source": [
    "コマンドラインにかっこが表示され、仮想環境（バックエンド）が有効になっていることを確認できます。\n",
    "\n",
    "Djangoがインストールされたので、まずは伝統的なDjangoプロジェクトtodo_projectを作成し、その中に最初のapp todosを追加し、そして最初のデータベースを移行します。"
   ]
  },
  {
   "cell_type": "raw",
   "metadata": {},
   "source": [
    "Command Line \n",
    "(backend) $ django-admin startproject todo_project .\n",
    "(backend) $ python manage.py startapp todos\n",
    "(backend) $ python manage.py migrate"
   ]
  },
  {
   "cell_type": "markdown",
   "metadata": {},
   "source": [
    "Djangoでは常にINSTALLED_APPS設定に新しいアプリを追加する必要があるので、今すぐ追加します。 テキストエディタでtodo_project / settings.pyを開きます。 ファイルの下部にtodos.apps.TodosConfigを追加します。\n",
    "\n",
    "CODE"
   ]
  },
  {
   "cell_type": "markdown",
   "metadata": {},
   "source": [
    "コマンドラインでpython manage.py runserverを実行してhttp: //127.0.0.1:8000/に移動すると、プロジェクトが正常にインストールされたことがわかります。\n",
    "\n",
    "図：Djangoウェルカムページ\n",
    "\n",
    "準備は整いました。\n",
    "\n",
    "# Models\n",
    "\n",
    "次に、Todosアプリ内でTodoデータベースモデルを定義します。 基本的なことはしておきますが、titleとbodyの2つのフィールドしかありません。\n",
    "\n",
    "#### CODE"
   ]
  },
  {
   "cell_type": "markdown",
   "metadata": {},
   "source": [
    "一番上にモデルをインポートしてからサブクラス化して、独自のTodoモデルを作成します。  \n",
    "また、将来の各モデルインスタンスに人間が読める名前を付けるための__str__メソッドも追加します。\n",
    "\n",
    "モデルを更新したので、新しい移行ファイルを作成し、そのたびにデータベースを変更内容と同期させるという、Djangoの2段階のダンスの時間です。コマンドラインでControl + cと入力してローカルサーバーを停止します。  \n",
    "その後、これら2つのコマンドを実行します。"
   ]
  },
  {
   "cell_type": "raw",
   "metadata": {},
   "source": [
    "Command Line \n",
    "(backend) $ python manage.py makemigrations todos\n",
    "(backend) $ python manage.py migrate"
   ]
  },
  {
   "cell_type": "markdown",
   "metadata": {},
   "source": [
    "移行ファイルを作成する特定のアプリを追加することはオプションです。  \n",
    "代わりにpython manage.py makemigrationsと入力することもできますが、採用することをお勧めします。  \n",
    "移行ファイルはアプリケーションをデバッグするための素晴らしい方法であり、小さな変更ごとに移行ファイルを作成するように努力するべきです。   \n",
    "2つの異なるアプリでモデルを更新してからpython manage.py makemigrationsを実行した場合、結果として得られる単一の移行ファイルには両方のアプリのデータが含まれます。  \n",
    "それはデバッグを難しくするだけです。移行をできるだけ少なくするようにしてください。\n",
    "\n",
    "これで、組み込みのDjango管理アプリケーションを使ってデータベースとやり取りすることができます。  \n",
    "すぐに管理者になった場合、Todosアプリは表示されません。次のように、todos / admin.pyファイルで明示的に追加する必要があります。\n",
    "\n",
    "#### CODE"
   ]
  },
  {
   "cell_type": "markdown",
   "metadata": {},
   "source": [
    "それでおしまい！ これで、管理者にログインするためのスーパーユーザーアカウントを作成できます。"
   ]
  },
  {
   "cell_type": "raw",
   "metadata": {},
   "source": [
    "Command Line \n",
    "(backend) $ python manage.py createsuperuser "
   ]
  },
  {
   "cell_type": "markdown",
   "metadata": {},
   "source": [
    "その後、ローカルサーバーをもう一度起動します。"
   ]
  },
  {
   "cell_type": "raw",
   "metadata": {},
   "source": [
    "Command Line \n",
    "(backend) $ python manage.py runserver"
   ]
  },
  {
   "cell_type": "markdown",
   "metadata": {},
   "source": [
    "http:/ /127.0.0.1:8000/admin/に移動したら、ログインできます。\n",
    "図：管理者ホームページ\n",
    "\n",
    "Todosの横にある「+追加」をクリックし、3つの新しいToDoアイテムを作成します。両方のタイトルと本文を必ず追加してください。これが私のように見えるものです：\n",
    "\n",
    "図：管理者の仕事\n",
    "\n",
    "現時点では、Todo APIの伝統的なDjango部分を使用しています。このプロジェクトのためにWebページを作成するのは面倒なことではないので、WebサイトのURL、ビュー、またはテンプレートは必要ありません。必要なのはモデルだけで、残りはDjango RESTフレームワークが処理します。\n",
    "\n",
    "# Django REST Framework\n",
    "\n",
    "ローカルサーバーControl + cを停止し、pipenvを介してDjango REST Frameworkをインストールします。\n",
    "\n",
    "Command Line   \n",
    "(backend) $ pipenv install djangorestframework==3.8.2\n",
    " \n",
    "他のサードパーティ製アプリケーションと同じように、rest_frameworkをINSTALLED_APPS設定に追加します。また、REST_FRAMEWORKの下に存在するDjango RESTフレームワーク特有の設定の設定も始めたいと思います。まず、許可を明示的にAllowAnyに設定しましょう。この行はファイルの末尾にあります。\n",
    "\n",
    "#### CODE"
   ]
  },
  {
   "cell_type": "markdown",
   "metadata": {},
   "source": [
    "Django REST Frameworkには、暗黙的に設定されたデフォルト設定の長いリストがあります。あなたはここで完全なリストを見ることができます。 AllowAnyはその1つです。つまり、上記のように明示的に設定した場合、その効果はDEFAULT_PERMISSION_CLASSES設定がない場合とまったく同じです。\n",
    "\n",
    "デフォルト設定を知ることは時間がかかるものです。私達は本の過程でそれらの多くに精通するようになるでしょう。覚えておくべき主な注意点は、暗黙のデフォルト設定は、開発者がローカルの開発環境に飛び込んですぐに作業を開始できるように設計されていることです。ただし、デフォルト設定は本番環境には適していません。そのため、通常、プロジェクトの過程でそれらにいくつかの変更を加えます。\n",
    "\n",
    "これで、Django RESTフレームワークはインストールされました。次は何？\n",
    "\n",
    "前の章の、WebページとAPIの両方を作成したLibraryプロジェクトとは異なり、ここでは単にAPIを作成しています。したがって、テンプレートファイルや従来のDjangoビューを作成する必要はありません。\n",
    "\n",
    "代わりに、データベースモデルをWeb APIに変換するためにDjango RESTフレームワーク固有の3つのファイル、urls.py、views.py、およびserializers.pyを更新します。\n",
    "\n",
    "# URLs\n",
    "\n",
    "これらはAPIエンドポイントの入り口であるため、最初にURLから始めるのが好きです。従来のDjangoプロジェクトと同じように、urls.pyファイルでルーティングを設定できます。\n",
    "\n",
    "Djangoプロジェクトレベルのファイルtodo_project / urls.pyから始めます。 2行目にincludeをインポートし、api /にTodosアプリのルートを追加します。\n",
    "\n",
    "#### CODE\n"
   ]
  },
  {
   "cell_type": "markdown",
   "metadata": {},
   "source": [
    "次に、アプリレベルのtodos / urls.pyファイルを作成します。"
   ]
  },
  {
   "cell_type": "raw",
   "metadata": {},
   "source": [
    "(backend) $ touch todos/urls.py"
   ]
  },
  {
   "cell_type": "markdown",
   "metadata": {},
   "source": [
    "そしてそれを以下のコードで更新します\n",
    "\n",
    "#### CODE"
   ]
  },
  {
   "cell_type": "markdown",
   "metadata": {},
   "source": [
    "まだ作成していない2つのビュー（ListTodoとDetailTodo）を参照していることに注意してください。しかし、これでルーティングは完了しました。空の文字列 ''、つまりapi /にすべての仕事のリストが表示されます。そして、個々の仕事はそれぞれの主キーで利用可能になります。これはDjangoがすべてのデータベーステーブルに自動的に設定する値です。最初のエントリは1、2番目のエントリは2というように続きます。したがって、最初の作業は、最終的にAPIエンドポイントapi / 1 /に配置されます。\n",
    "\n",
    "# Serializers\n",
    "\n",
    "私たちが今のところどこにいるのかを見てみましょう。データベースモデルを作成してデータを追加する、従来のDjangoプロジェクトとアプリケーションから始めました。それからDjango RESTフレームワークをインストールしてURLを設定しました。モデルからのデータをJSONに変換してURLに出力する必要があります。そのため、シリアライザが必要です。\n",
    "\n",
    "Django REST Frameworkには、強力な組み込みシリアライザクラスが付属しています。このクラスは、少量のコードですばやく拡張できます。それが私たちがここですることです。まず、todosアプリで新しいserializers.pyファイルを作成してください。"
   ]
  },
  {
   "cell_type": "raw",
   "metadata": {},
   "source": [
    "Command Line (backend) \n",
    "$ touch todos/serializers.py "
   ]
  },
  {
   "cell_type": "markdown",
   "metadata": {},
   "source": [
    "それからそれを次のコードで更新します。\n",
    "\n",
    "#### CODE"
   ]
  },
  {
   "cell_type": "markdown",
   "metadata": {},
   "source": [
    "一番上に、models.pyファイルと同様にDjango RESTフレームワークからシリアライザをインポートしました。次に、クラスTodoSerializerを作成します。ここでのフォーマットは、Django自体でモデルクラスやフォームを作成する方法と非常によく似ています。どのモデルを使用するのか、および公開する特定のフィールドを指定します。 idはDjangoによって自動的に作成されるので、Todoモデルで定義する必要はありませんでしたが、詳細ビューで使用します。\n",
    "\n",
    "以上です。 Django REST FrameworkはデータをJSONに魔法のように変換し、Todoモデルのid、title、bodyのフィールドを公開します。\n",
    "\n",
    "最後にやるべきことは、views.pyファイルを設定することです。\n",
    "\n",
    "# Views\n",
    "\n",
    "伝統的なDjangoでは、ビューはテンプレートに送るデータをカスタマイズするために使われます。 DjangoのRESTフレームワークでも、ビューは同じことを行いますが、シリアル化されたデータに対して行われます。\n",
    "\n",
    "Django RESTフレームワークビューの構文は、通常のDjangoビューと意図的に非常によく似ており、通常のDjangoとまったく同じですが、Django RESTフレームワークは一般的なユースケースのための一般的なビューを提供します。それが私たちがここで使うものです。\n",
    "\n",
    "次のようにtodos / views.pyファイルを更新してください。\n",
    "\n",
    "#### CODE"
   ]
  },
  {
   "cell_type": "markdown",
   "metadata": {},
   "source": [
    "一番上に、Django REST Frameworkの総称ビューと、models.pyファイルとserializers.pyファイルの両方をインポートします。\n",
    "\n",
    "todos / urls.pyファイルから、2つのルートがあり、したがって2つの異なるビューがあることを思い出してください。 ListAPIViewを使用してすべての仕事を表示し、RetrieveAPIViewを使用して単一のモデルインスタンスを表示します。\n",
    "\n",
    "熱心な読者は、ここのコードには少し冗長性があることに気づくでしょう。 拡張された汎用ビューが異なっていても、ビューごとに基本的にquerysetとserializer_classを繰り返します。 この本の後半で、ビューセットとルーターについて学びます。"
   ]
  },
  {
   "cell_type": "markdown",
   "metadata": {},
   "source": [
    "この問題に対処し、はるかに少ないコードで同じAPIビューとURLを作成できるようにします。\n",
    "\n",
    "しかし、今のところこれで終わりです。私たちのAPIは消費する準備ができています。ご覧のとおり、Django RESTフレームワークとDjangoの唯一の違いは、Django RESTフレームワークではserializers.pyファイルを追加する必要があり、テンプレートファイルは必要ないということです。それ以外の場合、urls.pyファイルとviews.pyファイルは同様に機能します。\n",
    "\n",
    "# Consuming the API \n",
    "\n",
    "従来からAPIを使用することは困難でした。特定のHTTP応答または要求の本文とヘッダーに含まれているすべての情報を視覚化することは、単純ではありませんでした。\n",
    "\n",
    "代わりに、ほとんどの開発者は前の章で見たcURLのようなコマンドラインHTTPクライアント、またはHTTPieを使いました。\n",
    "\n",
    "2012年にサードパーティ製のソフトウェア製品Postmanが発売され、APIと対話するための視覚的で機能豊富な方法を望んでいる世界中の何百万もの開発者によって今使用されています。\n",
    "\n",
    "しかし、Django REST Frameworkの最も驚くべきことの1つは、すぐに使用できる強力なブラウズ可能なAPIが同梱されていることです。 APIを使用するためにもっとカスタマイズが必要な場合は、Postmanのようなツールを利用できます。しかし多くの場合、閲覧可能なAPIは十分すぎるほどです。\n",
    "\n",
    "# Browsable API\n",
    "\n",
    "ブラウズ可能なAPIを使って、データとやり取りしましょう。ローカルサーバーが稼働していることを確認してください。"
   ]
  },
  {
   "cell_type": "raw",
   "metadata": {},
   "source": [
    "Command Line \n",
    "(backend) $ python manage.py runserver "
   ]
  },
  {
   "cell_type": "markdown",
   "metadata": {},
   "source": [
    "次に、http：/ / 127.0.0.1：8000 / api /に移動して、作業中のAPIリストビューのエンドポイントを確認します。\n",
    "\n",
    "図：APIリスト\n",
    "\n",
    "このページには、データベースモデルの前半で作成した3つの仕事が表示されます。 APIエンドポイントは複数の項目を表示するため、コレクションと呼ばれます。\n",
    "\n",
    "ブラウズ可能なAPIを使ってできることはたくさんあります。まず始めに、生のJSONビュー（実際にはインターネットで送信されるもの）を見てみましょう。右上隅にある「GET」ボタンをクリックしてJSONを選択します。"
   ]
  },
  {
   "cell_type": "markdown",
   "metadata": {},
   "source": [
    "図：API JSON\n",
    "\n",
    "あなたがhttp:/　/127.0.0.1：8000 / api /で私達のリストビューページに戻るならば、我々はさらなる情報があるのを見ることができます。 HTTP動詞GETはデータの読み取りに使用され、POSTはデータの更新または作成に使用されることを思い出してください。\n",
    "\n",
    "「List Todo」の下にGET / api /と書かれているので、このエンドポイントでGETを実行したことがわかります。その下にはHTTP 200 OKと書かれていますが、これは私たちのステータスコードです。すべてうまくいっています。その下に決定的にそれが許可を示しています：GET、HEAD、OPTIONS。これは読み取り専用のエンドポイントであるため、POSTは含まれていません。GETのみを実行できます。\n",
    "\n",
    "各モデルを表示するDetailTodoビューも作成しました。これはインスタンスと呼ばれます。最初のインスタンスに移動するには、http：/ / 127.0.0.1：8000 / api / 1 /に移動します。\n",
    "\n",
    "図：API詳細\n",
    "\n",
    "次のエンドポイントに移動することもできます。"
   ]
  },
  {
   "cell_type": "raw",
   "metadata": {},
   "source": [
    "http://127.0.0.1:8000/api/2 　\n",
    "http://127.0.0.1:8000/api/3"
   ]
  },
  {
   "cell_type": "markdown",
   "metadata": {},
   "source": [
    "# CORS\n",
    "\n",
    "最後に必要な作業が1つあります。それが、クロスオリジンリソース共有（CORS）に関するものです。クライアントが異なるドメイン（mysite.comとyoursite.com）またはポート（localhost：3000とlocalhost：8000）でホストされているAPIと対話するときはいつでも、潜在的なセキュリティ問題があります。\n",
    "\n",
    "具体的には、CORSでは、クロスドメイン要求を許可するかどうか、またいつ許可するかをクライアントが判断できるように、サーバーに特定のHTTPヘッダーを含める必要があります。\n",
    "\n",
    "私たちのDjango APIバックエンドは、ローカル開発用の別のポートと展開された別のドメインにある専用のフロントエンドと通信します。\n",
    "\n",
    "これを扱う最も簡単な方法、そしてDjango RESTフレームワークが推奨する方法は、私たちの設定に基づいて適切なHTTPヘッダを自動的に含めるミドルウェアを使うことです。\n",
    "\n",
    "使用するパッケージは、既存のプロジェクトに簡単に追加できるdjango-cors-headersです。\n",
    "\n",
    "最初にControl cを使って私たちのサーバーを終了し、それからPipenvを使ってdjango-cors-headersをインストールしてください。"
   ]
  },
  {
   "cell_type": "raw",
   "metadata": {},
   "source": [
    "Command Line \n",
    "(backend) $ pipenv install django-cors-headers==2.4.0 "
   ]
  },
  {
   "cell_type": "markdown",
   "metadata": {},
   "source": [
    "次に、settings.pyファイルを3か所で更新します。\n",
    "\n",
    "INSTALLED_APPSにコルシェーダを追加する  \n",
    "2つの新しいミドルウェアを追加する  \n",
    "CORS_ORIGIN_WHITELISTコードを作成する  "
   ]
  },
  {
   "cell_type": "markdown",
   "metadata": {},
   "source": [
    "2つの新しいミドルウェアがMIDDLEWARE設定の上部に表示されることが非常に重要です。 また、localhost：3000というドメインを使用していることにも注意してください。これがReactのデフォルトポートであり、フロントエンドを構築するときに使用されます。 後で展開した場合"
   ]
  },
  {
   "cell_type": "markdown",
   "metadata": {},
   "source": [
    "ドメインmysite.comへのフロントエンドアプリ、そしてそのドメインをホワイトリスト設定に追加します。\n",
    "\n",
    "以上です！これでバックエンドは完成しました。次の章で使用するので、サーバーが稼働していることを確認してください。\n",
    "\n"
   ]
  },
  {
   "cell_type": "raw",
   "metadata": {},
   "source": [
    "Command Line \n",
    "(backend) $ python manage.py runserver"
   ]
  },
  {
   "cell_type": "markdown",
   "metadata": {},
   "source": [
    "# Conclusion \n",
    "\n",
    "最小限のコードで、Django RESTフレームワークはDjango APIを一から作成することを可能にしました。従来のDjangoに必要なものはmodels.pyファイルとurls.pyルートだけでした。 views.pyとserializers.pyファイルは完全にDjango REST Framework特有のものです。\n",
    "\n",
    "前の章の例とは異なり、私たちの目標は単にAPIを作成することであったため、このプロジェクトのWebページは作成しませんでした。しかし、将来的にはいつでも、私たちは簡単にできるのです。既存のデータベースモデルを公開するには、新しいビュー、URL、およびテンプレートを追加するだけです。\n",
    "\n",
    "この例で重要な点は、CORSヘッダーを追加し、ドメインlocalhost：3000のみを明示的に設定してAPIにアクセスできるようにすることです。 CORSヘッダーを正しく設定することは、最初にAPIの構築を開始するときに混乱しやすいものです。\n",
    "\n",
    "これからできることはもっとたくさんありますが、結局のところDjangoのAPIを作るのはモデルを作り、いくつかのURLルートを書き、そしてDjango RESTフレームワークのシリアライザとビューが提供するちょっとした魔法を加えることです。\n",
    "\n",
    "次の章ではReactフロントエンドを構築し、それをTodo APIバックエンドに接続します。"
   ]
  },
  {
   "cell_type": "code",
   "execution_count": null,
   "metadata": {},
   "outputs": [],
   "source": []
  }
 ],
 "metadata": {
  "kernelspec": {
   "display_name": "Python 3",
   "language": "python",
   "name": "python3"
  },
  "language_info": {
   "codemirror_mode": {
    "name": "ipython",
    "version": 3
   },
   "file_extension": ".py",
   "mimetype": "text/x-python",
   "name": "python",
   "nbconvert_exporter": "python",
   "pygments_lexer": "ipython3",
   "version": "3.7.0"
  }
 },
 "nbformat": 4,
 "nbformat_minor": 2
}
