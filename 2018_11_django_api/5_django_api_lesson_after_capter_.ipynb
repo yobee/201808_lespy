{
 "cells": [
  {
   "cell_type": "markdown",
   "metadata": {},
   "source": [
    "chapter4  \n",
    "https://docs.google.com/document/d/1crrzBB0M0R1imV4DL9kxb8trrW-l-ZXs91Cmm2W-CCI/edit?usp=sharing  "
   ]
  },
  {
   "cell_type": "markdown",
   "metadata": {},
   "source": [
    "chapter5  \n",
    "https://docs.google.com/document/d/1zM-tQVcMmffDy66AyjRfK4oF_fLjuXnNmA4WMvh_H7E/edit?usp=sharing"
   ]
  },
  {
   "cell_type": "markdown",
   "metadata": {},
   "source": [
    "chapter6  \n",
    "https://docs.google.com/document/d/1-beuETqD7Q7mi-N8ZXVITjldYTWDqrOuJ1u_-kqygNs/edit?usp=sharing"
   ]
  },
  {
   "cell_type": "markdown",
   "metadata": {},
   "source": [
    "chapter7  \n",
    "https://docs.google.com/document/d/1Xnp9M8UdmVa19m8cBzKIC2kHnqdZ5PQ5I-xa-s6r_Wk/edit?usp=sharing"
   ]
  },
  {
   "cell_type": "code",
   "execution_count": null,
   "metadata": {},
   "outputs": [],
   "source": []
  }
 ],
 "metadata": {
  "kernelspec": {
   "display_name": "Python 3",
   "language": "python",
   "name": "python3"
  },
  "language_info": {
   "codemirror_mode": {
    "name": "ipython",
    "version": 3
   },
   "file_extension": ".py",
   "mimetype": "text/x-python",
   "name": "python",
   "nbconvert_exporter": "python",
   "pygments_lexer": "ipython3",
   "version": "3.7.0"
  }
 },
 "nbformat": 4,
 "nbformat_minor": 2
}
