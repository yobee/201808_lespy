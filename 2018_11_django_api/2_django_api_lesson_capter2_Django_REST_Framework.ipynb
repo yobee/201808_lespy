{
 "cells": [
  {
   "cell_type": "markdown",
   "metadata": {},
   "source": [
    "Django RESTフレームワークはDjango Webフレームワークと連携してWeb APIを作成します。   \n",
    "Django Rest FrameworkだけでWeb APIを構築することはできません。   \n",
    "Django自身がインストールされ設定された後で、常にプロジェクトに追加されなければなりません。\n",
    "\n",
    "この章では、伝統的なDjangoとDjango RESTフレームワークの類似点と相違点をレビューします。  \n",
    "最も重要なのは、DjangoがWebページを含むWebサイトを作成し、Django REST FrameworkがJSONを返す利用可能なHTTP動詞を含むURLエンドポイントのコレクションであるWeb APIを作成することです。\n",
    "\n",
    "これらの概念を説明するために、伝統的なDjangoを使って基本的なLibrary Webサイトを構築し、それをDjango REST Frameworkを使ってWeb APIに拡張します。\n",
    "\n",
    "コンピュータにPython 3とPipenvがすでにインストールされていることを確認してください。  \n",
    "あなたが助けを必要とするならば、完全な指示はここで見つけることができます。\n",
    "\n",
    "# Traditional Django(伝統的なジャンゴ)\n",
    "\n",
    "まず、コードを保存するために私たちのコンピューターに専用のディレクトリが必要です。  \n",
    "これはどこにでも置くことができますが、便宜上、Macを使用している場合は、デスクトップフォルダに配置できます。  \n",
    "場所は実際には関係ありません。  \n",
    "簡単にアクセスできる必要があります。"
   ]
  },
  {
   "cell_type": "raw",
   "metadata": {},
   "source": [
    "Command Line \n",
    "$ cd ~/Desktop  \n",
    "$ mkdir code && cd code  \n",
    "$ mkdir library && cd library  "
   ]
  },
  {
   "cell_type": "markdown",
   "metadata": {},
   "source": [
    "今、私たちはこの本の中のすべてのコードのための場所になるコードフォルダーの中にいます。   \n",
    "次のステップは、私たちの図書館サイトのために専用のディレクトリを作成し、Pipenvを通してDjangoをインストールし、そしてシェルコマンドを使って仮想環境に入ることです。   \n",
    "新しいPythonプロジェクトごとに専用の仮想環境を常に使用する必要があります。"
   ]
  },
  {
   "cell_type": "raw",
   "metadata": {},
   "source": [
    "Command Line \n",
    "$ pipenv install django==2.1\n",
    "$ pipenv shell\n",
    "(library) $"
   ]
  },
  {
   "cell_type": "markdown",
   "metadata": {},
   "source": [
    "Pipenvは、現在のディレクトリ内にPipfileとPipfile.lockを作成します。   \n",
    "コマンドラインの前の括弧内の（コード）は、仮想環境がアクティブであることを示しています。  \n",
    "伝統的なDjango Webサイトは、単一のプロジェクトと、個別の機能を表す1つ（または複数）のアプリケーションから構成されています。     \n",
    "startprojectコマンドで新しいプロジェクトを作成しましょう。   \n",
    "期間を含めるのを忘れないでください。 最後に、現在のコードをインストールします。"
   ]
  },
  {
   "cell_type": "markdown",
   "metadata": {},
   "source": [
    "ディレクトリ。ピリオドを含めないと、Djangoはデフォルトで追加のディレクトリを作成します。"
   ]
  },
  {
   "cell_type": "raw",
   "metadata": {},
   "source": [
    "Command Line   \n",
    "(library) $ django-admin startproject library_project ."
   ]
  },
  {
   "cell_type": "raw",
   "metadata": {},
   "source": [
    "Djangoは自動的に新しいプロジェクトを生成します。これはtreeコマンドで見ることができます。   \n",
    "（注：Macでtreeがうまく動かない場合は、Homebrew：brew install tr​​eeを使ってインストールしてください。）  \n",
    "コマンドライン\n",
    "\n",
    "ファイルには以下の役割があります。  \n",
    "__init__.pyはディレクトリをパッケージとして扱うためのPythonの方法です。それは空です  \n",
    "settings.pyは私達のプロジェクトのための全ての設定を含みます 。   \n",
    "urls.pyは最上位URLルートを制御します。    \n",
    "wsgi.pyはWebサーバーゲートウェイインターフェースを表し、Djangoが最終的なWebページを提供するのを助けます。  \n",
    "manage.pyはローカルWebサーバの起動や新しいアプリの作成などのさまざまなDjangoコマンドを実行します。  \n",
    "\n",
    "データベースをDjangoのデフォルト設定と同期させるためにmigrateを実行し、ローカルのDjango Webサーバを起動します。\n",
    "\n",
    "コマンドライン\n",
    "Webブラウザを開いてhttp:// 127.0.0.1:8000/に移動し、プロジェクトが正常にインストールされたことを確認します。"
   ]
  },
  {
   "cell_type": "markdown",
   "metadata": {},
   "source": [
    "# FIRST APP"
   ]
  },
  {
   "cell_type": "markdown",
   "metadata": {},
   "source": [
    "次の典型的なステップは、機能の個別の分野を表すアプリの追加を開始することです。 1つのDjangoプロジェクトで複数のアプリケーションをサポートできます。\n",
    "\n",
    "Control cを入力してローカルサーバーを停止してから、本のアプリを作成します。\n",
    "\n",
    "コマンドライン\n",
    "\n",
    "それでは、Djangoがどのファイルを生成したのかを見てみましょう。\n",
    "\n",
    "コマンドライン\n",
    "\n",
    "各アプリには、それをPythonパッケージとして識別する__init__.pyファイルがあります。  \n",
    "新たに6つのファイルが作成されました。\n",
    "\n",
    "admin.pyは組み込みのDjango管理アプリの設定ファイルです。  \n",
    "apps.pyはアプリ自体の設定ファイルで、migrations /ディレクトリはデータベース変更のための移行ファイルを格納します  \n",
    "models.pyはデータベースモデルを定義する場所です。  \n",
    "tests.pyはアプリ固有のテスト用です。  \n",
    "views.pyは、Webアプリケーションのリクエスト/レスポンスロジックを処理する場所です。  \n",
    "\n",
    "通常、開発者はルーティングのためにも各アプリ内にurls.pyファイルを作成します。  \n",
    "\n",
    "私たちのLibraryプロジェクトがホームページ上のすべての本をリストアップするようにファイルを作りましょう。   \n",
    "settings.pyファイルに選択したテキストエディタを開きます。  \n",
    "最初のステップは、新しいアプリをINSTALLED_APPS構成に追加することです。  \n",
    "私たちは常に新しいアプリを追加します"
   ]
  },
  {
   "cell_type": "markdown",
   "metadata": {},
   "source": [
    "Djangoは順番にそれらを読みますので、adminやauthのような組み込みのコアDjangoアプリがロードされる前に既にロードされていることを望んでいます。"
   ]
  },
  {
   "cell_type": "markdown",
   "metadata": {},
   "source": [
    "CODE"
   ]
  },
  {
   "cell_type": "markdown",
   "metadata": {},
   "source": [
    "次にmigrateを実行してデータベースを変更内容と同期させます。\n",
    "\n",
    "コマンドライン  \n",
    "（ライブラリ）$ python manage.py migrate\n",
    "\n",
    "伝統的なDjangoの各Webページにはいくつかのファイルが必要です：ビュー、URL、そしてテンプレートです。   \n",
    "しかし、最初にデータベースモデルが必要になるので、そこから始めましょう。"
   ]
  },
  {
   "cell_type": "markdown",
   "metadata": {},
   "source": [
    "# Models"
   ]
  },
  {
   "cell_type": "markdown",
   "metadata": {},
   "source": [
    "テキストエディタでbooks / models.pyファイルを開き、次のように更新します。 \n",
    "\n",
    "CODE"
   ]
  },
  {
   "cell_type": "markdown",
   "metadata": {},
   "source": [
    "これは基本的なDjangoモデルで、一番上の行でDjangoからモデルをインポートし、それを拡張するBookクラスを作成します。\n",
    "title、subtitle、author、isbnの4つのフィールドがあります。 本のタイトルが後で管理者に表示されるように、__str__メソッドも含みます。\n",
    "\n",
    "ISBNは、発行されたすべての書籍に割り当てられている13文字の一意の識別子です。\n",
    "\n",
    "新しいデータベースモデルを作成したので、それに沿って移行ファイルを作成する必要があります。 アプリ名の指定はオプションですが、こちらをお勧めします。 python manage.pyとタイプすればいいだけです。"
   ]
  },
  {
   "cell_type": "raw",
   "metadata": {},
   "source": [
    "makemigrationsですが、データベースが変更されたアプリケーションが複数ある場合は、両方ともmigrationsファイルに追加されるため、将来のデバッグがより困難になります。移行ファイルはできるだけ特定のものにしてください。\n",
    "\n",
    "それからデータベースを更新するためにmigrateを実行してください。\n",
    "\n",
    "コマンドライン  \n",
    "（ライブラリ）$ python manage.py makemigrations books  \n",
    "（ライブラリ）$ python manage.py migrate    "
   ]
  },
  {
   "cell_type": "markdown",
   "metadata": {},
   "source": [
    "\n",
    " \n",
    "ここまでは順調ですね。これのどれかがあなたにとって新しいと感じるならば、私はあなたが伝統的なDjangoのより詳細な説明のために一時停止して初心者のためのDjangoをレビューすることを勧めます。\n",
    "\n",
    "# Admin\n",
    "\n",
    "内蔵のDjangoアプリを使って、新しいモデルにデータを入力することができます。  \n",
    "しかし、最初に2つのことをしなければなりません。スーパーユーザーアカウントを作成し、本アプリが表示されるようにadmin.pyを更新します。\n",
    "\n",
    "スーパーユーザーアカウントから始めます。コマンドラインで次のコマンドを実行します。\n",
    "\n",
    "コマンドライン  \n",
    "（ライブラリ）$ python manage.py creatinguperuser\n",
    " \n",
    "プロンプトに従ってユーザー名、電子メール、およびパスワードを入力します。  \n",
    "セキュリティ上の理由から、パスワードを入力している間、テキストは画面に表示されません。\n",
    "\n",
    "書籍アプリのadmin.pyファイルを更新します。\n",
    "\n",
    "CODE\n",
    "\n",
    "必要なのはこれだけです。再度ローカルサーバを起動してください。\n",
    "\n",
    "コマンドライン  \n",
    "（ライブラリ）$ python manage.py runserver\n",
    "\n",
    "案内する\n",
    "http:/ /127.0.0.1:8000/adminしてログインします。\n",
    "\n",
    "図：管理者ログイン\n",
    "\n",
    "あなたは管理者ホームページにリダイレクトされます。"
   ]
  },
  {
   "cell_type": "markdown",
   "metadata": {},
   "source": [
    "図：管理者ホームページ\n",
    "\n",
    "本のリンクをクリックしてください。\n",
    "\n",
    "図：管理書籍ページ\n",
    "\n",
    "それから右上隅の「本を追加」ボタン。\n",
    "\n",
    "図：管理者が本を追加\n",
    "\n",
    "私はDjango for Beginners本の詳細を入力しました。   \n",
    "ここに好きなテキストを入力できます。   \n",
    "純粋にデモンストレーションを目的としています。 [保存]ボタンをクリックすると、現在のすべてのエントリを一覧表示する[書籍]ページにリダイレクトされます。\n",
    "\n",
    "図：管理書籍リスト\n",
    "\n",
    "私たちの伝統的なDjangoプロジェクトは現在データを持っていますが、それをWebページとして公開する方法が必要です。   \n",
    "つまり、ビュー、URL、およびテンプレートファイルを作成するということです。 今それをしましょう。\n",
    "\n",
    "# View\n",
    "\n",
    "views.pyファイルは、データベースモデルコンテンツの表示方法を制御します。 すべての本をリストしたいので、組み込みの一般クラスListViewを使用できます。\n",
    "\n",
    "books / views.pyファイルを更新してください。\n",
    "\n",
    "CODE"
   ]
  },
  {
   "cell_type": "markdown",
   "metadata": {},
   "source": [
    "一番上の行に、ListViewとBookモデルをインポートしました。   \n",
    "次に、使用するモデルとテンプレート（まだ作成されていない）を指定するBookListViewクラスを作成します。   \n",
    "実用的なWebページを開く前に、さらに2つのステップがあります。テンプレートを作成し、URLを構成することです。 URLから始めましょう。\n",
    "\n",
    "# URLs\n",
    "\n",
    "プロジェクトレベルのurls.pyファイルとブックアプリケーション内のファイルの両方を設定する必要があります。   \n",
    "ユーザーが私たちのサイトにアクセスすると、まずlibrary_project / urls.pyファイルと対話しますので、まずそれを設定しましょう。 \n",
    "\n",
    "CODE"
   ]
  },
  {
   "cell_type": "markdown",
   "metadata": {},
   "source": [
    "上の2行は、組み込みの管理アプリ、ルートへのパスをインポートし、どちらがブックスアプリで使用されるかを含みます。   \n",
    "ユーザーが/ admin /にアクセスすると、それらは管理アプリケーションにリダイレクトされます。   \n",
    "書籍アプリのルートには空の文字列「」を使用します。  \n",
    "これは、ホームページ上のユーザーが書籍アプリに直接リダイレクトされることを意味します。\n",
    "\n",
    "これで、books / urls.pyファイルを構成できます。 しかし、おっと！ なんらかの理由でDjangoはデフォルトではアプリにurls.pyファイルを含まないので、自分で作成する必要があります。\n",
    "\n",
    "コマンドライン  \n",
    "（ライブラリ）$ touch books / urls.py\n",
    "\n",
    "今すぐテキストエディタ内で新しいファイルを更新します。 コード"
   ]
  },
  {
   "cell_type": "markdown",
   "metadata": {},
   "source": [
    "その後、BookListViewの使用を指定するbooks / urls.pyにリダイレクトされます。このビューファイルでは、BookモデルをListViewと共に使用して、すべての本を一覧表示しています。\n",
    "\n",
    "最後のステップは、実際のWebページのレイアウトを制御するテンプレートファイルを作成することです。このビューでは、その名前をbook_list.htmlとしてすでに指定しています。その場所には2つのオプションがあります。デフォルトでは、Djangoテンプレートローダーは、booksアプリ内のbooks / templates / books / book_list.htmlにあるテンプレートを探します。代わりに、プロジェクトレベルのテンプレートディレクトリを別に作成して、そこでsettings.pyファイルを更新することもできます。\n",
    "\n",
    "あなたが最終的にあなた自身のプロジェクトで使うものは、個人的な好みです。ここではデフォルトの構造を使います。あなたが2番目のアプローチに興味があるなら、本Django For Beginnersをチェックしてください。\n",
    "\n",
    "まずブックアプリ内に新しいtemplatesフォルダーを作成し、次にその中にbooksフォルダーを作成し、最後にbook_list.htmlファイルを作成します。\n",
    "\n"
   ]
  },
  {
   "cell_type": "raw",
   "metadata": {},
   "source": [
    "コマンドライン  \n",
    "（ライブラリ）$ mkdir books / templates    \n",
    "（ライブラリ）$ mkdir books / templates / books  \n",
    "（ライブラリ）$ touch books / templates / books / book_list.html  "
   ]
  },
  {
   "cell_type": "markdown",
   "metadata": {},
   "source": [
    "今すぐテンプレートファイルを更新します。\n",
    "\n",
    "HTML \n",
    "\n",
    "Djangoには基本的なロジックを考慮したテンプレート言語が付属しています。ここでは、利用可能なすべての書籍をループするためにforタグを使用します。テンプレートタグは、左大括弧と右大括弧および括弧内に含める必要があります。そのため、形式は常に{％for ...％}になります。その後、後で{％endfor％}を使用してループを閉じる必要があります。\n",
    "\n",
    "私たちがループしているのはListViewのおかげで私たちのモデルの中で利用可能なすべての本を含むオブジェクトです。このオブジェクトの名前はobject_listです。したがって、それぞれの本をループするために、{％for book_object_list％}と書きます。そして、私たちのモデルから各フィールドを表示します。\n",
    "\n",
    "# Webpage\n",
    "\n",
    "これでローカルのDjangoサーバーを起動してWebページを見ることができます。"
   ]
  },
  {
   "cell_type": "markdown",
   "metadata": {},
   "source": [
    "コマンドライン  \n",
    "（ライブラリ）$ python manage.py runserver\n",
    " \n",
    "http://127.0.0.1:8000/にあるホームページに移動します。\n",
    "\n",
    "図：本のWebページ\n",
    "\n",
    "管理者に本を追加すると、それらもそれぞれここに表示されます。\n",
    "\n",
    "これは伝統的なDjango Webサイトの非常に素早い実行でした。それではAPIを追加しましょう。"
   ]
  },
  {
   "cell_type": "markdown",
   "metadata": {},
   "source": [
    "# Django REST Framework\n",
    "\n",
    "Django REST Frameworkは他のサードパーティ製アプリと同じように追加されています。 ローカルサーバーControl cがまだ実行されている場合は、必ず終了してください。 それからコマンドラインで以下を入力してください。\n",
    "\n",
    "コマンドライン  \n",
    "（ライブラリ）$ pipenv install djangorestframework == 3.8.2\n",
    "\n",
    "settings.pyファイルのINSTALLED_APPS設定にrest_frameworkを追加してください。 ほとんどのプロジェクトでアプリの数が急増しているため、サードパーティアプリとローカルアプリを次のように区別します。\n",
    "\n",
    "CODE"
   ]
  },
  {
   "cell_type": "markdown",
   "metadata": {},
   "source": [
    "最終的に私たちのAPIはJSONのすべての本をリストアップする単一のエンドポイントを公開するでしょう。 \n",
    "そのため、新しいURLルート、新しいビュー、および新しいシリアライザファイルが必要になります（これについては、もうすぐです）。\n",
    "\n",
    "私たちがこれらのファイルを整理することができる複数の方法がありますが、私の好ましいアプローチは専用のapiアプリを作成することです。  \n",
    "そうすれば、将来さらにアプリを追加する場合でも、各アプリに専用Webページに必要なモデル、ビュー、テンプレート、およびURLを含めることができますが、プロジェクト全体のすべてのAPI固有ファイルは専用のAPIアプリに存在します。"
   ]
  },
  {
   "cell_type": "markdown",
   "metadata": {},
   "source": [
    "まず新しいAPIアプリを作成しましょう。\n",
    "\n",
    "コマンドライン  \n",
    "（ライブラリ）$ python manage.py startapp   \n",
    "apiそれをINSTALLED_APPSに追加します。  \n",
    "\n",
    "CODE"
   ]
  },
  {
   "cell_type": "markdown",
   "metadata": {},
   "source": [
    "apiアプリには独自のデータベースモデルがないため、通常のように移行ファイルを作成してデータベースを更新する必要はありません。\n",
    "\n",
    "# URLs\n",
    "\n",
    "URLの設定から始めましょう。   \n",
    "APIエンドポイントを追加することは、従来のDjangoアプリのルートを設定するのと同じです。   \n",
    "まずプロジェクトレベルでは、apiアプリを含めてそのURLルートを設定する必要があります。  \n",
    "これはapi /になります。\n",
    "\n",
    "CODE"
   ]
  },
  {
   "cell_type": "markdown",
   "metadata": {},
   "source": [
    "その後、apiアプリ内にurls.pyファイルを作成します。\n",
    "\n"
   ]
  },
  {
   "cell_type": "raw",
   "metadata": {},
   "source": [
    "コマンドライン  \n",
    "（図書館）$ touch api / urls.py"
   ]
  },
  {
   "cell_type": "markdown",
   "metadata": {},
   "source": [
    "そしてそれを次のように更新します。\n",
    "\n",
    "CODE\n",
    "\n",
    "全てセット！"
   ]
  },
  {
   "cell_type": "markdown",
   "metadata": {},
   "source": [
    "# View\n",
    "\n",
    "その次は、Django REST Frameworkに組み込まれている一般クラスビューに依存するviews.pyファイルです。 これらは故意にDjangoの伝統的なクラスベースのビューをフォーマット的に模倣したものですが、同じものではありません。\n",
    "\n",
    "混乱を避けるために、一部の開発者はAPIビューファイルapiviews.pyまたはapi.pyを呼び出します。 個人的には、専用のAPIアプリケーション内で作業する場合、Django RESTフレームワークビューファイルviews.pyを呼び出すだけではわかりにくいと思いますが、この点について意見は異なります。\n",
    "\n",
    "views.pyファイル内で、次のように更新します。\n",
    "\n",
    "CODE"
   ]
  },
  {
   "cell_type": "markdown",
   "metadata": {},
   "source": [
    "一番上の行に、Django REST Frameworkの総称クラスのビュー、書籍アプリケーションのモデル、およびapiアプリケーションのシリアライザをインポートします（次にシリアライザを作成します）。\n",
    "\n",
    "次に、ListAPIViewを使用して、すべての書籍インスタンスに対して読み取り専用のエンドポイントを作成するBookAPIViewを作成します。   \n",
    "利用可能な多くの一般的な見解があります、そして我々は後の章でそれらをさらに探求するでしょう。\n",
    "\n",
    "このビューで必要な唯一の2つのステップは、すべての利用可能な書籍であるクエリーセットを指定し、次にBookSerializerになるserializer_classを指定することです。\n",
    "\n",
    "# Serializers\n",
    "\n",
    "シリアライザは、データをインターネット経由で使いやすい形式（通常はJSON）に変換し、APIエンドポイントに表示します。   \n",
    "以降の章では、シリアライザとJSONについても詳しく説明します。 今のところ私はそれを作成することがいかに簡単であるかを実証したいです。"
   ]
  },
  {
   "cell_type": "markdown",
   "metadata": {},
   "source": [
    "DjangoモデルをJSONに変換するDjango RESTフレームワーク付きシリアライザ。\n",
    "\n",
    "私たちのAPIアプリ内にserializers.pyファイルを作ります。\n",
    "\n",
    "コマンドライン  \n",
    "（ライブラリ）$ touch api / serializers.py\n",
    "\n",
    "その後、テキストエディタで次のように更新します。\n",
    "\n",
    "CODE"
   ]
  },
  {
   "cell_type": "markdown",
   "metadata": {},
   "source": [
    "一番上の行では、Django REST FrameworkのシリアライザクラスとBookモデルをbooksアプリケーションからインポートしています。   \n",
    "Django RESTフレームワークのModelSerializerをBookSerializerクラスに拡張して、私たちのデータベースモデルBookと、公開したいデータベースフィールド（title、subtitle、author、およびisbn）を指定します。\n",
    "\n",
    "それでおしまい！ もう終わった。\n",
    "\n",
    "# cURL\n",
    "\n",
    "私たちは、私たちのAPIエンドポイントがどのように見えるのか見たいです。  \n",
    "私達はそれがURL http:/ /127.0.0.1:8000/api/でJSONを返すべきであることを知っています。 ローカルのDjangoサーバーが稼働していることを確認しましょう。\n",
    "\n",
    "コマンドライン  \n",
    "（ライブラリ）$ python manage.py runserver\n",
    "\n",
    "今、新しい、2番目のコマンドラインコンソールを開きます。 既存のコマンドラインコンソールで実行されているAPIにアクセスするためにそれを使用します。\n",
    "\n",
    "一般的なcURLプログラムを使用して、コマンドラインからHTTPリクエストを実行できます。  \n",
    "基本的なGETリクエストで必要なのはcurlと呼び出したいURLを指定することです。\n",
    "\n",
    "コマンドライン  \n",
    "$ curl http:/ /127.0.0.1:8000/api/"
   ]
  },
  {
   "cell_type": "markdown",
   "metadata": {},
   "source": [
    "データはすべてJSON形式で存在しますが、形式が不適切であり、理解するのは困難です。幸いなことに、Django REST Frameworkは私たちにとってさらに驚きを持っています。  \n",
    "それは私たちのAPIエンドポイントのための強力なビジュアルモードです。\n",
    "\n",
    "# Browsable API\n",
    "\n",
    "ローカルサーバーがまだ最初のコマンドラインコンソールで実行されている状態で、Webブラウザのhttp：/ / 127.0.0.1：8000 / api /にあるAPIエンドポイントに移動します。\n",
    "\n",
    "図：ブックAPI\n",
    "\n",
    "うわーそれを見て！ Django REST Frameworkはデフォルトでこの視覚化を提供します。そしてこのページにはたくさんの機能が組み込まれており、それらについては本書全体を通して説明します。  \n",
    "今のところ、このページと生のJSONエンドポイントを比較してください。 「GET」ボタンをクリックして、ドロップダウンメニューから「json」を選択してください。\n",
    "\n",
    "図：ブックAPI JSON\n",
    "\n",
    "これが、私たちのAPIエンドポイントからの生のJSONのようなものです。私たちはDjango RESTフレームワークのバージョンがより魅力的であることに同意できると思います。\n",
    "\n",
    "# Conclusion\n",
    "\n",
    "この章では多くの資料を取り上げましたので、少し混乱しても気にしないでください。まず、私たちは伝統的なDjango Library Webサイトを作成しました。  \n",
    "それからDjango RESTフレームワークを追加し、最小限のコードでAPIエンドポイントを追加することができました。\n",
    "\n",
    "次の2つの章では、独自のTodo APIバックエンドを構築し、それをReact-poweredフロントエンドに接続して、この理論が実際にどのように組み合わされるかを固めるのに役立つ完全な実例を示します。"
   ]
  },
  {
   "cell_type": "code",
   "execution_count": null,
   "metadata": {},
   "outputs": [],
   "source": []
  }
 ],
 "metadata": {
  "kernelspec": {
   "display_name": "Python 3",
   "language": "python",
   "name": "python3"
  },
  "language_info": {
   "codemirror_mode": {
    "name": "ipython",
    "version": 3
   },
   "file_extension": ".py",
   "mimetype": "text/x-python",
   "name": "python",
   "nbconvert_exporter": "python",
   "pygments_lexer": "ipython3",
   "version": "3.7.0"
  }
 },
 "nbformat": 4,
 "nbformat_minor": 2
}
